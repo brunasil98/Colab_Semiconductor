{
  "nbformat": 4,
  "nbformat_minor": 0,
  "metadata": {
    "colab": {
      "name": "Presentation_1.ipynb",
      "provenance": [],
      "collapsed_sections": [],
      "mount_file_id": "161JhQCTEBCEVT-lnjlulCtS2HEDL99V8",
      "authorship_tag": "ABX9TyOn9dq2lc8ujXDXkoqs5SkM",
      "include_colab_link": true
    },
    "kernelspec": {
      "name": "python3",
      "display_name": "Python 3"
    },
    "language_info": {
      "name": "python"
    }
  },
  "cells": [
    {
      "cell_type": "markdown",
      "metadata": {
        "id": "view-in-github",
        "colab_type": "text"
      },
      "source": [
        "<a href=\"https://colab.research.google.com/github/brunasil98/Colab_Semiconductor/blob/main/Presentation_1.ipynb\" target=\"_parent\"><img src=\"https://colab.research.google.com/assets/colab-badge.svg\" alt=\"Open In Colab\"/></a>"
      ]
    },
    {
      "cell_type": "code",
      "metadata": {
        "id": "zxekphtNyO0P",
        "colab": {
          "base_uri": "https://localhost:8080/"
        },
        "outputId": "ee88dbd2-521a-4982-bd1c-80cfb5feafbd"
      },
      "source": [
        "from google.colab import drive\n",
        "drive.mount('/content/drive')"
      ],
      "execution_count": null,
      "outputs": [
        {
          "output_type": "stream",
          "text": [
            "Drive already mounted at /content/drive; to attempt to forcibly remount, call drive.mount(\"/content/drive\", force_remount=True).\n"
          ],
          "name": "stdout"
        }
      ]
    },
    {
      "cell_type": "code",
      "metadata": {
        "id": "VWeCMJu8yQSt"
      },
      "source": [
        "import matplotlib.pyplot as plt\n",
        "import matplotlib.image as mpimg\n",
        "\n",
        "plt.style.use('classic')\n",
        "#############################################################\n",
        "from keras.preprocessing.image import ImageDataGenerator\n",
        "from keras.models import Sequential\n",
        "from keras.layers import Conv2D, MaxPooling2D, BatchNormalization\n",
        "from keras.layers import Activation, Dropout, Flatten, Dense\n",
        "#from keras import backend as K\n",
        "####################################################\n",
        "import os\n",
        "import cv2\n",
        "from PIL import Image\n",
        "import numpy as np\n"
      ],
      "execution_count": null,
      "outputs": []
    },
    {
      "cell_type": "code",
      "metadata": {
        "id": "xcszpSQNyXft"
      },
      "source": [
        "import tensorflow.keras.utils as conv_utils"
      ],
      "execution_count": null,
      "outputs": []
    },
    {
      "cell_type": "code",
      "metadata": {
        "id": "nmOAQjmfyZqA"
      },
      "source": [
        "image_directory = r'drive/MyDrive/Youtube_Neural_Network/'\n",
        "SIZE = 128\n",
        "dataset = []  #Many ways to handle data, you can use pandas. Here, we are using a list format.  \n",
        "label = []  #Place holders to define add labels. We will add 0 to all parasitized images and 1 to uninfected.\n",
        "\n",
        "Error = os.listdir(image_directory + 'Error/')\n",
        "for i, image_name in enumerate(Error):    #Remember enumerate method adds a counter and returns the enumerate object\n",
        "    \n",
        "    if (image_name.split('.')[1] == 'jpg'):\n",
        "        image = cv2.imread(image_directory + 'Error/' + image_name)\n",
        "        image = Image.fromarray(image, 'RGB')\n",
        "        image = image.resize((SIZE, SIZE))\n",
        "        dataset.append(np.array(image))\n",
        "        label.append(1)"
      ],
      "execution_count": null,
      "outputs": []
    },
    {
      "cell_type": "code",
      "metadata": {
        "id": "e8Q9cA1qybq9"
      },
      "source": [
        "Non_error = os.listdir(image_directory + 'Non_error/')\n",
        "for i, image_name in enumerate(Non_error):\n",
        "    if (image_name.split('.')[1] == 'jpg'):\n",
        "        image = cv2.imread(image_directory + 'Non_error/' + image_name)\n",
        "        image = Image.fromarray(image, 'RGB')\n",
        "        image = image.resize((SIZE, SIZE))\n",
        "        dataset.append(np.array(image))\n",
        "        label.append(0)"
      ],
      "execution_count": null,
      "outputs": []
    },
    {
      "cell_type": "code",
      "metadata": {
        "id": "E6gODDeXyyPd"
      },
      "source": [
        "dataset = np.array(dataset)\n",
        "label = np.array(label)\n"
      ],
      "execution_count": null,
      "outputs": []
    },
    {
      "cell_type": "code",
      "metadata": {
        "id": "FrlE4wJdy4TH"
      },
      "source": [
        "from sklearn.model_selection import train_test_split\n",
        "#from keras.utils import to_categorical\n",
        "\n",
        "X_train, X_test, y_train, y_test = train_test_split(dataset, label, test_size = 0.20, random_state = 0)\n"
      ],
      "execution_count": null,
      "outputs": []
    },
    {
      "cell_type": "code",
      "metadata": {
        "id": "gSjjN500y4Vw"
      },
      "source": [
        "\n",
        "X_train = conv_utils.normalize(X_train)\n",
        "X_test = conv_utils.normalize(X_test)\n"
      ],
      "execution_count": null,
      "outputs": []
    },
    {
      "cell_type": "code",
      "metadata": {
        "colab": {
          "base_uri": "https://localhost:8080/"
        },
        "id": "LOBuSf50EvwK",
        "outputId": "d3de0235-310f-4632-fd9e-f9deb493d9e3"
      },
      "source": [
        "print(X_train.shape )"
      ],
      "execution_count": null,
      "outputs": [
        {
          "output_type": "stream",
          "text": [
            "(285, 128, 128, 3)\n"
          ],
          "name": "stdout"
        }
      ]
    },
    {
      "cell_type": "code",
      "metadata": {
        "id": "mVwfH_enEyNa"
      },
      "source": [
        ""
      ],
      "execution_count": null,
      "outputs": []
    },
    {
      "cell_type": "code",
      "metadata": {
        "id": "bEZSDt8by4YS"
      },
      "source": [
        "INPUT_SHAPE = (SIZE, SIZE, 3)   #change to (SIZE, SIZE, 3)\n",
        "\n",
        "\n",
        "model = Sequential()\n",
        "model.add(Conv2D(32, (3, 3), input_shape=INPUT_SHAPE))\n",
        "model.add(Activation('relu'))\n",
        "model.add(MaxPooling2D(pool_size=(2, 2)))\n",
        "model.add(BatchNormalization())\n",
        "\n",
        "\n",
        "model.add(Conv2D(32, (3, 3), kernel_initializer = 'he_uniform'))\n",
        "model.add(Activation('relu'))\n",
        "model.add(MaxPooling2D(pool_size=(2, 2)))\n",
        "model.add(BatchNormalization())\n",
        "\n",
        "\n",
        "model.add(Conv2D(64, (3, 3), kernel_initializer = 'he_uniform'))\n",
        "model.add(Activation('relu'))\n",
        "model.add(MaxPooling2D(pool_size=(2, 2)))\n",
        "model.add(BatchNormalization())\n",
        "\n",
        "model.add(Flatten())\n",
        "model.add(Dense(64))\n",
        "model.add(Activation('relu'))\n",
        "model.add(Dropout(0.5))\n",
        "model.add(BatchNormalization())\n",
        "\n",
        "model.add(Dense(1))\n",
        "model.add(Activation('sigmoid')) \n",
        "model.add(BatchNormalization()) "
      ],
      "execution_count": null,
      "outputs": []
    },
    {
      "cell_type": "code",
      "metadata": {
        "colab": {
          "base_uri": "https://localhost:8080/"
        },
        "id": "nPcAH6K3y4an",
        "outputId": "07a5c98d-3718-4715-d894-2eeb096a79d0"
      },
      "source": [
        "model.compile(loss='binary_crossentropy',\n",
        "              optimizer='rmsprop',             #also try adam\n",
        "              metrics=['acc'])\n",
        "\n",
        "print(model.summary())    \n",
        "###############################################################  \n"
      ],
      "execution_count": null,
      "outputs": [
        {
          "output_type": "stream",
          "text": [
            "Model: \"sequential_1\"\n",
            "_________________________________________________________________\n",
            "Layer (type)                 Output Shape              Param #   \n",
            "=================================================================\n",
            "conv2d_3 (Conv2D)            (None, 126, 126, 32)      896       \n",
            "_________________________________________________________________\n",
            "activation_5 (Activation)    (None, 126, 126, 32)      0         \n",
            "_________________________________________________________________\n",
            "max_pooling2d_3 (MaxPooling2 (None, 63, 63, 32)        0         \n",
            "_________________________________________________________________\n",
            "batch_normalization_5 (Batch (None, 63, 63, 32)        128       \n",
            "_________________________________________________________________\n",
            "conv2d_4 (Conv2D)            (None, 61, 61, 32)        9248      \n",
            "_________________________________________________________________\n",
            "activation_6 (Activation)    (None, 61, 61, 32)        0         \n",
            "_________________________________________________________________\n",
            "max_pooling2d_4 (MaxPooling2 (None, 30, 30, 32)        0         \n",
            "_________________________________________________________________\n",
            "batch_normalization_6 (Batch (None, 30, 30, 32)        128       \n",
            "_________________________________________________________________\n",
            "conv2d_5 (Conv2D)            (None, 28, 28, 64)        18496     \n",
            "_________________________________________________________________\n",
            "activation_7 (Activation)    (None, 28, 28, 64)        0         \n",
            "_________________________________________________________________\n",
            "max_pooling2d_5 (MaxPooling2 (None, 14, 14, 64)        0         \n",
            "_________________________________________________________________\n",
            "batch_normalization_7 (Batch (None, 14, 14, 64)        256       \n",
            "_________________________________________________________________\n",
            "flatten_1 (Flatten)          (None, 12544)             0         \n",
            "_________________________________________________________________\n",
            "dense_2 (Dense)              (None, 64)                802880    \n",
            "_________________________________________________________________\n",
            "activation_8 (Activation)    (None, 64)                0         \n",
            "_________________________________________________________________\n",
            "dropout_1 (Dropout)          (None, 64)                0         \n",
            "_________________________________________________________________\n",
            "batch_normalization_8 (Batch (None, 64)                256       \n",
            "_________________________________________________________________\n",
            "dense_3 (Dense)              (None, 1)                 65        \n",
            "_________________________________________________________________\n",
            "activation_9 (Activation)    (None, 1)                 0         \n",
            "_________________________________________________________________\n",
            "batch_normalization_9 (Batch (None, 1)                 4         \n",
            "=================================================================\n",
            "Total params: 832,357\n",
            "Trainable params: 831,971\n",
            "Non-trainable params: 386\n",
            "_________________________________________________________________\n",
            "None\n"
          ],
          "name": "stdout"
        }
      ]
    },
    {
      "cell_type": "code",
      "metadata": {
        "colab": {
          "base_uri": "https://localhost:8080/"
        },
        "id": "TADYbPDTy4dL",
        "outputId": "1beac718-2ad5-4494-9d2f-9bba057972a1"
      },
      "source": [
        "history = model.fit(X_train, \n",
        "                         y_train, \n",
        "                         batch_size = 64, \n",
        "                         verbose = 1, \n",
        "                         epochs = 300,      \n",
        "                         validation_split = 0.1,\n",
        "                         shuffle = False\n",
        "                     )\n",
        "\n",
        "\n",
        "model.save('semiconductor_model1_300epochs.h5')  \n"
      ],
      "execution_count": null,
      "outputs": [
        {
          "output_type": "stream",
          "text": [
            "Epoch 1/300\n",
            "4/4 [==============================] - 6s 1s/step - loss: 6.1653 - acc: 0.4609 - val_loss: 3.0728 - val_acc: 0.5517\n",
            "Epoch 2/300\n",
            "4/4 [==============================] - 5s 1s/step - loss: 5.4083 - acc: 0.5078 - val_loss: 0.8002 - val_acc: 0.5862\n",
            "Epoch 3/300\n",
            "4/4 [==============================] - 5s 1s/step - loss: 5.5830 - acc: 0.5273 - val_loss: 0.7366 - val_acc: 0.3793\n",
            "Epoch 4/300\n",
            "4/4 [==============================] - 5s 1s/step - loss: 5.2805 - acc: 0.5391 - val_loss: 0.7496 - val_acc: 0.4483\n",
            "Epoch 5/300\n",
            "4/4 [==============================] - 5s 1s/step - loss: 4.7512 - acc: 0.5664 - val_loss: 0.7093 - val_acc: 0.5172\n",
            "Epoch 6/300\n",
            "4/4 [==============================] - 5s 1s/step - loss: 5.0751 - acc: 0.5664 - val_loss: 0.8326 - val_acc: 0.4483\n",
            "Epoch 7/300\n",
            "4/4 [==============================] - 5s 1s/step - loss: 4.9244 - acc: 0.5586 - val_loss: 0.7831 - val_acc: 0.4483\n",
            "Epoch 8/300\n",
            "4/4 [==============================] - 5s 1s/step - loss: 4.5578 - acc: 0.5781 - val_loss: 0.8218 - val_acc: 0.4483\n",
            "Epoch 9/300\n",
            "4/4 [==============================] - 5s 1s/step - loss: 5.0426 - acc: 0.5547 - val_loss: 0.8087 - val_acc: 0.4483\n",
            "Epoch 10/300\n",
            "4/4 [==============================] - 5s 1s/step - loss: 4.6221 - acc: 0.5703 - val_loss: 0.8276 - val_acc: 0.4483\n",
            "Epoch 11/300\n",
            "4/4 [==============================] - 5s 1s/step - loss: 4.5121 - acc: 0.5742 - val_loss: 0.8247 - val_acc: 0.4483\n",
            "Epoch 12/300\n",
            "4/4 [==============================] - 5s 1s/step - loss: 4.5388 - acc: 0.5703 - val_loss: 0.9803 - val_acc: 0.4483\n",
            "Epoch 13/300\n",
            "4/4 [==============================] - 5s 1s/step - loss: 4.5238 - acc: 0.5938 - val_loss: 0.9044 - val_acc: 0.4483\n",
            "Epoch 14/300\n",
            "4/4 [==============================] - 5s 1s/step - loss: 4.5609 - acc: 0.5898 - val_loss: 0.8167 - val_acc: 0.4483\n",
            "Epoch 15/300\n",
            "4/4 [==============================] - 5s 1s/step - loss: 4.2627 - acc: 0.6055 - val_loss: 0.7810 - val_acc: 0.4483\n",
            "Epoch 16/300\n",
            "4/4 [==============================] - 5s 1s/step - loss: 3.9479 - acc: 0.6094 - val_loss: 0.7636 - val_acc: 0.4483\n",
            "Epoch 17/300\n",
            "4/4 [==============================] - 5s 1s/step - loss: 3.5262 - acc: 0.6172 - val_loss: 0.8057 - val_acc: 0.4483\n",
            "Epoch 18/300\n",
            "4/4 [==============================] - 5s 1s/step - loss: 3.7183 - acc: 0.6484 - val_loss: 0.7899 - val_acc: 0.4483\n",
            "Epoch 19/300\n",
            "4/4 [==============================] - 5s 1s/step - loss: 3.8883 - acc: 0.5977 - val_loss: 0.7473 - val_acc: 0.4483\n",
            "Epoch 20/300\n",
            "4/4 [==============================] - 5s 1s/step - loss: 3.5970 - acc: 0.5977 - val_loss: 0.8515 - val_acc: 0.4483\n",
            "Epoch 21/300\n",
            "4/4 [==============================] - 5s 1s/step - loss: 3.4314 - acc: 0.5898 - val_loss: 0.8628 - val_acc: 0.4483\n",
            "Epoch 22/300\n",
            "4/4 [==============================] - 5s 1s/step - loss: 3.5354 - acc: 0.6094 - val_loss: 0.8537 - val_acc: 0.4483\n",
            "Epoch 23/300\n",
            "4/4 [==============================] - 5s 1s/step - loss: 2.9892 - acc: 0.6094 - val_loss: 0.9481 - val_acc: 0.4483\n",
            "Epoch 24/300\n",
            "4/4 [==============================] - 5s 1s/step - loss: 2.7740 - acc: 0.6406 - val_loss: 0.9571 - val_acc: 0.4483\n",
            "Epoch 25/300\n",
            "4/4 [==============================] - 5s 1s/step - loss: 2.6477 - acc: 0.6328 - val_loss: 0.9203 - val_acc: 0.4483\n",
            "Epoch 26/300\n",
            "4/4 [==============================] - 5s 1s/step - loss: 2.7081 - acc: 0.6211 - val_loss: 0.8418 - val_acc: 0.4483\n",
            "Epoch 27/300\n",
            "4/4 [==============================] - 5s 1s/step - loss: 2.5066 - acc: 0.6523 - val_loss: 0.8819 - val_acc: 0.4483\n",
            "Epoch 28/300\n",
            "4/4 [==============================] - 5s 1s/step - loss: 2.4068 - acc: 0.6562 - val_loss: 0.7944 - val_acc: 0.4483\n",
            "Epoch 29/300\n",
            "4/4 [==============================] - 5s 1s/step - loss: 2.4201 - acc: 0.6953 - val_loss: 0.8627 - val_acc: 0.4483\n",
            "Epoch 30/300\n",
            "4/4 [==============================] - 5s 1s/step - loss: 2.3519 - acc: 0.7031 - val_loss: 0.8432 - val_acc: 0.4483\n",
            "Epoch 31/300\n",
            "4/4 [==============================] - 5s 1s/step - loss: 2.0683 - acc: 0.6758 - val_loss: 0.7760 - val_acc: 0.4483\n",
            "Epoch 32/300\n",
            "4/4 [==============================] - 5s 1s/step - loss: 2.2627 - acc: 0.7148 - val_loss: 0.7066 - val_acc: 0.5172\n",
            "Epoch 33/300\n",
            "4/4 [==============================] - 5s 1s/step - loss: 2.1502 - acc: 0.7539 - val_loss: 0.7169 - val_acc: 0.4483\n",
            "Epoch 34/300\n",
            "4/4 [==============================] - 5s 1s/step - loss: 2.2075 - acc: 0.7344 - val_loss: 0.6915 - val_acc: 0.4828\n",
            "Epoch 35/300\n",
            "4/4 [==============================] - 5s 1s/step - loss: 2.1417 - acc: 0.7305 - val_loss: 0.7052 - val_acc: 0.4483\n",
            "Epoch 36/300\n",
            "4/4 [==============================] - 5s 1s/step - loss: 1.8521 - acc: 0.7852 - val_loss: 1.0019 - val_acc: 0.5517\n",
            "Epoch 37/300\n",
            "4/4 [==============================] - 5s 1s/step - loss: 1.8344 - acc: 0.7500 - val_loss: 0.7439 - val_acc: 0.4483\n",
            "Epoch 38/300\n",
            "4/4 [==============================] - 5s 1s/step - loss: 2.0257 - acc: 0.7188 - val_loss: 0.9031 - val_acc: 0.4483\n",
            "Epoch 39/300\n",
            "4/4 [==============================] - 5s 1s/step - loss: 2.0017 - acc: 0.7891 - val_loss: 0.8026 - val_acc: 0.4483\n",
            "Epoch 40/300\n",
            "4/4 [==============================] - 5s 1s/step - loss: 1.8231 - acc: 0.7773 - val_loss: 0.8203 - val_acc: 0.4483\n",
            "Epoch 41/300\n",
            "4/4 [==============================] - 5s 1s/step - loss: 1.7815 - acc: 0.7656 - val_loss: 0.8155 - val_acc: 0.4483\n",
            "Epoch 42/300\n",
            "4/4 [==============================] - 5s 1s/step - loss: 1.7048 - acc: 0.7852 - val_loss: 0.7067 - val_acc: 0.4828\n",
            "Epoch 43/300\n",
            "4/4 [==============================] - 5s 1s/step - loss: 1.3645 - acc: 0.7891 - val_loss: 6.9146 - val_acc: 0.5517\n",
            "Epoch 44/300\n",
            "4/4 [==============================] - 5s 1s/step - loss: 1.4631 - acc: 0.7461 - val_loss: 0.7315 - val_acc: 0.5517\n",
            "Epoch 45/300\n",
            "4/4 [==============================] - 5s 1s/step - loss: 1.3500 - acc: 0.8242 - val_loss: 1.2400 - val_acc: 0.5517\n",
            "Epoch 46/300\n",
            "4/4 [==============================] - 5s 1s/step - loss: 1.2404 - acc: 0.8164 - val_loss: 0.8291 - val_acc: 0.5517\n",
            "Epoch 47/300\n",
            "4/4 [==============================] - 5s 1s/step - loss: 1.3121 - acc: 0.8203 - val_loss: 6.9146 - val_acc: 0.5517\n",
            "Epoch 48/300\n",
            "4/4 [==============================] - 5s 1s/step - loss: 1.3687 - acc: 0.7852 - val_loss: 3.6593 - val_acc: 0.5517\n",
            "Epoch 49/300\n",
            "4/4 [==============================] - 5s 1s/step - loss: 1.1313 - acc: 0.8516 - val_loss: 3.1431 - val_acc: 0.5517\n",
            "Epoch 50/300\n",
            "4/4 [==============================] - 5s 1s/step - loss: 1.0250 - acc: 0.8828 - val_loss: 6.9146 - val_acc: 0.5517\n",
            "Epoch 51/300\n",
            "4/4 [==============================] - 5s 1s/step - loss: 1.1327 - acc: 0.8320 - val_loss: 6.9146 - val_acc: 0.5517\n",
            "Epoch 52/300\n",
            "4/4 [==============================] - 5s 1s/step - loss: 1.1606 - acc: 0.8359 - val_loss: 6.9146 - val_acc: 0.5517\n",
            "Epoch 53/300\n",
            "4/4 [==============================] - 5s 1s/step - loss: 1.1122 - acc: 0.8672 - val_loss: 6.9146 - val_acc: 0.5517\n",
            "Epoch 54/300\n",
            "4/4 [==============================] - 5s 1s/step - loss: 1.1001 - acc: 0.8203 - val_loss: 6.9146 - val_acc: 0.5517\n",
            "Epoch 55/300\n",
            "4/4 [==============================] - 5s 1s/step - loss: 1.2011 - acc: 0.8242 - val_loss: 2.6295 - val_acc: 0.6207\n",
            "Epoch 56/300\n",
            "4/4 [==============================] - 5s 1s/step - loss: 1.1631 - acc: 0.8516 - val_loss: 3.5522 - val_acc: 0.5517\n",
            "Epoch 57/300\n",
            "4/4 [==============================] - 5s 1s/step - loss: 0.9790 - acc: 0.8750 - val_loss: 5.6322 - val_acc: 0.5517\n",
            "Epoch 58/300\n",
            "4/4 [==============================] - 5s 1s/step - loss: 1.0039 - acc: 0.8750 - val_loss: 6.9146 - val_acc: 0.5517\n",
            "Epoch 59/300\n",
            "4/4 [==============================] - 5s 1s/step - loss: 0.7563 - acc: 0.8945 - val_loss: 6.9146 - val_acc: 0.5517\n",
            "Epoch 60/300\n",
            "4/4 [==============================] - 5s 1s/step - loss: 0.8676 - acc: 0.9062 - val_loss: 6.9146 - val_acc: 0.5517\n",
            "Epoch 61/300\n",
            "4/4 [==============================] - 5s 1s/step - loss: 0.7155 - acc: 0.9219 - val_loss: 6.9146 - val_acc: 0.5517\n",
            "Epoch 62/300\n",
            "4/4 [==============================] - 5s 1s/step - loss: 0.8279 - acc: 0.9258 - val_loss: 6.9146 - val_acc: 0.5517\n",
            "Epoch 63/300\n",
            "4/4 [==============================] - 5s 1s/step - loss: 0.5854 - acc: 0.9453 - val_loss: 6.9146 - val_acc: 0.5517\n",
            "Epoch 64/300\n",
            "4/4 [==============================] - 5s 1s/step - loss: 0.6321 - acc: 0.9336 - val_loss: 6.9146 - val_acc: 0.5517\n",
            "Epoch 65/300\n",
            "4/4 [==============================] - 5s 1s/step - loss: 0.6315 - acc: 0.9336 - val_loss: 6.9146 - val_acc: 0.5517\n",
            "Epoch 66/300\n",
            "4/4 [==============================] - 5s 1s/step - loss: 0.7038 - acc: 0.9258 - val_loss: 6.9146 - val_acc: 0.5517\n",
            "Epoch 67/300\n",
            "4/4 [==============================] - 5s 1s/step - loss: 1.1457 - acc: 0.8516 - val_loss: 6.9146 - val_acc: 0.5517\n",
            "Epoch 68/300\n",
            "4/4 [==============================] - 5s 1s/step - loss: 0.8115 - acc: 0.8906 - val_loss: 6.9146 - val_acc: 0.5517\n",
            "Epoch 69/300\n",
            "4/4 [==============================] - 5s 1s/step - loss: 0.7700 - acc: 0.9141 - val_loss: 6.9146 - val_acc: 0.5517\n",
            "Epoch 70/300\n",
            "4/4 [==============================] - 5s 1s/step - loss: 0.7444 - acc: 0.9258 - val_loss: 6.9146 - val_acc: 0.5517\n",
            "Epoch 71/300\n",
            "4/4 [==============================] - 5s 1s/step - loss: 0.6265 - acc: 0.9297 - val_loss: 6.9146 - val_acc: 0.5517\n",
            "Epoch 72/300\n",
            "4/4 [==============================] - 5s 1s/step - loss: 0.6117 - acc: 0.9492 - val_loss: 6.9146 - val_acc: 0.5517\n",
            "Epoch 73/300\n",
            "4/4 [==============================] - 5s 1s/step - loss: 0.5636 - acc: 0.9414 - val_loss: 6.9146 - val_acc: 0.5517\n",
            "Epoch 74/300\n",
            "4/4 [==============================] - 5s 1s/step - loss: 0.5433 - acc: 0.9492 - val_loss: 6.9146 - val_acc: 0.5517\n",
            "Epoch 75/300\n",
            "4/4 [==============================] - 5s 1s/step - loss: 0.5993 - acc: 0.9453 - val_loss: 6.9146 - val_acc: 0.5517\n",
            "Epoch 76/300\n",
            "4/4 [==============================] - 5s 1s/step - loss: 0.5362 - acc: 0.9453 - val_loss: 6.5000 - val_acc: 0.5517\n",
            "Epoch 77/300\n",
            "4/4 [==============================] - 5s 1s/step - loss: 0.4709 - acc: 0.9531 - val_loss: 6.9146 - val_acc: 0.5517\n",
            "Epoch 78/300\n",
            "4/4 [==============================] - 5s 1s/step - loss: 0.5450 - acc: 0.9375 - val_loss: 6.9146 - val_acc: 0.5517\n",
            "Epoch 79/300\n",
            "4/4 [==============================] - 5s 1s/step - loss: 0.5505 - acc: 0.9453 - val_loss: 6.9146 - val_acc: 0.5517\n",
            "Epoch 80/300\n",
            "4/4 [==============================] - 5s 1s/step - loss: 0.4535 - acc: 0.9609 - val_loss: 4.0136 - val_acc: 0.5862\n",
            "Epoch 81/300\n",
            "4/4 [==============================] - 5s 1s/step - loss: 0.4676 - acc: 0.9570 - val_loss: 6.4442 - val_acc: 0.5517\n",
            "Epoch 82/300\n",
            "4/4 [==============================] - 5s 1s/step - loss: 0.4645 - acc: 0.9531 - val_loss: 6.9146 - val_acc: 0.5517\n",
            "Epoch 83/300\n",
            "4/4 [==============================] - 5s 1s/step - loss: 0.5171 - acc: 0.9609 - val_loss: 6.9146 - val_acc: 0.5517\n",
            "Epoch 84/300\n",
            "4/4 [==============================] - 5s 1s/step - loss: 0.4609 - acc: 0.9492 - val_loss: 6.4494 - val_acc: 0.5517\n",
            "Epoch 85/300\n",
            "4/4 [==============================] - 5s 1s/step - loss: 0.4427 - acc: 0.9648 - val_loss: 6.9146 - val_acc: 0.5517\n",
            "Epoch 86/300\n",
            "4/4 [==============================] - 5s 1s/step - loss: 0.5042 - acc: 0.9609 - val_loss: 6.9146 - val_acc: 0.5517\n",
            "Epoch 87/300\n",
            "4/4 [==============================] - 5s 1s/step - loss: 0.4649 - acc: 0.9570 - val_loss: 4.1142 - val_acc: 0.5862\n",
            "Epoch 88/300\n",
            "4/4 [==============================] - 5s 1s/step - loss: 0.2883 - acc: 0.9609 - val_loss: 6.9146 - val_acc: 0.5517\n",
            "Epoch 89/300\n",
            "4/4 [==============================] - 5s 1s/step - loss: 0.3984 - acc: 0.9570 - val_loss: 6.9146 - val_acc: 0.5517\n",
            "Epoch 90/300\n",
            "4/4 [==============================] - 5s 1s/step - loss: 0.2656 - acc: 0.9453 - val_loss: 5.5310 - val_acc: 0.5517\n",
            "Epoch 91/300\n",
            "4/4 [==============================] - 5s 1s/step - loss: 0.2605 - acc: 0.9805 - val_loss: 6.4908 - val_acc: 0.5517\n",
            "Epoch 92/300\n",
            "4/4 [==============================] - 5s 1s/step - loss: 0.2678 - acc: 0.9727 - val_loss: 6.9146 - val_acc: 0.5517\n",
            "Epoch 93/300\n",
            "4/4 [==============================] - 5s 1s/step - loss: 0.2452 - acc: 0.9648 - val_loss: 6.9146 - val_acc: 0.5517\n",
            "Epoch 94/300\n",
            "4/4 [==============================] - 5s 1s/step - loss: 0.1638 - acc: 0.9766 - val_loss: 6.9146 - val_acc: 0.5517\n",
            "Epoch 95/300\n",
            "4/4 [==============================] - 5s 1s/step - loss: 0.1326 - acc: 0.9883 - val_loss: 6.9146 - val_acc: 0.5517\n",
            "Epoch 96/300\n",
            "4/4 [==============================] - 5s 1s/step - loss: 0.1490 - acc: 0.9844 - val_loss: 6.9146 - val_acc: 0.5517\n",
            "Epoch 97/300\n",
            "4/4 [==============================] - 5s 1s/step - loss: 0.2721 - acc: 0.9648 - val_loss: 6.9146 - val_acc: 0.5517\n",
            "Epoch 98/300\n",
            "4/4 [==============================] - 5s 1s/step - loss: 0.3193 - acc: 0.9727 - val_loss: 6.9146 - val_acc: 0.5517\n",
            "Epoch 99/300\n",
            "4/4 [==============================] - 5s 1s/step - loss: 0.3142 - acc: 0.9453 - val_loss: 6.9146 - val_acc: 0.5517\n",
            "Epoch 100/300\n",
            "4/4 [==============================] - 5s 1s/step - loss: 0.1463 - acc: 0.9844 - val_loss: 4.9720 - val_acc: 0.5517\n",
            "Epoch 101/300\n",
            "4/4 [==============================] - 5s 1s/step - loss: 0.1466 - acc: 0.9805 - val_loss: 6.9146 - val_acc: 0.5517\n",
            "Epoch 102/300\n",
            "4/4 [==============================] - 5s 1s/step - loss: 0.0823 - acc: 0.9883 - val_loss: 6.9146 - val_acc: 0.5517\n",
            "Epoch 103/300\n",
            "4/4 [==============================] - 5s 1s/step - loss: 0.1541 - acc: 0.9844 - val_loss: 6.9146 - val_acc: 0.5517\n",
            "Epoch 104/300\n",
            "4/4 [==============================] - 5s 1s/step - loss: 0.0746 - acc: 0.9961 - val_loss: 6.9146 - val_acc: 0.5517\n",
            "Epoch 105/300\n",
            "4/4 [==============================] - 5s 1s/step - loss: 0.0262 - acc: 0.9883 - val_loss: 6.9146 - val_acc: 0.5517\n",
            "Epoch 106/300\n",
            "4/4 [==============================] - 5s 1s/step - loss: 0.0733 - acc: 0.9922 - val_loss: 6.9146 - val_acc: 0.5517\n",
            "Epoch 107/300\n",
            "4/4 [==============================] - 5s 1s/step - loss: 0.0654 - acc: 0.9961 - val_loss: 6.9146 - val_acc: 0.5517\n",
            "Epoch 108/300\n",
            "4/4 [==============================] - 5s 1s/step - loss: 0.0683 - acc: 0.9961 - val_loss: 6.9146 - val_acc: 0.5517\n",
            "Epoch 109/300\n",
            "4/4 [==============================] - 5s 1s/step - loss: 0.0636 - acc: 0.9961 - val_loss: 6.4491 - val_acc: 0.5517\n",
            "Epoch 110/300\n",
            "4/4 [==============================] - 5s 1s/step - loss: 0.0753 - acc: 0.9883 - val_loss: 5.9898 - val_acc: 0.5517\n",
            "Epoch 111/300\n",
            "4/4 [==============================] - 5s 1s/step - loss: 0.1063 - acc: 0.9727 - val_loss: 4.9835 - val_acc: 0.6207\n",
            "Epoch 112/300\n",
            "4/4 [==============================] - 5s 1s/step - loss: 0.0249 - acc: 0.9883 - val_loss: 6.4197 - val_acc: 0.5517\n",
            "Epoch 113/300\n",
            "4/4 [==============================] - 5s 1s/step - loss: 0.0143 - acc: 0.9922 - val_loss: 6.4049 - val_acc: 0.5862\n",
            "Epoch 114/300\n",
            "4/4 [==============================] - 5s 1s/step - loss: 0.0121 - acc: 0.9961 - val_loss: 5.9642 - val_acc: 0.5862\n",
            "Epoch 115/300\n",
            "4/4 [==============================] - 5s 1s/step - loss: 0.0065 - acc: 1.0000 - val_loss: 5.9140 - val_acc: 0.5862\n",
            "Epoch 116/300\n",
            "4/4 [==============================] - 5s 1s/step - loss: 0.0029 - acc: 1.0000 - val_loss: 6.4042 - val_acc: 0.5862\n",
            "Epoch 117/300\n",
            "4/4 [==============================] - 5s 1s/step - loss: 0.0055 - acc: 0.9961 - val_loss: 6.4051 - val_acc: 0.5862\n",
            "Epoch 118/300\n",
            "4/4 [==============================] - 5s 1s/step - loss: 0.0060 - acc: 1.0000 - val_loss: 5.9212 - val_acc: 0.5862\n",
            "Epoch 119/300\n",
            "4/4 [==============================] - 5s 1s/step - loss: 0.0031 - acc: 1.0000 - val_loss: 6.3917 - val_acc: 0.5862\n",
            "Epoch 120/300\n",
            "4/4 [==============================] - 5s 1s/step - loss: 0.0065 - acc: 1.0000 - val_loss: 5.9221 - val_acc: 0.5517\n",
            "Epoch 121/300\n",
            "4/4 [==============================] - 5s 1s/step - loss: 0.0621 - acc: 0.9961 - val_loss: 5.9567 - val_acc: 0.5517\n",
            "Epoch 122/300\n",
            "4/4 [==============================] - 5s 1s/step - loss: 0.0366 - acc: 0.9805 - val_loss: 5.9446 - val_acc: 0.5862\n",
            "Epoch 123/300\n",
            "4/4 [==============================] - 5s 1s/step - loss: 0.0773 - acc: 0.9844 - val_loss: 6.3866 - val_acc: 0.5862\n",
            "Epoch 124/300\n",
            "4/4 [==============================] - 5s 1s/step - loss: 0.0060 - acc: 1.0000 - val_loss: 6.3914 - val_acc: 0.5862\n",
            "Epoch 125/300\n",
            "4/4 [==============================] - 5s 1s/step - loss: 0.0095 - acc: 0.9922 - val_loss: 5.9240 - val_acc: 0.5862\n",
            "Epoch 126/300\n",
            "4/4 [==============================] - 5s 1s/step - loss: 0.0081 - acc: 0.9961 - val_loss: 6.3827 - val_acc: 0.5862\n",
            "Epoch 127/300\n",
            "4/4 [==============================] - 5s 1s/step - loss: 0.0047 - acc: 0.9961 - val_loss: 6.3827 - val_acc: 0.5862\n",
            "Epoch 128/300\n",
            "4/4 [==============================] - 5s 1s/step - loss: 0.0113 - acc: 0.9922 - val_loss: 6.4087 - val_acc: 0.5517\n",
            "Epoch 129/300\n",
            "4/4 [==============================] - 5s 1s/step - loss: 0.0105 - acc: 0.9961 - val_loss: 5.8780 - val_acc: 0.5862\n",
            "Epoch 130/300\n",
            "4/4 [==============================] - 5s 1s/step - loss: 0.0043 - acc: 1.0000 - val_loss: 6.3827 - val_acc: 0.5862\n",
            "Epoch 131/300\n",
            "4/4 [==============================] - 5s 1s/step - loss: 0.0076 - acc: 0.9961 - val_loss: 6.3827 - val_acc: 0.5862\n",
            "Epoch 132/300\n",
            "4/4 [==============================] - 5s 1s/step - loss: 0.0027 - acc: 1.0000 - val_loss: 5.9556 - val_acc: 0.5862\n",
            "Epoch 133/300\n",
            "4/4 [==============================] - 5s 1s/step - loss: 0.0064 - acc: 0.9961 - val_loss: 4.4568 - val_acc: 0.5862\n",
            "Epoch 134/300\n",
            "4/4 [==============================] - 5s 1s/step - loss: 0.0012 - acc: 1.0000 - val_loss: 6.3827 - val_acc: 0.5862\n",
            "Epoch 135/300\n",
            "4/4 [==============================] - 5s 1s/step - loss: 0.0069 - acc: 0.9961 - val_loss: 6.3827 - val_acc: 0.5862\n",
            "Epoch 136/300\n",
            "4/4 [==============================] - 5s 1s/step - loss: 0.0037 - acc: 1.0000 - val_loss: 4.9137 - val_acc: 0.6207\n",
            "Epoch 137/300\n",
            "4/4 [==============================] - 5s 1s/step - loss: 5.3485e-04 - acc: 1.0000 - val_loss: 4.8882 - val_acc: 0.6207\n",
            "Epoch 138/300\n",
            "4/4 [==============================] - 5s 1s/step - loss: 6.7686e-04 - acc: 1.0000 - val_loss: 4.8681 - val_acc: 0.6207\n",
            "Epoch 139/300\n",
            "4/4 [==============================] - 5s 1s/step - loss: 8.5770e-04 - acc: 1.0000 - val_loss: 5.0202 - val_acc: 0.6207\n",
            "Epoch 140/300\n",
            "4/4 [==============================] - 5s 1s/step - loss: 0.0216 - acc: 0.9883 - val_loss: 2.3345 - val_acc: 0.8276\n",
            "Epoch 141/300\n",
            "4/4 [==============================] - 5s 1s/step - loss: 0.0091 - acc: 0.9961 - val_loss: 2.3018 - val_acc: 0.7241\n",
            "Epoch 142/300\n",
            "4/4 [==============================] - 5s 1s/step - loss: 0.0040 - acc: 1.0000 - val_loss: 2.5653 - val_acc: 0.7241\n",
            "Epoch 143/300\n",
            "4/4 [==============================] - 5s 1s/step - loss: 0.0041 - acc: 0.9961 - val_loss: 3.4037 - val_acc: 0.6897\n",
            "Epoch 144/300\n",
            "4/4 [==============================] - 5s 1s/step - loss: 0.0015 - acc: 1.0000 - val_loss: 2.8805 - val_acc: 0.7241\n",
            "Epoch 145/300\n",
            "4/4 [==============================] - 5s 1s/step - loss: 0.0032 - acc: 1.0000 - val_loss: 3.3642 - val_acc: 0.6552\n",
            "Epoch 146/300\n",
            "4/4 [==============================] - 5s 1s/step - loss: 0.0042 - acc: 1.0000 - val_loss: 2.7757 - val_acc: 0.7931\n",
            "Epoch 147/300\n",
            "4/4 [==============================] - 5s 1s/step - loss: 8.8372e-04 - acc: 1.0000 - val_loss: 2.4017 - val_acc: 0.6897\n",
            "Epoch 148/300\n",
            "4/4 [==============================] - 5s 1s/step - loss: 0.0000e+00 - acc: 1.0000 - val_loss: 2.3573 - val_acc: 0.6897\n",
            "Epoch 149/300\n",
            "4/4 [==============================] - 5s 1s/step - loss: 0.0036 - acc: 0.9961 - val_loss: 4.4267 - val_acc: 0.6552\n",
            "Epoch 150/300\n",
            "4/4 [==============================] - 5s 1s/step - loss: 0.0016 - acc: 1.0000 - val_loss: 2.8139 - val_acc: 0.6897\n",
            "Epoch 151/300\n",
            "4/4 [==============================] - 5s 1s/step - loss: 0.0146 - acc: 0.9922 - val_loss: 5.3553 - val_acc: 0.6552\n",
            "Epoch 152/300\n",
            "4/4 [==============================] - 5s 1s/step - loss: 0.0016 - acc: 1.0000 - val_loss: 5.3488 - val_acc: 0.6552\n",
            "Epoch 153/300\n",
            "4/4 [==============================] - 5s 1s/step - loss: 0.0014 - acc: 1.0000 - val_loss: 6.3827 - val_acc: 0.5862\n",
            "Epoch 154/300\n",
            "4/4 [==============================] - 5s 1s/step - loss: 0.0069 - acc: 0.9961 - val_loss: 0.6853 - val_acc: 0.8621\n",
            "Epoch 155/300\n",
            "4/4 [==============================] - 5s 1s/step - loss: 0.0643 - acc: 0.9961 - val_loss: 2.6872 - val_acc: 0.8276\n",
            "Epoch 156/300\n",
            "4/4 [==============================] - 5s 1s/step - loss: 0.0701 - acc: 0.9883 - val_loss: 2.1793 - val_acc: 0.8276\n",
            "Epoch 157/300\n",
            "4/4 [==============================] - 5s 1s/step - loss: 0.0113 - acc: 0.9922 - val_loss: 2.7648 - val_acc: 0.7931\n",
            "Epoch 158/300\n",
            "4/4 [==============================] - 5s 1s/step - loss: 0.0015 - acc: 1.0000 - val_loss: 2.1859 - val_acc: 0.8621\n",
            "Epoch 159/300\n",
            "4/4 [==============================] - 5s 1s/step - loss: 0.0000e+00 - acc: 1.0000 - val_loss: 2.1737 - val_acc: 0.8621\n",
            "Epoch 160/300\n",
            "4/4 [==============================] - 5s 1s/step - loss: 0.0136 - acc: 0.9922 - val_loss: 3.3294 - val_acc: 0.7586\n",
            "Epoch 161/300\n",
            "4/4 [==============================] - 5s 1s/step - loss: 0.0058 - acc: 0.9961 - val_loss: 2.8984 - val_acc: 0.6552\n",
            "Epoch 162/300\n",
            "4/4 [==============================] - 5s 1s/step - loss: 0.0016 - acc: 1.0000 - val_loss: 2.7638 - val_acc: 0.7241\n",
            "Epoch 163/300\n",
            "4/4 [==============================] - 5s 1s/step - loss: 0.0030 - acc: 1.0000 - val_loss: 2.8690 - val_acc: 0.6897\n",
            "Epoch 164/300\n",
            "4/4 [==============================] - 5s 1s/step - loss: 0.0020 - acc: 1.0000 - val_loss: 3.3409 - val_acc: 0.6552\n",
            "Epoch 165/300\n",
            "4/4 [==============================] - 5s 1s/step - loss: 8.6679e-04 - acc: 1.0000 - val_loss: 2.7932 - val_acc: 0.7586\n",
            "Epoch 166/300\n",
            "4/4 [==============================] - 5s 1s/step - loss: 5.8639e-04 - acc: 1.0000 - val_loss: 2.2083 - val_acc: 0.8621\n",
            "Epoch 167/300\n",
            "4/4 [==============================] - 5s 1s/step - loss: 0.0036 - acc: 0.9961 - val_loss: 2.7234 - val_acc: 0.8276\n",
            "Epoch 168/300\n",
            "4/4 [==============================] - 5s 1s/step - loss: 4.2505e-04 - acc: 1.0000 - val_loss: 2.1783 - val_acc: 0.8276\n",
            "Epoch 169/300\n",
            "4/4 [==============================] - 5s 1s/step - loss: 0.0000e+00 - acc: 1.0000 - val_loss: 2.1634 - val_acc: 0.8276\n",
            "Epoch 170/300\n",
            "4/4 [==============================] - 5s 1s/step - loss: 6.5616e-04 - acc: 1.0000 - val_loss: 2.2378 - val_acc: 0.8276\n",
            "Epoch 171/300\n",
            "4/4 [==============================] - 5s 1s/step - loss: 3.5727e-04 - acc: 1.0000 - val_loss: 0.6432 - val_acc: 0.8966\n",
            "Epoch 172/300\n",
            "4/4 [==============================] - 5s 1s/step - loss: 4.3650e-05 - acc: 1.0000 - val_loss: 1.7439 - val_acc: 0.8621\n",
            "Epoch 173/300\n",
            "4/4 [==============================] - 5s 1s/step - loss: 9.7987e-05 - acc: 1.0000 - val_loss: 1.6823 - val_acc: 0.8276\n",
            "Epoch 174/300\n",
            "4/4 [==============================] - 5s 1s/step - loss: 7.9085e-05 - acc: 1.0000 - val_loss: 1.7032 - val_acc: 0.8276\n",
            "Epoch 175/300\n",
            "4/4 [==============================] - 5s 1s/step - loss: 0.0000e+00 - acc: 1.0000 - val_loss: 1.6799 - val_acc: 0.8276\n",
            "Epoch 176/300\n",
            "4/4 [==============================] - 5s 1s/step - loss: 0.0036 - acc: 0.9961 - val_loss: 1.1324 - val_acc: 0.8966\n",
            "Epoch 177/300\n",
            "4/4 [==============================] - 5s 1s/step - loss: 0.0022 - acc: 1.0000 - val_loss: 1.1609 - val_acc: 0.8621\n",
            "Epoch 178/300\n",
            "4/4 [==============================] - 5s 1s/step - loss: 0.0038 - acc: 1.0000 - val_loss: 1.1647 - val_acc: 0.8966\n",
            "Epoch 179/300\n",
            "4/4 [==============================] - 5s 1s/step - loss: 0.0035 - acc: 0.9961 - val_loss: 0.0789 - val_acc: 0.9655\n",
            "Epoch 180/300\n",
            "4/4 [==============================] - 5s 1s/step - loss: 0.0017 - acc: 1.0000 - val_loss: 0.1026 - val_acc: 0.9655\n",
            "Epoch 181/300\n",
            "4/4 [==============================] - 5s 1s/step - loss: 0.0015 - acc: 1.0000 - val_loss: 0.6093 - val_acc: 0.9310\n",
            "Epoch 182/300\n",
            "4/4 [==============================] - 5s 1s/step - loss: 2.5763e-04 - acc: 1.0000 - val_loss: 0.6130 - val_acc: 0.9310\n",
            "Epoch 183/300\n",
            "4/4 [==============================] - 5s 1s/step - loss: 0.0060 - acc: 0.9961 - val_loss: 1.6556 - val_acc: 0.8621\n",
            "Epoch 184/300\n",
            "4/4 [==============================] - 5s 1s/step - loss: 0.0043 - acc: 1.0000 - val_loss: 1.1848 - val_acc: 0.8276\n",
            "Epoch 185/300\n",
            "4/4 [==============================] - 5s 1s/step - loss: 0.0054 - acc: 0.9961 - val_loss: 2.2142 - val_acc: 0.8276\n",
            "Epoch 186/300\n",
            "4/4 [==============================] - 5s 1s/step - loss: 0.0000e+00 - acc: 1.0000 - val_loss: 2.1927 - val_acc: 0.8276\n",
            "Epoch 187/300\n",
            "4/4 [==============================] - 5s 1s/step - loss: 0.0000e+00 - acc: 1.0000 - val_loss: 2.1764 - val_acc: 0.8621\n",
            "Epoch 188/300\n",
            "4/4 [==============================] - 5s 1s/step - loss: 0.0000e+00 - acc: 1.0000 - val_loss: 1.7850 - val_acc: 0.8621\n",
            "Epoch 189/300\n",
            "4/4 [==============================] - 5s 1s/step - loss: 0.0014 - acc: 1.0000 - val_loss: 2.1464 - val_acc: 0.8621\n",
            "Epoch 190/300\n",
            "4/4 [==============================] - 5s 1s/step - loss: 0.0049 - acc: 0.9961 - val_loss: 0.0436 - val_acc: 0.9655\n",
            "Epoch 191/300\n",
            "4/4 [==============================] - 5s 1s/step - loss: 0.0015 - acc: 1.0000 - val_loss: 0.1196 - val_acc: 0.9655\n",
            "Epoch 192/300\n",
            "4/4 [==============================] - 5s 1s/step - loss: 0.0031 - acc: 0.9961 - val_loss: 0.0216 - val_acc: 1.0000\n",
            "Epoch 193/300\n",
            "4/4 [==============================] - 5s 1s/step - loss: 3.2433e-04 - acc: 1.0000 - val_loss: 0.0086 - val_acc: 1.0000\n",
            "Epoch 194/300\n",
            "4/4 [==============================] - 5s 1s/step - loss: 1.2836e-04 - acc: 1.0000 - val_loss: 0.0336 - val_acc: 0.9655\n",
            "Epoch 195/300\n",
            "4/4 [==============================] - 5s 1s/step - loss: 0.0000e+00 - acc: 1.0000 - val_loss: 0.0342 - val_acc: 0.9655\n",
            "Epoch 196/300\n",
            "4/4 [==============================] - 5s 1s/step - loss: 0.0000e+00 - acc: 1.0000 - val_loss: 0.0341 - val_acc: 0.9655\n",
            "Epoch 197/300\n",
            "4/4 [==============================] - 5s 1s/step - loss: 5.4219e-04 - acc: 1.0000 - val_loss: 0.0359 - val_acc: 0.9655\n",
            "Epoch 198/300\n",
            "4/4 [==============================] - 5s 1s/step - loss: 1.3609e-04 - acc: 1.0000 - val_loss: 0.0154 - val_acc: 1.0000\n",
            "Epoch 199/300\n",
            "4/4 [==============================] - 5s 1s/step - loss: 0.0000e+00 - acc: 1.0000 - val_loss: 0.0156 - val_acc: 1.0000\n",
            "Epoch 200/300\n",
            "4/4 [==============================] - 5s 1s/step - loss: 9.6257e-05 - acc: 1.0000 - val_loss: 0.0510 - val_acc: 0.9655\n",
            "Epoch 201/300\n",
            "4/4 [==============================] - 5s 1s/step - loss: 2.6400e-04 - acc: 1.0000 - val_loss: 0.0221 - val_acc: 1.0000\n",
            "Epoch 202/300\n",
            "4/4 [==============================] - 5s 1s/step - loss: 0.0000e+00 - acc: 1.0000 - val_loss: 0.0229 - val_acc: 1.0000\n",
            "Epoch 203/300\n",
            "4/4 [==============================] - 5s 1s/step - loss: 0.0042 - acc: 1.0000 - val_loss: 1.1124 - val_acc: 0.8966\n",
            "Epoch 204/300\n",
            "4/4 [==============================] - 5s 1s/step - loss: 4.6355e-04 - acc: 1.0000 - val_loss: 0.1081 - val_acc: 0.9310\n",
            "Epoch 205/300\n",
            "4/4 [==============================] - 5s 1s/step - loss: 0.0045 - acc: 0.9961 - val_loss: 0.0459 - val_acc: 1.0000\n",
            "Epoch 206/300\n",
            "4/4 [==============================] - 5s 1s/step - loss: 0.0022 - acc: 1.0000 - val_loss: 0.0772 - val_acc: 0.9655\n",
            "Epoch 207/300\n",
            "4/4 [==============================] - 5s 1s/step - loss: 0.0019 - acc: 1.0000 - val_loss: 0.0233 - val_acc: 1.0000\n",
            "Epoch 208/300\n",
            "4/4 [==============================] - 5s 1s/step - loss: 0.0013 - acc: 1.0000 - val_loss: 0.0041 - val_acc: 1.0000\n",
            "Epoch 209/300\n",
            "4/4 [==============================] - 5s 1s/step - loss: 5.0121e-05 - acc: 1.0000 - val_loss: 0.9572 - val_acc: 0.7931\n",
            "Epoch 210/300\n",
            "4/4 [==============================] - 5s 1s/step - loss: 0.0061 - acc: 0.9961 - val_loss: 0.0170 - val_acc: 1.0000\n",
            "Epoch 211/300\n",
            "4/4 [==============================] - 5s 1s/step - loss: 0.0025 - acc: 1.0000 - val_loss: 1.6038 - val_acc: 0.8966\n",
            "Epoch 212/300\n",
            "4/4 [==============================] - 5s 1s/step - loss: 0.0000e+00 - acc: 1.0000 - val_loss: 1.6002 - val_acc: 0.8966\n",
            "Epoch 213/300\n",
            "4/4 [==============================] - 5s 1s/step - loss: 0.0033 - acc: 1.0000 - val_loss: 0.0144 - val_acc: 1.0000\n",
            "Epoch 214/300\n",
            "4/4 [==============================] - 5s 1s/step - loss: 6.2400e-04 - acc: 1.0000 - val_loss: 0.5609 - val_acc: 0.9310\n",
            "Epoch 215/300\n",
            "4/4 [==============================] - 5s 1s/step - loss: 6.3005e-04 - acc: 1.0000 - val_loss: 0.0028 - val_acc: 1.0000\n",
            "Epoch 216/300\n",
            "4/4 [==============================] - 5s 1s/step - loss: 0.0000e+00 - acc: 1.0000 - val_loss: 0.0022 - val_acc: 1.0000\n",
            "Epoch 217/300\n",
            "4/4 [==============================] - 5s 1s/step - loss: 0.0000e+00 - acc: 1.0000 - val_loss: 0.0017 - val_acc: 1.0000\n",
            "Epoch 218/300\n",
            "4/4 [==============================] - 5s 1s/step - loss: 2.3705e-05 - acc: 1.0000 - val_loss: 0.0173 - val_acc: 1.0000\n",
            "Epoch 219/300\n",
            "4/4 [==============================] - 5s 1s/step - loss: 0.0000e+00 - acc: 1.0000 - val_loss: 0.0186 - val_acc: 1.0000\n",
            "Epoch 220/300\n",
            "4/4 [==============================] - 5s 1s/step - loss: 0.0030 - acc: 0.9961 - val_loss: 2.9358 - val_acc: 0.6552\n",
            "Epoch 221/300\n",
            "4/4 [==============================] - 5s 1s/step - loss: 0.0090 - acc: 0.9922 - val_loss: 0.0392 - val_acc: 0.9655\n",
            "Epoch 222/300\n",
            "4/4 [==============================] - 5s 1s/step - loss: 0.0018 - acc: 1.0000 - val_loss: 0.0197 - val_acc: 1.0000\n",
            "Epoch 223/300\n",
            "4/4 [==============================] - 5s 1s/step - loss: 0.0047 - acc: 0.9961 - val_loss: 1.1787 - val_acc: 0.8621\n",
            "Epoch 224/300\n",
            "4/4 [==============================] - 5s 1s/step - loss: 2.2482e-04 - acc: 1.0000 - val_loss: 0.7492 - val_acc: 0.8621\n",
            "Epoch 225/300\n",
            "4/4 [==============================] - 5s 1s/step - loss: 0.0011 - acc: 1.0000 - val_loss: 0.0086 - val_acc: 1.0000\n",
            "Epoch 226/300\n",
            "4/4 [==============================] - 5s 1s/step - loss: 8.2660e-04 - acc: 1.0000 - val_loss: 0.0255 - val_acc: 1.0000\n",
            "Epoch 227/300\n",
            "4/4 [==============================] - 5s 1s/step - loss: 6.9846e-06 - acc: 1.0000 - val_loss: 0.0307 - val_acc: 0.9655\n",
            "Epoch 228/300\n",
            "4/4 [==============================] - 5s 1s/step - loss: 8.6968e-04 - acc: 1.0000 - val_loss: 0.0443 - val_acc: 1.0000\n",
            "Epoch 229/300\n",
            "4/4 [==============================] - 5s 1s/step - loss: 0.0000e+00 - acc: 1.0000 - val_loss: 0.0442 - val_acc: 1.0000\n",
            "Epoch 230/300\n",
            "4/4 [==============================] - 5s 1s/step - loss: 6.8014e-05 - acc: 1.0000 - val_loss: 0.0505 - val_acc: 0.9655\n",
            "Epoch 231/300\n",
            "4/4 [==============================] - 5s 1s/step - loss: 0.0000e+00 - acc: 1.0000 - val_loss: 0.0497 - val_acc: 0.9655\n",
            "Epoch 232/300\n",
            "4/4 [==============================] - 5s 1s/step - loss: 8.3971e-04 - acc: 1.0000 - val_loss: 0.0522 - val_acc: 0.9655\n",
            "Epoch 233/300\n",
            "4/4 [==============================] - 5s 1s/step - loss: 0.0000e+00 - acc: 1.0000 - val_loss: 0.0496 - val_acc: 0.9655\n",
            "Epoch 234/300\n",
            "4/4 [==============================] - 5s 1s/step - loss: 0.0013 - acc: 1.0000 - val_loss: 0.5453 - val_acc: 0.9655\n",
            "Epoch 235/300\n",
            "4/4 [==============================] - 5s 1s/step - loss: 2.7707e-06 - acc: 1.0000 - val_loss: 0.5329 - val_acc: 0.9655\n",
            "Epoch 236/300\n",
            "4/4 [==============================] - 5s 1s/step - loss: 0.0020 - acc: 1.0000 - val_loss: 0.1800 - val_acc: 0.9655\n",
            "Epoch 237/300\n",
            "4/4 [==============================] - 5s 1s/step - loss: 0.0041 - acc: 1.0000 - val_loss: 0.6098 - val_acc: 0.9310\n",
            "Epoch 238/300\n",
            "4/4 [==============================] - 5s 1s/step - loss: 8.9039e-04 - acc: 1.0000 - val_loss: 0.5640 - val_acc: 0.9655\n",
            "Epoch 239/300\n",
            "4/4 [==============================] - 5s 1s/step - loss: 0.0000e+00 - acc: 1.0000 - val_loss: 0.5607 - val_acc: 0.9655\n",
            "Epoch 240/300\n",
            "4/4 [==============================] - 5s 1s/step - loss: 0.0000e+00 - acc: 1.0000 - val_loss: 0.5580 - val_acc: 0.9655\n",
            "Epoch 241/300\n",
            "4/4 [==============================] - 5s 1s/step - loss: 0.0024 - acc: 1.0000 - val_loss: 0.0347 - val_acc: 0.9655\n",
            "Epoch 242/300\n",
            "4/4 [==============================] - 5s 1s/step - loss: 0.0000e+00 - acc: 1.0000 - val_loss: 0.0298 - val_acc: 0.9655\n",
            "Epoch 243/300\n",
            "4/4 [==============================] - 5s 1s/step - loss: 0.0000e+00 - acc: 1.0000 - val_loss: 0.0260 - val_acc: 1.0000\n",
            "Epoch 244/300\n",
            "4/4 [==============================] - 5s 1s/step - loss: 0.0015 - acc: 1.0000 - val_loss: 0.0658 - val_acc: 0.9655\n",
            "Epoch 245/300\n",
            "4/4 [==============================] - 5s 1s/step - loss: 4.1069e-04 - acc: 1.0000 - val_loss: 0.5547 - val_acc: 0.9655\n",
            "Epoch 246/300\n",
            "4/4 [==============================] - 5s 1s/step - loss: 1.8186e-05 - acc: 1.0000 - val_loss: 0.0051 - val_acc: 1.0000\n",
            "Epoch 247/300\n",
            "4/4 [==============================] - 5s 1s/step - loss: 0.0000e+00 - acc: 1.0000 - val_loss: 0.0053 - val_acc: 1.0000\n",
            "Epoch 248/300\n",
            "4/4 [==============================] - 5s 1s/step - loss: 3.7380e-05 - acc: 1.0000 - val_loss: 0.0544 - val_acc: 0.9655\n",
            "Epoch 249/300\n",
            "4/4 [==============================] - 5s 1s/step - loss: 0.0000e+00 - acc: 1.0000 - val_loss: 0.0511 - val_acc: 0.9655\n",
            "Epoch 250/300\n",
            "4/4 [==============================] - 5s 1s/step - loss: 0.0000e+00 - acc: 1.0000 - val_loss: 0.0483 - val_acc: 0.9655\n",
            "Epoch 251/300\n",
            "4/4 [==============================] - 5s 1s/step - loss: 0.0111 - acc: 0.9961 - val_loss: 0.5341 - val_acc: 0.9655\n",
            "Epoch 252/300\n",
            "4/4 [==============================] - 5s 1s/step - loss: 0.0000e+00 - acc: 1.0000 - val_loss: 0.5333 - val_acc: 0.9655\n",
            "Epoch 253/300\n",
            "4/4 [==============================] - 5s 1s/step - loss: 0.0012 - acc: 1.0000 - val_loss: 0.5376 - val_acc: 0.9655\n",
            "Epoch 254/300\n",
            "4/4 [==============================] - 5s 1s/step - loss: 0.0000e+00 - acc: 1.0000 - val_loss: 0.5359 - val_acc: 0.9655\n",
            "Epoch 255/300\n",
            "4/4 [==============================] - 5s 1s/step - loss: 0.0000e+00 - acc: 1.0000 - val_loss: 0.5345 - val_acc: 0.9655\n",
            "Epoch 256/300\n",
            "4/4 [==============================] - 5s 1s/step - loss: 0.0000e+00 - acc: 1.0000 - val_loss: 0.1311 - val_acc: 0.9655\n",
            "Epoch 257/300\n",
            "4/4 [==============================] - 5s 1s/step - loss: 0.0000e+00 - acc: 1.0000 - val_loss: 0.0882 - val_acc: 0.9655\n",
            "Epoch 258/300\n",
            "4/4 [==============================] - 5s 1s/step - loss: 0.0000e+00 - acc: 1.0000 - val_loss: 0.0705 - val_acc: 0.9655\n",
            "Epoch 259/300\n",
            "4/4 [==============================] - 5s 1s/step - loss: 0.0010 - acc: 1.0000 - val_loss: 0.0206 - val_acc: 1.0000\n",
            "Epoch 260/300\n",
            "4/4 [==============================] - 5s 1s/step - loss: 0.0062 - acc: 0.9961 - val_loss: 0.5258 - val_acc: 0.9655\n",
            "Epoch 261/300\n",
            "4/4 [==============================] - 5s 1s/step - loss: 0.0000e+00 - acc: 1.0000 - val_loss: 0.1843 - val_acc: 0.9655\n",
            "Epoch 262/300\n",
            "4/4 [==============================] - 5s 1s/step - loss: 0.0017 - acc: 1.0000 - val_loss: 0.5434 - val_acc: 0.9655\n",
            "Epoch 263/300\n",
            "4/4 [==============================] - 5s 1s/step - loss: 0.0024 - acc: 1.0000 - val_loss: 0.0040 - val_acc: 1.0000\n",
            "Epoch 264/300\n",
            "4/4 [==============================] - 5s 1s/step - loss: 6.3948e-04 - acc: 1.0000 - val_loss: 0.0107 - val_acc: 1.0000\n",
            "Epoch 265/300\n",
            "4/4 [==============================] - 5s 1s/step - loss: 0.0000e+00 - acc: 1.0000 - val_loss: 0.0098 - val_acc: 1.0000\n",
            "Epoch 266/300\n",
            "4/4 [==============================] - 5s 1s/step - loss: 2.1094e-04 - acc: 1.0000 - val_loss: 0.0308 - val_acc: 0.9655\n",
            "Epoch 267/300\n",
            "4/4 [==============================] - 5s 1s/step - loss: 0.0000e+00 - acc: 1.0000 - val_loss: 0.0295 - val_acc: 1.0000\n",
            "Epoch 268/300\n",
            "4/4 [==============================] - 5s 1s/step - loss: 0.0000e+00 - acc: 1.0000 - val_loss: 0.0288 - val_acc: 1.0000\n",
            "Epoch 269/300\n",
            "4/4 [==============================] - 5s 1s/step - loss: 0.0031 - acc: 1.0000 - val_loss: 0.5354 - val_acc: 0.9655\n",
            "Epoch 270/300\n",
            "4/4 [==============================] - 5s 1s/step - loss: 2.1214e-04 - acc: 1.0000 - val_loss: 0.0359 - val_acc: 0.9655\n",
            "Epoch 271/300\n",
            "4/4 [==============================] - 5s 1s/step - loss: 4.9829e-04 - acc: 1.0000 - val_loss: 0.0633 - val_acc: 0.9655\n",
            "Epoch 272/300\n",
            "4/4 [==============================] - 5s 1s/step - loss: 0.0000e+00 - acc: 1.0000 - val_loss: 0.0547 - val_acc: 0.9655\n",
            "Epoch 273/300\n",
            "4/4 [==============================] - 5s 1s/step - loss: 0.0010 - acc: 1.0000 - val_loss: 0.0880 - val_acc: 0.9655\n",
            "Epoch 274/300\n",
            "4/4 [==============================] - 5s 1s/step - loss: 2.9326e-04 - acc: 1.0000 - val_loss: 0.0526 - val_acc: 0.9655\n",
            "Epoch 275/300\n",
            "4/4 [==============================] - 5s 1s/step - loss: 0.0000e+00 - acc: 1.0000 - val_loss: 0.0445 - val_acc: 0.9655\n",
            "Epoch 276/300\n",
            "4/4 [==============================] - 5s 1s/step - loss: 1.0311e-04 - acc: 1.0000 - val_loss: 0.5603 - val_acc: 0.9310\n",
            "Epoch 277/300\n",
            "4/4 [==============================] - 5s 1s/step - loss: 1.4756e-04 - acc: 1.0000 - val_loss: 0.0088 - val_acc: 1.0000\n",
            "Epoch 278/300\n",
            "4/4 [==============================] - 5s 1s/step - loss: 0.0014 - acc: 1.0000 - val_loss: 0.0013 - val_acc: 1.0000\n",
            "Epoch 279/300\n",
            "4/4 [==============================] - 5s 1s/step - loss: 0.0000e+00 - acc: 1.0000 - val_loss: 7.2852e-04 - val_acc: 1.0000\n",
            "Epoch 280/300\n",
            "4/4 [==============================] - 5s 1s/step - loss: 9.8952e-04 - acc: 1.0000 - val_loss: 0.0218 - val_acc: 1.0000\n",
            "Epoch 281/300\n",
            "4/4 [==============================] - 5s 1s/step - loss: 5.6070e-04 - acc: 1.0000 - val_loss: 0.5469 - val_acc: 0.9655\n",
            "Epoch 282/300\n",
            "4/4 [==============================] - 5s 1s/step - loss: 0.0000e+00 - acc: 1.0000 - val_loss: 0.5432 - val_acc: 0.9655\n",
            "Epoch 283/300\n",
            "4/4 [==============================] - 5s 1s/step - loss: 7.2313e-04 - acc: 1.0000 - val_loss: 0.0821 - val_acc: 0.9655\n",
            "Epoch 284/300\n",
            "4/4 [==============================] - 5s 1s/step - loss: 0.0000e+00 - acc: 1.0000 - val_loss: 0.0641 - val_acc: 0.9655\n",
            "Epoch 285/300\n",
            "4/4 [==============================] - 5s 1s/step - loss: 0.0047 - acc: 0.9961 - val_loss: 0.5405 - val_acc: 0.9655\n",
            "Epoch 286/300\n",
            "4/4 [==============================] - 5s 1s/step - loss: 0.0034 - acc: 0.9961 - val_loss: 0.2305 - val_acc: 0.9310\n",
            "Epoch 287/300\n",
            "4/4 [==============================] - 5s 1s/step - loss: 0.0000e+00 - acc: 1.0000 - val_loss: 0.1643 - val_acc: 0.9310\n",
            "Epoch 288/300\n",
            "4/4 [==============================] - 5s 1s/step - loss: 8.9731e-04 - acc: 1.0000 - val_loss: 3.2460 - val_acc: 0.7241\n",
            "Epoch 289/300\n",
            "4/4 [==============================] - 5s 1s/step - loss: 0.0018 - acc: 1.0000 - val_loss: 5.1239e-04 - val_acc: 1.0000\n",
            "Epoch 290/300\n",
            "4/4 [==============================] - 5s 1s/step - loss: 0.0000e+00 - acc: 1.0000 - val_loss: 0.0000e+00 - val_acc: 1.0000\n",
            "Epoch 291/300\n",
            "4/4 [==============================] - 5s 1s/step - loss: 0.0000e+00 - acc: 1.0000 - val_loss: 0.0000e+00 - val_acc: 1.0000\n",
            "Epoch 292/300\n",
            "4/4 [==============================] - 5s 1s/step - loss: 0.0000e+00 - acc: 1.0000 - val_loss: 0.0000e+00 - val_acc: 1.0000\n",
            "Epoch 293/300\n",
            "4/4 [==============================] - 5s 1s/step - loss: 0.0000e+00 - acc: 1.0000 - val_loss: 0.0000e+00 - val_acc: 1.0000\n",
            "Epoch 294/300\n",
            "4/4 [==============================] - 5s 1s/step - loss: 5.4776e-04 - acc: 1.0000 - val_loss: 0.0731 - val_acc: 0.9655\n",
            "Epoch 295/300\n",
            "4/4 [==============================] - 5s 1s/step - loss: 8.9767e-04 - acc: 1.0000 - val_loss: 1.5879 - val_acc: 0.8966\n",
            "Epoch 296/300\n",
            "4/4 [==============================] - 5s 1s/step - loss: 0.0014 - acc: 1.0000 - val_loss: 0.0255 - val_acc: 0.9655\n",
            "Epoch 297/300\n",
            "4/4 [==============================] - 5s 1s/step - loss: 0.0000e+00 - acc: 1.0000 - val_loss: 0.0261 - val_acc: 0.9655\n",
            "Epoch 298/300\n",
            "4/4 [==============================] - 5s 1s/step - loss: 0.0000e+00 - acc: 1.0000 - val_loss: 0.0267 - val_acc: 0.9655\n",
            "Epoch 299/300\n",
            "4/4 [==============================] - 5s 1s/step - loss: 0.0016 - acc: 1.0000 - val_loss: 0.0096 - val_acc: 1.0000\n",
            "Epoch 300/300\n",
            "4/4 [==============================] - 5s 1s/step - loss: 8.7375e-04 - acc: 1.0000 - val_loss: 0.0000e+00 - val_acc: 1.0000\n"
          ],
          "name": "stdout"
        }
      ]
    },
    {
      "cell_type": "code",
      "metadata": {
        "colab": {
          "base_uri": "https://localhost:8080/",
          "height": 922
        },
        "id": "-e18Ahnmy4fr",
        "outputId": "a5e2f2b7-5861-4815-8170-8dbcd07fb1ad"
      },
      "source": [
        "\n",
        "#plot the training and validation accuracy and loss at each epoch\n",
        "loss = history.history['loss']\n",
        "val_loss = history.history['val_loss']\n",
        "epochs = range(1, len(loss) + 1)\n",
        "plt.plot(epochs, loss, 'y', label='Training loss')\n",
        "plt.plot(epochs, val_loss, 'r', label='Validation loss')\n",
        "plt.title('Training and validation loss')\n",
        "plt.xlabel('Epochs')\n",
        "plt.ylabel('Loss')\n",
        "plt.legend()\n",
        "plt.show()\n",
        "\n",
        "acc = history.history['acc']\n",
        "val_acc = history.history['val_acc']\n",
        "plt.plot(epochs, acc, 'y', label='Training acc')\n",
        "plt.plot(epochs, val_acc, 'r', label='Validation acc')\n",
        "plt.title('Training and validation accuracy')\n",
        "plt.xlabel('Epochs')\n",
        "plt.ylabel('Accuracy')\n",
        "plt.legend()\n",
        "plt.show()"
      ],
      "execution_count": null,
      "outputs": [
        {
          "output_type": "display_data",
          "data": {
            "image/png": "[encoded data removed]",
            "text/plain": [
              "<Figure size 640x480 with 1 Axes>"
            ]
          },
          "metadata": {
            "tags": []
          }
        },
        {
          "output_type": "display_data",
          "data": {
            "image/png": "[encoded data removed]",
            "text/plain": [
              "<Figure size 640x480 with 1 Axes>"
            ]
          },
          "metadata": {
            "tags": []
          }
        }
      ]
    },
    {
      "cell_type": "code",
      "metadata": {
        "colab": {
          "base_uri": "https://localhost:8080/",
          "height": 455
        },
        "id": "P-zgj1Mdy4iZ",
        "outputId": "c041dd6a-08f2-4e8c-a7d5-aeab1d88f316"
      },
      "source": [
        "n=23  #Select the index of image to be loaded for testing\n",
        "img = X_test[n]\n",
        "plt.imshow(img)\n"
      ],
      "execution_count": null,
      "outputs": [
        {
          "output_type": "execute_result",
          "data": {
            "text/plain": [
              "<matplotlib.image.AxesImage at 0x7f597d1abd50>"
            ]
          },
          "metadata": {
            "tags": []
          },
          "execution_count": 40
        },
        {
          "output_type": "display_data",
          "data": {
            "image/png": "[encoded data removed]",
            "text/plain": [
              "<Figure size 640x480 with 1 Axes>"
            ]
          },
          "metadata": {
            "tags": []
          }
        }
      ]
    },
    {
      "cell_type": "code",
      "metadata": {
        "colab": {
          "base_uri": "https://localhost:8080/"
        },
        "id": "jt2AVuHDy4kw",
        "outputId": "55cb5842-ba7e-46fa-dba6-d035c83de136"
      },
      "source": [
        "input_img = np.expand_dims(img, axis=0) #Expand dims so the input is (num images, x, y, c)\n",
        "print(\"The prediction for this image is: \", model.predict(input_img))\n",
        "print(\"The actual label for this image is: \", y_test[n])"
      ],
      "execution_count": null,
      "outputs": [
        {
          "output_type": "stream",
          "text": [
            "The prediction for this image is:  [[-0.14571318]]\n",
            "The actual label for this image is:  0\n"
          ],
          "name": "stdout"
        }
      ]
    },
    {
      "cell_type": "code",
      "metadata": {
        "id": "K2_POUtvy4nV"
      },
      "source": [
        "from keras.models import load_model\n",
        "# # load model\n",
        "model = load_model('semiconductor_model_300epochs.h5')\n",
        "\n"
      ],
      "execution_count": null,
      "outputs": []
    },
    {
      "cell_type": "code",
      "metadata": {
        "colab": {
          "base_uri": "https://localhost:8080/"
        },
        "id": "jm34xovY0qJI",
        "outputId": "71b30dca-d8c5-4d3e-d0e0-6d42ee668095"
      },
      "source": [
        "\n",
        "_, acc = model.evaluate(X_test, y_test)\n",
        "print(\"Accuracy = \", (acc * 100.0), \"%\")"
      ],
      "execution_count": null,
      "outputs": [
        {
          "output_type": "stream",
          "text": [
            "3/3 [==============================] - 1s 102ms/step - loss: 8.5694 - acc: 0.4444\n",
            "Accuracy =  44.44444477558136 %\n"
          ],
          "name": "stdout"
        }
      ]
    },
    {
      "cell_type": "code",
      "metadata": {
        "id": "c52MEbH00qLw"
      },
      "source": [
        ""
      ],
      "execution_count": null,
      "outputs": []
    },
    {
      "cell_type": "code",
      "metadata": {
        "id": "-lb_S-QO0qOp"
      },
      "source": [
        ""
      ],
      "execution_count": null,
      "outputs": []
    },
    {
      "cell_type": "code",
      "metadata": {
        "id": "7r-vu8Uv0qRG"
      },
      "source": [
        ""
      ],
      "execution_count": null,
      "outputs": []
    },
    {
      "cell_type": "code",
      "metadata": {
        "id": "ZsBXRNuJ0qUJ"
      },
      "source": [
        ""
      ],
      "execution_count": null,
      "outputs": []
    },
    {
      "cell_type": "code",
      "metadata": {
        "id": "VTt66SyB0qWv"
      },
      "source": [
        ""
      ],
      "execution_count": null,
      "outputs": []
    },
    {
      "cell_type": "code",
      "metadata": {
        "id": "DwlB8aQL0qZp"
      },
      "source": [
        ""
      ],
      "execution_count": null,
      "outputs": []
    },
    {
      "cell_type": "code",
      "metadata": {
        "id": "UUgXu9R90qcc"
      },
      "source": [
        ""
      ],
      "execution_count": null,
      "outputs": []
    },
    {
      "cell_type": "code",
      "metadata": {
        "id": "PG-6Pro30qfO"
      },
      "source": [
        ""
      ],
      "execution_count": null,
      "outputs": []
    },
    {
      "cell_type": "code",
      "metadata": {
        "id": "FIXSEpgT0qiF"
      },
      "source": [
        ""
      ],
      "execution_count": null,
      "outputs": []
    },
    {
      "cell_type": "code",
      "metadata": {
        "id": "8RqNnctg0qlC"
      },
      "source": [
        ""
      ],
      "execution_count": null,
      "outputs": []
    },
    {
      "cell_type": "code",
      "metadata": {
        "id": "eECd4X290qn9"
      },
      "source": [
        ""
      ],
      "execution_count": null,
      "outputs": []
    },
    {
      "cell_type": "code",
      "metadata": {
        "id": "j6KOy0Iw0qrD"
      },
      "source": [
        ""
      ],
      "execution_count": null,
      "outputs": []
    },
    {
      "cell_type": "code",
      "metadata": {
        "id": "ZP9SZ7MO0qtc"
      },
      "source": [
        ""
      ],
      "execution_count": null,
      "outputs": []
    },
    {
      "cell_type": "code",
      "metadata": {
        "id": "IlFyqboJ0qww"
      },
      "source": [
        ""
      ],
      "execution_count": null,
      "outputs": []
    },
    {
      "cell_type": "code",
      "metadata": {
        "id": "mUoFn8580qy6"
      },
      "source": [
        ""
      ],
      "execution_count": null,
      "outputs": []
    },
    {
      "cell_type": "code",
      "metadata": {
        "colab": {
          "base_uri": "https://localhost:8080/"
        },
        "id": "ynipJgv6y4po",
        "outputId": "93e0d64f-b460-4379-c35f-97b677be9500"
      },
      "source": [
        "mythreshold=0.908\n",
        "from sklearn.metrics import confusion_matrix\n",
        "\n",
        "y_pred = (model.predict(X_test)>= mythreshold).astype(int)\n",
        "cm=confusion_matrix(y_test, y_pred)  \n",
        "print(cm)"
      ],
      "execution_count": null,
      "outputs": [
        {
          "output_type": "stream",
          "text": [
            "[[32  0]\n",
            " [16 24]]\n"
          ],
          "name": "stdout"
        }
      ]
    },
    {
      "cell_type": "code",
      "metadata": {
        "id": "pjHQS3CRy4sD"
      },
      "source": [
        "from sklearn.metrics import roc_curve\n",
        "y_preds = model.predict(X_test).ravel()"
      ],
      "execution_count": null,
      "outputs": []
    },
    {
      "cell_type": "code",
      "metadata": {
        "id": "n9lFUgnOzTRp"
      },
      "source": [
        "fpr, tpr, thresholds = roc_curve(y_test, y_preds)\n",
        "plt.figure(1)\n",
        "plt.plot([0, 1], [0, 1], 'y--')\n",
        "plt.plot(fpr, tpr, marker='.')\n",
        "plt.xlabel('False positive rate')\n",
        "plt.ylabel('True positive rate')\n",
        "plt.title('ROC curve')\n",
        "plt.show()\n"
      ],
      "execution_count": null,
      "outputs": []
    },
    {
      "cell_type": "code",
      "metadata": {
        "id": "aHgBTAqAzTUE"
      },
      "source": [
        "import pandas as pd\n",
        "i = np.arange(len(tpr)) \n",
        "roc = pd.DataFrame({'tf' : pd.Series(tpr-(1-fpr), index=i), 'thresholds' : pd.Series(thresholds, index=i)})\n",
        "ideal_roc_thresh = roc.iloc[(roc.tf-0).abs().argsort()[:1]]  #Locate the point where the value is close to 0\n",
        "print(\"Ideal threshold is: \", ideal_roc_thresh['thresholds']) "
      ],
      "execution_count": null,
      "outputs": []
    },
    {
      "cell_type": "code",
      "metadata": {
        "id": "89Me2IEfzTWj"
      },
      "source": [
        "from sklearn.metrics import auc\n",
        "auc_value = auc(fpr, tpr)\n",
        "print(\"Area under curve, AUC = \", auc_value)"
      ],
      "execution_count": null,
      "outputs": []
    },
    {
      "cell_type": "code",
      "metadata": {
        "id": "tUWmoNTlzTZJ"
      },
      "source": [
        ""
      ],
      "execution_count": null,
      "outputs": []
    }
  ]
}