{
  "nbformat": 4,
  "nbformat_minor": 0,
  "metadata": {
    "colab": {
      "name": "Test_3_192.ipynb",
      "provenance": [],
      "collapsed_sections": [],
      "authorship_tag": "ABX9TyMxAsgpGJKnbm04pYVugiMR",
      "include_colab_link": true
    },
    "kernelspec": {
      "name": "python3",
      "display_name": "Python 3"
    },
    "language_info": {
      "name": "python"
    }
  },
  "cells": [
    {
      "cell_type": "markdown",
      "metadata": {
        "id": "view-in-github",
        "colab_type": "text"
      },
      "source": [
        "<a href=\"https://colab.research.google.com/github/brunasil98/Colab_Semiconductor/blob/main/Test_3_192_DO1.ipynb\" target=\"_parent\"><img src=\"https://colab.research.google.com/assets/colab-badge.svg\" alt=\"Open In Colab\"/></a>"
      ]
    },
    {
      "cell_type": "code",
      "metadata": {
        "colab": {
          "base_uri": "https://localhost:8080/"
        },
        "id": "zzdH3gBnpVq4",
        "outputId": "e733ece9-ed7b-4c7d-e98d-61c2a3826eb5"
      },
      "source": [
        "from google.colab import drive\n",
        "drive.mount('/content/drive')"
      ],
      "execution_count": 4,
      "outputs": [
        {
          "output_type": "stream",
          "text": [
            "Mounted at /content/drive\n"
          ],
          "name": "stdout"
        }
      ]
    },
    {
      "cell_type": "code",
      "metadata": {
        "id": "toq3QBPvqsKj"
      },
      "source": [
        "import matplotlib.pyplot as plt\n",
        "import matplotlib.image as mpimg\n",
        "\n",
        "plt.style.use('classic')\n",
        "#############################################################\n",
        "import tensorflow.keras.utils as conv_utils\n",
        "from keras.preprocessing.image import ImageDataGenerator\n",
        "from keras.models import Sequential\n",
        "from keras.layers import Conv2D, MaxPooling2D, BatchNormalization\n",
        "from keras.layers import Activation, Dropout, Flatten, Dense\n",
        "import tensorflow as tf\n",
        "#from keras import backend as K\n",
        "####################################################\n",
        "import os\n",
        "import cv2\n",
        "\n",
        "from PIL import Image\n",
        "import numpy as np"
      ],
      "execution_count": 2,
      "outputs": []
    },
    {
      "cell_type": "code",
      "metadata": {
        "id": "XdH83rJHqwju"
      },
      "source": [
        "image_directory = r'drive/MyDrive/Youtube_Neural_Network/'\n",
        "SIZE = 192\n",
        "dataset = []  #Many ways to handle data, you can use pandas. Here, we are using a list format.  \n",
        "label = []  #Place holders to define add labels. We will add 0 to all parasitized images and 1 to uninfected.\n",
        "\n",
        "Error = os.listdir(image_directory + 'Error/')\n",
        "for i, image_name in enumerate(Error):    #Remember enumerate method adds a counter and returns the enumerate object\n",
        "    \n",
        "    if (image_name.split('.')[1] == 'jpg'):\n",
        "        image = cv2.imread (image_directory + 'Error/' + image_name, cv2.IMREAD_GRAYSCALE)\n",
        "        image = Image.fromarray(image)\n",
        "        image = image.resize((SIZE, SIZE))\n",
        "        dataset.append(np.array(image))\n",
        "        label.append(1)\n",
        "   "
      ],
      "execution_count": 5,
      "outputs": []
    },
    {
      "cell_type": "code",
      "metadata": {
        "id": "5G43MPQ_qw6b"
      },
      "source": [
        "Non_error = os.listdir(image_directory + 'Non_error/')\n",
        "for i, image_name in enumerate(Non_error):\n",
        "    if (image_name.split('.')[1] == 'jpg'):\n",
        "        image = cv2.imread(image_directory + 'Non_error/' + image_name,cv2.IMREAD_GRAYSCALE)\n",
        "        image = Image.fromarray(image)\n",
        "        image = image.resize((SIZE, SIZE))\n",
        "        dataset.append(np.array(image))\n",
        "        label.append(0)"
      ],
      "execution_count": 6,
      "outputs": []
    },
    {
      "cell_type": "code",
      "metadata": {
        "id": "-3tO1aRbqw9i"
      },
      "source": [
        "from sklearn.model_selection import train_test_split\n",
        "#from keras.utils import to_categorical\n",
        "\n",
        "X_train, X_test, y_train, y_test = train_test_split(dataset, label, test_size = 0.20, random_state = 25)"
      ],
      "execution_count": 8,
      "outputs": []
    },
    {
      "cell_type": "code",
      "metadata": {
        "id": "6PkE1WarqxAT"
      },
      "source": [
        "X_train = np.array(X_train)\n",
        "X_train = X_train.reshape(len(X_train),X_train.shape[1],X_train.shape[2],1)\n",
        "y_train = np.array(y_train)\n",
        "y_train = y_train.reshape(len(y_train),1)\n",
        "X_test = np.array(X_test)\n",
        "X_test = X_test.reshape(len(X_test),X_test.shape[1],X_test.shape[2],1)\n",
        "y_test = np.array(y_test)\n",
        "y_test = y_test.reshape(len(y_test),1)"
      ],
      "execution_count": 9,
      "outputs": []
    },
    {
      "cell_type": "code",
      "metadata": {
        "colab": {
          "base_uri": "https://localhost:8080/"
        },
        "id": "o2ElNgCoqxDG",
        "outputId": "ecf510bf-90e7-4849-b346-28ba41da73e8"
      },
      "source": [
        "print(X_train.shape)\n",
        "print(y_train.shape)\n",
        "print(X_test.shape)\n",
        "print(y_test.shape)"
      ],
      "execution_count": 10,
      "outputs": [
        {
          "output_type": "stream",
          "text": [
            "(285, 192, 192, 1)\n",
            "(285, 1)\n",
            "(72, 192, 192, 1)\n",
            "(72, 1)\n"
          ],
          "name": "stdout"
        }
      ]
    },
    {
      "cell_type": "code",
      "metadata": {
        "id": "Fd-7cwfpqxF3"
      },
      "source": [
        "\n",
        "X_train = conv_utils.normalize(X_train)\n",
        "X_test = conv_utils.normalize(X_test)"
      ],
      "execution_count": 11,
      "outputs": []
    },
    {
      "cell_type": "code",
      "metadata": {
        "id": "QKziXqIHqxIw"
      },
      "source": [
        "INPUT_SHAPE = (SIZE, SIZE, 1)   #change to (SIZE, SIZE, 1)\n",
        "\n",
        "\n",
        "model = Sequential()\n",
        "model.add(Conv2D(32, (3, 3), input_shape=INPUT_SHAPE))\n",
        "model.add(Activation('relu'))\n",
        "model.add(MaxPooling2D(pool_size=(2, 2)))\n",
        "model.add(BatchNormalization())\n",
        "\n",
        "\n",
        "model.add(Conv2D(32, (3, 3), kernel_initializer = 'he_uniform'))\n",
        "model.add(Activation('relu'))\n",
        "model.add(MaxPooling2D(pool_size=(2, 2)))\n",
        "model.add(BatchNormalization())\n",
        "\n",
        "\n",
        "\n",
        "model.add(Conv2D(64, (3, 3), kernel_initializer = 'he_uniform'))\n",
        "model.add(Activation('relu'))\n",
        "model.add(MaxPooling2D(pool_size=(2, 2)))\n",
        "model.add(BatchNormalization())\n",
        "model.add(Dropout(0.75))\n",
        "\n",
        "model.add(Flatten())\n",
        "model.add(Dense(64))\n",
        "model.add(Activation('relu'))\n",
        "model.add(Dropout(0.5))\n",
        "model.add(BatchNormalization())\n",
        "\n",
        "model.add(Dense(1))\n",
        "model.add(Activation('sigmoid'))\n",
        "model.add(BatchNormalization()) "
      ],
      "execution_count": 12,
      "outputs": []
    },
    {
      "cell_type": "code",
      "metadata": {
        "colab": {
          "base_uri": "https://localhost:8080/"
        },
        "id": "CLWJL7bLqxLj",
        "outputId": "f91df71d-baf1-4800-8a9f-db71fc2142c0"
      },
      "source": [
        "model.compile(loss='binary_crossentropy',\n",
        "              optimizer='rmsprop',             #also try adam\n",
        "              metrics=['acc'])\n",
        "\n",
        "print(model.summary())    \n",
        "###############################################################  \n"
      ],
      "execution_count": 13,
      "outputs": [
        {
          "output_type": "stream",
          "text": [
            "Model: \"sequential\"\n",
            "_________________________________________________________________\n",
            "Layer (type)                 Output Shape              Param #   \n",
            "=================================================================\n",
            "conv2d (Conv2D)              (None, 190, 190, 32)      320       \n",
            "_________________________________________________________________\n",
            "activation (Activation)      (None, 190, 190, 32)      0         \n",
            "_________________________________________________________________\n",
            "max_pooling2d (MaxPooling2D) (None, 95, 95, 32)        0         \n",
            "_________________________________________________________________\n",
            "batch_normalization (BatchNo (None, 95, 95, 32)        128       \n",
            "_________________________________________________________________\n",
            "conv2d_1 (Conv2D)            (None, 93, 93, 32)        9248      \n",
            "_________________________________________________________________\n",
            "activation_1 (Activation)    (None, 93, 93, 32)        0         \n",
            "_________________________________________________________________\n",
            "max_pooling2d_1 (MaxPooling2 (None, 46, 46, 32)        0         \n",
            "_________________________________________________________________\n",
            "batch_normalization_1 (Batch (None, 46, 46, 32)        128       \n",
            "_________________________________________________________________\n",
            "dropout (Dropout)            (None, 46, 46, 32)        0         \n",
            "_________________________________________________________________\n",
            "conv2d_2 (Conv2D)            (None, 44, 44, 64)        18496     \n",
            "_________________________________________________________________\n",
            "activation_2 (Activation)    (None, 44, 44, 64)        0         \n",
            "_________________________________________________________________\n",
            "max_pooling2d_2 (MaxPooling2 (None, 22, 22, 64)        0         \n",
            "_________________________________________________________________\n",
            "batch_normalization_2 (Batch (None, 22, 22, 64)        256       \n",
            "_________________________________________________________________\n",
            "flatten (Flatten)            (None, 30976)             0         \n",
            "_________________________________________________________________\n",
            "dense (Dense)                (None, 64)                1982528   \n",
            "_________________________________________________________________\n",
            "activation_3 (Activation)    (None, 64)                0         \n",
            "_________________________________________________________________\n",
            "dropout_1 (Dropout)          (None, 64)                0         \n",
            "_________________________________________________________________\n",
            "batch_normalization_3 (Batch (None, 64)                256       \n",
            "_________________________________________________________________\n",
            "dense_1 (Dense)              (None, 1)                 65        \n",
            "_________________________________________________________________\n",
            "activation_4 (Activation)    (None, 1)                 0         \n",
            "_________________________________________________________________\n",
            "batch_normalization_4 (Batch (None, 1)                 4         \n",
            "=================================================================\n",
            "Total params: 2,011,429\n",
            "Trainable params: 2,011,043\n",
            "Non-trainable params: 386\n",
            "_________________________________________________________________\n",
            "None\n"
          ],
          "name": "stdout"
        }
      ]
    },
    {
      "cell_type": "code",
      "metadata": {
        "colab": {
          "base_uri": "https://localhost:8080/"
        },
        "id": "MZaXKEa5qxON",
        "outputId": "fd0149d2-f569-4e12-af28-e08f2e50c25b"
      },
      "source": [
        "print(X_train.shape)\n",
        "print(y_train.shape)\n",
        "print(X_test.shape)\n",
        "print(y_test.shape)"
      ],
      "execution_count": 14,
      "outputs": [
        {
          "output_type": "stream",
          "text": [
            "(285, 192, 192, 1)\n",
            "(285, 1)\n",
            "(72, 192, 192, 1)\n",
            "(72, 1)\n"
          ],
          "name": "stdout"
        }
      ]
    },
    {
      "cell_type": "code",
      "metadata": {
        "colab": {
          "base_uri": "https://localhost:8080/",
          "height": 1000
        },
        "id": "HEwRTN5hqxQu",
        "outputId": "1dbb4183-c069-41e0-e10b-db81059fecbb"
      },
      "source": [
        "history = model.fit(X_train, \n",
        "                         y_train, \n",
        "                         batch_size = 285, \n",
        "                         verbose = 1, \n",
        "                         epochs = 100,      \n",
        "                         validation_split= 0.1,\n",
        "                         shuffle = True\n",
        "                     )\n",
        "\n",
        "\n"
      ],
      "execution_count": 15,
      "outputs": [
        {
          "output_type": "stream",
          "text": [
            "Epoch 1/100\n",
            "1/1 [==============================] - 28s 28s/step - loss: 6.1839 - acc: 0.4727 - val_loss: 0.7260 - val_acc: 0.5172\n",
            "Epoch 2/100\n",
            "1/1 [==============================] - 8s 8s/step - loss: 5.4988 - acc: 0.5547 - val_loss: 0.7203 - val_acc: 0.4483\n",
            "Epoch 3/100\n",
            "1/1 [==============================] - 8s 8s/step - loss: 5.6881 - acc: 0.5273 - val_loss: 0.9173 - val_acc: 0.5517\n",
            "Epoch 4/100\n",
            "1/1 [==============================] - 8s 8s/step - loss: 5.0989 - acc: 0.5625 - val_loss: 1.0136 - val_acc: 0.5517\n",
            "Epoch 5/100\n",
            "1/1 [==============================] - 8s 8s/step - loss: 5.5447 - acc: 0.5703 - val_loss: 0.9147 - val_acc: 0.5517\n",
            "Epoch 6/100\n",
            "1/1 [==============================] - 8s 8s/step - loss: 4.3915 - acc: 0.5625 - val_loss: 0.9003 - val_acc: 0.5517\n",
            "Epoch 7/100\n",
            "1/1 [==============================] - 8s 8s/step - loss: 4.0226 - acc: 0.6016 - val_loss: 0.6714 - val_acc: 0.5172\n",
            "Epoch 8/100\n",
            "1/1 [==============================] - 8s 8s/step - loss: 4.2522 - acc: 0.6133 - val_loss: 0.9628 - val_acc: 0.5517\n",
            "Epoch 9/100\n",
            "1/1 [==============================] - 8s 8s/step - loss: 3.8562 - acc: 0.5898 - val_loss: 1.0553 - val_acc: 0.5517\n",
            "Epoch 10/100\n",
            "1/1 [==============================] - 8s 8s/step - loss: 3.8970 - acc: 0.6016 - val_loss: 1.0571 - val_acc: 0.5517\n",
            "Epoch 11/100\n",
            "1/1 [==============================] - 8s 8s/step - loss: 3.6073 - acc: 0.6211 - val_loss: 1.0085 - val_acc: 0.5517\n",
            "Epoch 12/100\n",
            "1/1 [==============================] - 8s 8s/step - loss: 3.2262 - acc: 0.6133 - val_loss: 1.0193 - val_acc: 0.5517\n",
            "Epoch 13/100\n",
            "1/1 [==============================] - 8s 8s/step - loss: 3.2856 - acc: 0.6523 - val_loss: 0.9835 - val_acc: 0.5517\n",
            "Epoch 14/100\n",
            "1/1 [==============================] - 8s 8s/step - loss: 3.3619 - acc: 0.6484 - val_loss: 0.9914 - val_acc: 0.5517\n",
            "Epoch 15/100\n",
            "1/1 [==============================] - 8s 8s/step - loss: 3.0780 - acc: 0.6562 - val_loss: 0.9672 - val_acc: 0.5517\n",
            "Epoch 16/100\n",
            "1/1 [==============================] - 8s 8s/step - loss: 3.1276 - acc: 0.6914 - val_loss: 1.0532 - val_acc: 0.5517\n",
            "Epoch 17/100\n",
            "1/1 [==============================] - 8s 8s/step - loss: 2.5104 - acc: 0.6836 - val_loss: 1.1000 - val_acc: 0.5517\n",
            "Epoch 18/100\n",
            "1/1 [==============================] - 8s 8s/step - loss: 3.0565 - acc: 0.6445 - val_loss: 1.0361 - val_acc: 0.5517\n",
            "Epoch 19/100\n",
            "1/1 [==============================] - 8s 8s/step - loss: 3.0043 - acc: 0.6836 - val_loss: 1.0057 - val_acc: 0.5517\n",
            "Epoch 20/100\n",
            "1/1 [==============================] - 8s 8s/step - loss: 2.9557 - acc: 0.6680 - val_loss: 1.0617 - val_acc: 0.5517\n",
            "Epoch 21/100\n",
            "1/1 [==============================] - 8s 8s/step - loss: 2.7608 - acc: 0.6836 - val_loss: 1.0870 - val_acc: 0.5517\n",
            "Epoch 22/100\n",
            "1/1 [==============================] - 8s 8s/step - loss: 2.5772 - acc: 0.6992 - val_loss: 1.0625 - val_acc: 0.5517\n",
            "Epoch 23/100\n",
            "1/1 [==============================] - 8s 8s/step - loss: 2.7470 - acc: 0.6719 - val_loss: 1.0207 - val_acc: 0.5517\n",
            "Epoch 24/100\n",
            "1/1 [==============================] - 8s 8s/step - loss: 2.5945 - acc: 0.6523 - val_loss: 1.0736 - val_acc: 0.5517\n",
            "Epoch 25/100\n",
            "1/1 [==============================] - 8s 8s/step - loss: 2.8440 - acc: 0.6953 - val_loss: 1.1193 - val_acc: 0.5517\n",
            "Epoch 26/100\n",
            "1/1 [==============================] - 8s 8s/step - loss: 2.5202 - acc: 0.6719 - val_loss: 1.0997 - val_acc: 0.5517\n",
            "Epoch 27/100\n",
            "1/1 [==============================] - 8s 8s/step - loss: 2.1022 - acc: 0.7344 - val_loss: 1.0721 - val_acc: 0.5517\n",
            "Epoch 28/100\n",
            "1/1 [==============================] - 8s 8s/step - loss: 2.7692 - acc: 0.6914 - val_loss: 1.0598 - val_acc: 0.5517\n",
            "Epoch 29/100\n",
            "1/1 [==============================] - 8s 8s/step - loss: 2.2389 - acc: 0.7148 - val_loss: 1.0723 - val_acc: 0.5517\n",
            "Epoch 30/100\n",
            "1/1 [==============================] - 8s 8s/step - loss: 2.3944 - acc: 0.6758 - val_loss: 1.0445 - val_acc: 0.5517\n",
            "Epoch 31/100\n",
            "1/1 [==============================] - 8s 8s/step - loss: 2.3435 - acc: 0.7031 - val_loss: 1.0166 - val_acc: 0.5517\n",
            "Epoch 32/100\n",
            "1/1 [==============================] - 8s 8s/step - loss: 2.1711 - acc: 0.7266 - val_loss: 0.9536 - val_acc: 0.5517\n",
            "Epoch 33/100\n",
            "1/1 [==============================] - 8s 8s/step - loss: 2.0847 - acc: 0.6992 - val_loss: 1.1174 - val_acc: 0.5517\n",
            "Epoch 34/100\n",
            "1/1 [==============================] - 8s 8s/step - loss: 2.0078 - acc: 0.7188 - val_loss: 1.1975 - val_acc: 0.5517\n",
            "Epoch 35/100\n",
            "1/1 [==============================] - 8s 8s/step - loss: 2.4394 - acc: 0.7188 - val_loss: 1.1770 - val_acc: 0.5517\n",
            "Epoch 36/100\n",
            "1/1 [==============================] - 8s 8s/step - loss: 2.0229 - acc: 0.6758 - val_loss: 1.1525 - val_acc: 0.5517\n",
            "Epoch 37/100\n",
            "1/1 [==============================] - 8s 8s/step - loss: 1.9467 - acc: 0.7188 - val_loss: 1.1159 - val_acc: 0.5517\n",
            "Epoch 38/100\n",
            "1/1 [==============================] - 8s 8s/step - loss: 1.6370 - acc: 0.7539 - val_loss: 1.0617 - val_acc: 0.5517\n",
            "Epoch 39/100\n",
            "1/1 [==============================] - 10s 10s/step - loss: 1.7843 - acc: 0.7148 - val_loss: 0.9521 - val_acc: 0.5517\n",
            "Epoch 40/100\n",
            "1/1 [==============================] - 8s 8s/step - loss: 1.8944 - acc: 0.7656 - val_loss: 0.8890 - val_acc: 0.5517\n",
            "Epoch 41/100\n",
            "1/1 [==============================] - 8s 8s/step - loss: 2.0566 - acc: 0.7266 - val_loss: 1.0172 - val_acc: 0.5517\n",
            "Epoch 42/100\n",
            "1/1 [==============================] - 8s 8s/step - loss: 1.9888 - acc: 0.7070 - val_loss: 1.0051 - val_acc: 0.5517\n",
            "Epoch 43/100\n",
            "1/1 [==============================] - 8s 8s/step - loss: 1.7240 - acc: 0.7305 - val_loss: 0.7913 - val_acc: 0.5517\n",
            "Epoch 44/100\n",
            "1/1 [==============================] - 8s 8s/step - loss: 1.8433 - acc: 0.7148 - val_loss: 0.7759 - val_acc: 0.5517\n",
            "Epoch 45/100\n",
            "1/1 [==============================] - 8s 8s/step - loss: 1.9091 - acc: 0.7461 - val_loss: 0.8218 - val_acc: 0.3793\n",
            "Epoch 46/100\n",
            "1/1 [==============================] - 8s 8s/step - loss: 1.7701 - acc: 0.7617 - val_loss: 0.8879 - val_acc: 0.5517\n",
            "Epoch 47/100\n",
            "1/1 [==============================] - 8s 8s/step - loss: 1.8715 - acc: 0.7266 - val_loss: 0.8806 - val_acc: 0.5517\n",
            "Epoch 48/100\n",
            "1/1 [==============================] - 8s 8s/step - loss: 1.7480 - acc: 0.7734 - val_loss: 0.9916 - val_acc: 0.5517\n",
            "Epoch 49/100\n",
            "1/1 [==============================] - 8s 8s/step - loss: 1.7495 - acc: 0.7305 - val_loss: 0.9344 - val_acc: 0.5517\n",
            "Epoch 50/100\n",
            "1/1 [==============================] - 8s 8s/step - loss: 1.9613 - acc: 0.7305 - val_loss: 0.8963 - val_acc: 0.5517\n",
            "Epoch 51/100\n",
            "1/1 [==============================] - 8s 8s/step - loss: 1.6050 - acc: 0.7539 - val_loss: 0.8297 - val_acc: 0.5517\n",
            "Epoch 52/100\n",
            "1/1 [==============================] - 8s 8s/step - loss: 1.6675 - acc: 0.7617 - val_loss: 0.8060 - val_acc: 0.5517\n",
            "Epoch 53/100\n",
            "1/1 [==============================] - 8s 8s/step - loss: 1.6808 - acc: 0.7734 - val_loss: 0.7521 - val_acc: 0.5517\n",
            "Epoch 54/100\n",
            "1/1 [==============================] - 8s 8s/step - loss: 1.5928 - acc: 0.8047 - val_loss: 0.7924 - val_acc: 0.5517\n",
            "Epoch 55/100\n",
            "1/1 [==============================] - 8s 8s/step - loss: 1.4018 - acc: 0.7930 - val_loss: 0.7448 - val_acc: 0.5862\n",
            "Epoch 56/100\n",
            "1/1 [==============================] - 8s 8s/step - loss: 1.5826 - acc: 0.7852 - val_loss: 0.9084 - val_acc: 0.3448\n",
            "Epoch 57/100\n",
            "1/1 [==============================] - 8s 8s/step - loss: 1.6132 - acc: 0.8086 - val_loss: 0.8733 - val_acc: 0.5517\n",
            "Epoch 58/100\n",
            "1/1 [==============================] - 8s 8s/step - loss: 1.5890 - acc: 0.7734 - val_loss: 0.8059 - val_acc: 0.5517\n",
            "Epoch 59/100\n",
            "1/1 [==============================] - 8s 8s/step - loss: 1.4859 - acc: 0.7773 - val_loss: 0.7489 - val_acc: 0.5517\n",
            "Epoch 60/100\n",
            "1/1 [==============================] - 8s 8s/step - loss: 1.5751 - acc: 0.7969 - val_loss: 0.8164 - val_acc: 0.3448\n",
            "Epoch 61/100\n",
            "1/1 [==============================] - 8s 8s/step - loss: 1.5317 - acc: 0.8359 - val_loss: 0.8135 - val_acc: 0.5517\n",
            "Epoch 62/100\n",
            "1/1 [==============================] - 8s 8s/step - loss: 1.5753 - acc: 0.7852 - val_loss: 0.7748 - val_acc: 0.5517\n",
            "Epoch 63/100\n",
            "1/1 [==============================] - 8s 8s/step - loss: 1.5442 - acc: 0.8086 - val_loss: 0.9018 - val_acc: 0.3793\n",
            "Epoch 64/100\n",
            "1/1 [==============================] - 8s 8s/step - loss: 1.3772 - acc: 0.7969 - val_loss: 3.0032 - val_acc: 0.4483\n",
            "Epoch 65/100\n",
            "1/1 [==============================] - 8s 8s/step - loss: 1.5148 - acc: 0.8125 - val_loss: 7.1969 - val_acc: 0.4483\n",
            "Epoch 66/100\n",
            "1/1 [==============================] - 8s 8s/step - loss: 1.4240 - acc: 0.8203 - val_loss: 0.7937 - val_acc: 0.4138\n",
            "Epoch 67/100\n",
            "1/1 [==============================] - 8s 8s/step - loss: 1.4178 - acc: 0.8281 - val_loss: 1.0861 - val_acc: 0.4483\n",
            "Epoch 68/100\n",
            "1/1 [==============================] - 8s 8s/step - loss: 1.3184 - acc: 0.8398 - val_loss: 5.5808 - val_acc: 0.4483\n",
            "Epoch 69/100\n",
            "1/1 [==============================] - 8s 8s/step - loss: 1.2876 - acc: 0.8242 - val_loss: 8.5103 - val_acc: 0.4483\n",
            "Epoch 70/100\n",
            "1/1 [==============================] - 8s 8s/step - loss: 1.2408 - acc: 0.8633 - val_loss: 8.5103 - val_acc: 0.4483\n",
            "Epoch 71/100\n",
            "1/1 [==============================] - 8s 8s/step - loss: 1.2466 - acc: 0.8945 - val_loss: 8.5103 - val_acc: 0.4483\n",
            "Epoch 72/100\n",
            "1/1 [==============================] - 8s 8s/step - loss: 1.1760 - acc: 0.8789 - val_loss: 8.5103 - val_acc: 0.4483\n",
            "Epoch 73/100\n",
            "1/1 [==============================] - 8s 8s/step - loss: 1.3834 - acc: 0.8672 - val_loss: 8.5103 - val_acc: 0.4483\n",
            "Epoch 74/100\n",
            "1/1 [==============================] - 8s 8s/step - loss: 1.0112 - acc: 0.8750 - val_loss: 8.5103 - val_acc: 0.4483\n",
            "Epoch 75/100\n",
            "1/1 [==============================] - 8s 8s/step - loss: 1.0874 - acc: 0.8555 - val_loss: 8.5103 - val_acc: 0.4483\n",
            "Epoch 76/100\n",
            "1/1 [==============================] - 8s 8s/step - loss: 1.0737 - acc: 0.8711 - val_loss: 1.0169 - val_acc: 0.3103\n",
            "Epoch 77/100\n",
            "1/1 [==============================] - 8s 8s/step - loss: 1.3115 - acc: 0.7773 - val_loss: 8.5103 - val_acc: 0.4483\n",
            "Epoch 78/100\n",
            "1/1 [==============================] - 8s 8s/step - loss: 1.1646 - acc: 0.8555 - val_loss: 8.5103 - val_acc: 0.4483\n",
            "Epoch 79/100\n",
            "1/1 [==============================] - 8s 8s/step - loss: 0.9874 - acc: 0.8789 - val_loss: 8.1036 - val_acc: 0.4483\n",
            "Epoch 80/100\n",
            "1/1 [==============================] - 8s 8s/step - loss: 1.2730 - acc: 0.8281 - val_loss: 8.5103 - val_acc: 0.4483\n",
            "Epoch 81/100\n"
          ],
          "name": "stdout"
        },
        {
          "output_type": "error",
          "ename": "KeyboardInterrupt",
          "evalue": "ignored",
          "traceback": [
            "\u001b[0;31m---------------------------------------------------------------------------\u001b[0m",
            "\u001b[0;31mKeyboardInterrupt\u001b[0m                         Traceback (most recent call last)",
            "\u001b[0;32m<ipython-input-15-1a37f75b02b9>\u001b[0m in \u001b[0;36m<module>\u001b[0;34m()\u001b[0m\n\u001b[1;32m      5\u001b[0m                          \u001b[0mepochs\u001b[0m \u001b[0;34m=\u001b[0m \u001b[0;36m100\u001b[0m\u001b[0;34m,\u001b[0m\u001b[0;34m\u001b[0m\u001b[0;34m\u001b[0m\u001b[0m\n\u001b[1;32m      6\u001b[0m                          \u001b[0mvalidation_split\u001b[0m\u001b[0;34m=\u001b[0m \u001b[0;36m0.1\u001b[0m\u001b[0;34m,\u001b[0m\u001b[0;34m\u001b[0m\u001b[0;34m\u001b[0m\u001b[0m\n\u001b[0;32m----> 7\u001b[0;31m                          \u001b[0mshuffle\u001b[0m \u001b[0;34m=\u001b[0m \u001b[0;32mTrue\u001b[0m\u001b[0;34m\u001b[0m\u001b[0;34m\u001b[0m\u001b[0m\n\u001b[0m\u001b[1;32m      8\u001b[0m                      )\n\u001b[1;32m      9\u001b[0m \u001b[0;34m\u001b[0m\u001b[0m\n",
            "\u001b[0;32m/usr/local/lib/python3.7/dist-packages/keras/engine/training.py\u001b[0m in \u001b[0;36mfit\u001b[0;34m(self, x, y, batch_size, epochs, verbose, callbacks, validation_split, validation_data, shuffle, class_weight, sample_weight, initial_epoch, steps_per_epoch, validation_steps, validation_batch_size, validation_freq, max_queue_size, workers, use_multiprocessing)\u001b[0m\n\u001b[1;32m   1156\u001b[0m                 _r=1):\n\u001b[1;32m   1157\u001b[0m               \u001b[0mcallbacks\u001b[0m\u001b[0;34m.\u001b[0m\u001b[0mon_train_batch_begin\u001b[0m\u001b[0;34m(\u001b[0m\u001b[0mstep\u001b[0m\u001b[0;34m)\u001b[0m\u001b[0;34m\u001b[0m\u001b[0;34m\u001b[0m\u001b[0m\n\u001b[0;32m-> 1158\u001b[0;31m               \u001b[0mtmp_logs\u001b[0m \u001b[0;34m=\u001b[0m \u001b[0mself\u001b[0m\u001b[0;34m.\u001b[0m\u001b[0mtrain_function\u001b[0m\u001b[0;34m(\u001b[0m\u001b[0miterator\u001b[0m\u001b[0;34m)\u001b[0m\u001b[0;34m\u001b[0m\u001b[0;34m\u001b[0m\u001b[0m\n\u001b[0m\u001b[1;32m   1159\u001b[0m               \u001b[0;32mif\u001b[0m \u001b[0mdata_handler\u001b[0m\u001b[0;34m.\u001b[0m\u001b[0mshould_sync\u001b[0m\u001b[0;34m:\u001b[0m\u001b[0;34m\u001b[0m\u001b[0;34m\u001b[0m\u001b[0m\n\u001b[1;32m   1160\u001b[0m                 \u001b[0mcontext\u001b[0m\u001b[0;34m.\u001b[0m\u001b[0masync_wait\u001b[0m\u001b[0;34m(\u001b[0m\u001b[0;34m)\u001b[0m\u001b[0;34m\u001b[0m\u001b[0;34m\u001b[0m\u001b[0m\n",
            "\u001b[0;32m/usr/local/lib/python3.7/dist-packages/tensorflow/python/eager/def_function.py\u001b[0m in \u001b[0;36m__call__\u001b[0;34m(self, *args, **kwds)\u001b[0m\n\u001b[1;32m    887\u001b[0m \u001b[0;34m\u001b[0m\u001b[0m\n\u001b[1;32m    888\u001b[0m       \u001b[0;32mwith\u001b[0m \u001b[0mOptionalXlaContext\u001b[0m\u001b[0;34m(\u001b[0m\u001b[0mself\u001b[0m\u001b[0;34m.\u001b[0m\u001b[0m_jit_compile\u001b[0m\u001b[0;34m)\u001b[0m\u001b[0;34m:\u001b[0m\u001b[0;34m\u001b[0m\u001b[0;34m\u001b[0m\u001b[0m\n\u001b[0;32m--> 889\u001b[0;31m         \u001b[0mresult\u001b[0m \u001b[0;34m=\u001b[0m \u001b[0mself\u001b[0m\u001b[0;34m.\u001b[0m\u001b[0m_call\u001b[0m\u001b[0;34m(\u001b[0m\u001b[0;34m*\u001b[0m\u001b[0margs\u001b[0m\u001b[0;34m,\u001b[0m \u001b[0;34m**\u001b[0m\u001b[0mkwds\u001b[0m\u001b[0;34m)\u001b[0m\u001b[0;34m\u001b[0m\u001b[0;34m\u001b[0m\u001b[0m\n\u001b[0m\u001b[1;32m    890\u001b[0m \u001b[0;34m\u001b[0m\u001b[0m\n\u001b[1;32m    891\u001b[0m       \u001b[0mnew_tracing_count\u001b[0m \u001b[0;34m=\u001b[0m \u001b[0mself\u001b[0m\u001b[0;34m.\u001b[0m\u001b[0mexperimental_get_tracing_count\u001b[0m\u001b[0;34m(\u001b[0m\u001b[0;34m)\u001b[0m\u001b[0;34m\u001b[0m\u001b[0;34m\u001b[0m\u001b[0m\n",
            "\u001b[0;32m/usr/local/lib/python3.7/dist-packages/tensorflow/python/eager/def_function.py\u001b[0m in \u001b[0;36m_call\u001b[0;34m(self, *args, **kwds)\u001b[0m\n\u001b[1;32m    915\u001b[0m       \u001b[0;31m# In this case we have created variables on the first call, so we run the\u001b[0m\u001b[0;34m\u001b[0m\u001b[0;34m\u001b[0m\u001b[0;34m\u001b[0m\u001b[0m\n\u001b[1;32m    916\u001b[0m       \u001b[0;31m# defunned version which is guaranteed to never create variables.\u001b[0m\u001b[0;34m\u001b[0m\u001b[0;34m\u001b[0m\u001b[0;34m\u001b[0m\u001b[0m\n\u001b[0;32m--> 917\u001b[0;31m       \u001b[0;32mreturn\u001b[0m \u001b[0mself\u001b[0m\u001b[0;34m.\u001b[0m\u001b[0m_stateless_fn\u001b[0m\u001b[0;34m(\u001b[0m\u001b[0;34m*\u001b[0m\u001b[0margs\u001b[0m\u001b[0;34m,\u001b[0m \u001b[0;34m**\u001b[0m\u001b[0mkwds\u001b[0m\u001b[0;34m)\u001b[0m  \u001b[0;31m# pylint: disable=not-callable\u001b[0m\u001b[0;34m\u001b[0m\u001b[0;34m\u001b[0m\u001b[0m\n\u001b[0m\u001b[1;32m    918\u001b[0m     \u001b[0;32melif\u001b[0m \u001b[0mself\u001b[0m\u001b[0;34m.\u001b[0m\u001b[0m_stateful_fn\u001b[0m \u001b[0;32mis\u001b[0m \u001b[0;32mnot\u001b[0m \u001b[0;32mNone\u001b[0m\u001b[0;34m:\u001b[0m\u001b[0;34m\u001b[0m\u001b[0;34m\u001b[0m\u001b[0m\n\u001b[1;32m    919\u001b[0m       \u001b[0;31m# Release the lock early so that multiple threads can perform the call\u001b[0m\u001b[0;34m\u001b[0m\u001b[0;34m\u001b[0m\u001b[0;34m\u001b[0m\u001b[0m\n",
            "\u001b[0;32m/usr/local/lib/python3.7/dist-packages/tensorflow/python/eager/function.py\u001b[0m in \u001b[0;36m__call__\u001b[0;34m(self, *args, **kwargs)\u001b[0m\n\u001b[1;32m   3022\u001b[0m        filtered_flat_args) = self._maybe_define_function(args, kwargs)\n\u001b[1;32m   3023\u001b[0m     return graph_function._call_flat(\n\u001b[0;32m-> 3024\u001b[0;31m         filtered_flat_args, captured_inputs=graph_function.captured_inputs)  # pylint: disable=protected-access\n\u001b[0m\u001b[1;32m   3025\u001b[0m \u001b[0;34m\u001b[0m\u001b[0m\n\u001b[1;32m   3026\u001b[0m   \u001b[0;34m@\u001b[0m\u001b[0mproperty\u001b[0m\u001b[0;34m\u001b[0m\u001b[0;34m\u001b[0m\u001b[0m\n",
            "\u001b[0;32m/usr/local/lib/python3.7/dist-packages/tensorflow/python/eager/function.py\u001b[0m in \u001b[0;36m_call_flat\u001b[0;34m(self, args, captured_inputs, cancellation_manager)\u001b[0m\n\u001b[1;32m   1959\u001b[0m       \u001b[0;31m# No tape is watching; skip to running the function.\u001b[0m\u001b[0;34m\u001b[0m\u001b[0;34m\u001b[0m\u001b[0;34m\u001b[0m\u001b[0m\n\u001b[1;32m   1960\u001b[0m       return self._build_call_outputs(self._inference_function.call(\n\u001b[0;32m-> 1961\u001b[0;31m           ctx, args, cancellation_manager=cancellation_manager))\n\u001b[0m\u001b[1;32m   1962\u001b[0m     forward_backward = self._select_forward_and_backward_functions(\n\u001b[1;32m   1963\u001b[0m         \u001b[0margs\u001b[0m\u001b[0;34m,\u001b[0m\u001b[0;34m\u001b[0m\u001b[0;34m\u001b[0m\u001b[0m\n",
            "\u001b[0;32m/usr/local/lib/python3.7/dist-packages/tensorflow/python/eager/function.py\u001b[0m in \u001b[0;36mcall\u001b[0;34m(self, ctx, args, cancellation_manager)\u001b[0m\n\u001b[1;32m    594\u001b[0m               \u001b[0minputs\u001b[0m\u001b[0;34m=\u001b[0m\u001b[0margs\u001b[0m\u001b[0;34m,\u001b[0m\u001b[0;34m\u001b[0m\u001b[0;34m\u001b[0m\u001b[0m\n\u001b[1;32m    595\u001b[0m               \u001b[0mattrs\u001b[0m\u001b[0;34m=\u001b[0m\u001b[0mattrs\u001b[0m\u001b[0;34m,\u001b[0m\u001b[0;34m\u001b[0m\u001b[0;34m\u001b[0m\u001b[0m\n\u001b[0;32m--> 596\u001b[0;31m               ctx=ctx)\n\u001b[0m\u001b[1;32m    597\u001b[0m         \u001b[0;32melse\u001b[0m\u001b[0;34m:\u001b[0m\u001b[0;34m\u001b[0m\u001b[0;34m\u001b[0m\u001b[0m\n\u001b[1;32m    598\u001b[0m           outputs = execute.execute_with_cancellation(\n",
            "\u001b[0;32m/usr/local/lib/python3.7/dist-packages/tensorflow/python/eager/execute.py\u001b[0m in \u001b[0;36mquick_execute\u001b[0;34m(op_name, num_outputs, inputs, attrs, ctx, name)\u001b[0m\n\u001b[1;32m     58\u001b[0m     \u001b[0mctx\u001b[0m\u001b[0;34m.\u001b[0m\u001b[0mensure_initialized\u001b[0m\u001b[0;34m(\u001b[0m\u001b[0;34m)\u001b[0m\u001b[0;34m\u001b[0m\u001b[0;34m\u001b[0m\u001b[0m\n\u001b[1;32m     59\u001b[0m     tensors = pywrap_tfe.TFE_Py_Execute(ctx._handle, device_name, op_name,\n\u001b[0;32m---> 60\u001b[0;31m                                         inputs, attrs, num_outputs)\n\u001b[0m\u001b[1;32m     61\u001b[0m   \u001b[0;32mexcept\u001b[0m \u001b[0mcore\u001b[0m\u001b[0;34m.\u001b[0m\u001b[0m_NotOkStatusException\u001b[0m \u001b[0;32mas\u001b[0m \u001b[0me\u001b[0m\u001b[0;34m:\u001b[0m\u001b[0;34m\u001b[0m\u001b[0;34m\u001b[0m\u001b[0m\n\u001b[1;32m     62\u001b[0m     \u001b[0;32mif\u001b[0m \u001b[0mname\u001b[0m \u001b[0;32mis\u001b[0m \u001b[0;32mnot\u001b[0m \u001b[0;32mNone\u001b[0m\u001b[0;34m:\u001b[0m\u001b[0;34m\u001b[0m\u001b[0;34m\u001b[0m\u001b[0m\n",
            "\u001b[0;31mKeyboardInterrupt\u001b[0m: "
          ]
        }
      ]
    },
    {
      "cell_type": "code",
      "metadata": {
        "id": "o99KsHnyrA5u"
      },
      "source": [
        "\n",
        "model.save('semiconductor_model3_194_50epochs_2.h5')  "
      ],
      "execution_count": null,
      "outputs": []
    },
    {
      "cell_type": "code",
      "metadata": {
        "colab": {
          "base_uri": "https://localhost:8080/",
          "height": 922
        },
        "id": "_Dq30ruprA-2",
        "outputId": "51bbae98-3594-41a9-95a7-fc00028164a4"
      },
      "source": [
        "\n",
        "#plot the training and validation accuracy and loss at each epoch\n",
        "loss = history.history['loss']\n",
        "val_loss = history.history['val_loss']\n",
        "epochs = range(1, len(loss) + 1)\n",
        "plt.plot(epochs, loss, 'y', label='Training loss')\n",
        "plt.plot(epochs, val_loss, 'r', label='Validation loss')\n",
        "plt.title('Training and validation loss')\n",
        "plt.xlabel('Epochs')\n",
        "plt.ylabel('Loss')\n",
        "plt.legend()\n",
        "plt.show()\n",
        "\n",
        "acc = history.history['acc']\n",
        "val_acc = history.history['val_acc']\n",
        "plt.plot(epochs, acc, 'y', label='Training acc')\n",
        "plt.plot(epochs, val_acc, 'r', label='Validation acc')\n",
        "plt.title('Training and validation accuracy')\n",
        "plt.xlabel('Epochs')\n",
        "plt.ylabel('Accuracy')\n",
        "plt.legend()\n",
        "plt.show()"
      ],
      "execution_count": null,
      "outputs": [
        {
          "output_type": "display_data",
          "data": {
            "image/png": "[encoded data removed]",
            "text/plain": [
              "<Figure size 640x480 with 1 Axes>"
            ]
          },
          "metadata": {
            "tags": []
          }
        },
        {
          "output_type": "display_data",
          "data": {
            "image/png": "[encoded data removed]",
            "text/plain": [
              "<Figure size 640x480 with 1 Axes>"
            ]
          },
          "metadata": {
            "tags": []
          }
        }
      ]
    },
    {
      "cell_type": "code",
      "metadata": {
        "colab": {
          "base_uri": "https://localhost:8080/",
          "height": 455
        },
        "id": "ypjHAEUtrBBY",
        "outputId": "9590e23c-859f-4811-c519-9a77f861c956"
      },
      "source": [
        "n=23  #Select the index of image to be loaded for testing\n",
        "#Image_Non_Error 440000062 = number 23\n",
        "#Image_Error 440000036 = number 10\n",
        "\n",
        "img = X_test[n]\n",
        "plt.imshow(tf.squeeze(img) )"
      ],
      "execution_count": null,
      "outputs": [
        {
          "output_type": "execute_result",
          "data": {
            "text/plain": [
              "<matplotlib.image.AxesImage at 0x7f393e2dc310>"
            ]
          },
          "metadata": {
            "tags": []
          },
          "execution_count": 32
        },
        {
          "output_type": "display_data",
          "data": {
            "image/png": "[encoded data removed]",
            "text/plain": [
              "<Figure size 640x480 with 1 Axes>"
            ]
          },
          "metadata": {
            "tags": []
          }
        }
      ]
    },
    {
      "cell_type": "code",
      "metadata": {
        "colab": {
          "base_uri": "https://localhost:8080/"
        },
        "id": "uohT9JWPrBEM",
        "outputId": "c846783e-e126-43f4-daea-2a8233f94882"
      },
      "source": [
        "input_img = np.expand_dims(img, axis=0) #Expand dims so the input is (num images, x, y, c)\n",
        "print(\"The prediction for this image is: \", model.predict(input_img))\n",
        "print(\"The actual label for this image is: \", y_test[n])"
      ],
      "execution_count": null,
      "outputs": [
        {
          "output_type": "stream",
          "text": [
            "The prediction for this image is:  [[-0.9074702]]\n",
            "The actual label for this image is:  [0]\n"
          ],
          "name": "stdout"
        }
      ]
    },
    {
      "cell_type": "code",
      "metadata": {
        "id": "lxGK9om1rBHD"
      },
      "source": [
        "from keras.models import load_model\n",
        "# # load model\n",
        "model = load_model('semiconductor_model3_194_300epochs_2.h5')\n",
        "\n"
      ],
      "execution_count": null,
      "outputs": []
    },
    {
      "cell_type": "code",
      "metadata": {
        "colab": {
          "base_uri": "https://localhost:8080/"
        },
        "id": "aCljX266rioV",
        "outputId": "44176c86-db26-44b9-8367-53c41a91a072"
      },
      "source": [
        "\n",
        "_, acc = model.evaluate(X_test, y_test)\n",
        "print(\"Accuracy = \", (acc * 100.0), \"%\")"
      ],
      "execution_count": null,
      "outputs": [
        {
          "output_type": "stream",
          "text": [
            "3/3 [==============================] - 2s 227ms/step - loss: 0.4830 - acc: 0.9583\n",
            "Accuracy =  95.83333134651184 %\n"
          ],
          "name": "stdout"
        }
      ]
    },
    {
      "cell_type": "code",
      "metadata": {
        "id": "Ue7rHA1Drlyw"
      },
      "source": [
        ""
      ],
      "execution_count": null,
      "outputs": []
    }
  ]
}