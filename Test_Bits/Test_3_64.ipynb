{
  "nbformat": 4,
  "nbformat_minor": 0,
  "metadata": {
    "colab": {
      "name": "Test_3_64.ipynb",
      "provenance": [],
      "collapsed_sections": [],
      "authorship_tag": "ABX9TyPxj5uerwtDBqyWLY9/KgSb",
      "include_colab_link": true
    },
    "kernelspec": {
      "name": "python3",
      "display_name": "Python 3"
    },
    "language_info": {
      "name": "python"
    }
  },
  "cells": [
    {
      "cell_type": "markdown",
      "metadata": {
        "id": "view-in-github",
        "colab_type": "text"
      },
      "source": [
        "<a href=\"https://colab.research.google.com/github/brunasil98/Colab_Semiconductor/blob/main/Test_3_64.ipynb\" target=\"_parent\"><img src=\"https://colab.research.google.com/assets/colab-badge.svg\" alt=\"Open In Colab\"/></a>"
      ]
    },
    {
      "cell_type": "code",
      "metadata": {
        "colab": {
          "base_uri": "https://localhost:8080/"
        },
        "id": "mgFVBXxcPmPy",
        "outputId": "1ebc7cf2-dd85-45b8-8622-27a97be628f0"
      },
      "source": [
        "from google.colab import drive\n",
        "drive.mount('/content/drive')"
      ],
      "execution_count": null,
      "outputs": [
        {
          "output_type": "stream",
          "text": [
            "Drive already mounted at /content/drive; to attempt to forcibly remount, call drive.mount(\"/content/drive\", force_remount=True).\n"
          ],
          "name": "stdout"
        }
      ]
    },
    {
      "cell_type": "code",
      "metadata": {
        "id": "X3Vlc57JPrxW"
      },
      "source": [
        "import matplotlib.pyplot as plt\n",
        "import matplotlib.image as mpimg\n",
        "\n",
        "plt.style.use('classic')\n",
        "#############################################################\n",
        "import tensorflow.keras.utils as conv_utils\n",
        "from keras.preprocessing.image import ImageDataGenerator\n",
        "from keras.models import Sequential\n",
        "from keras.layers import Conv2D, MaxPooling2D, BatchNormalization\n",
        "from keras.layers import Activation, Dropout, Flatten, Dense\n",
        "import tensorflow as tf\n",
        "#from keras import backend as K\n",
        "####################################################\n",
        "import os\n",
        "import cv2\n",
        "\n",
        "from PIL import Image\n",
        "import numpy as np\n"
      ],
      "execution_count": null,
      "outputs": []
    },
    {
      "cell_type": "code",
      "metadata": {
        "id": "GgxqVn5VPr3N"
      },
      "source": [
        "image_directory = r'drive/MyDrive/Youtube_Neural_Network/'\n",
        "SIZE = 64\n",
        "dataset = []  #Many ways to handle data, you can use pandas. Here, we are using a list format.  \n",
        "label = []  #Place holders to define add labels. We will add 0 to all parasitized images and 1 to uninfected.\n",
        "\n",
        "Error = os.listdir(image_directory + 'Error/')\n",
        "for i, image_name in enumerate(Error):    #Remember enumerate method adds a counter and returns the enumerate object\n",
        "    \n",
        "    if (image_name.split('.')[1] == 'jpg'):\n",
        "        image = cv2.imread (image_directory + 'Error/' + image_name, cv2.IMREAD_GRAYSCALE)\n",
        "        image = Image.fromarray(image)\n",
        "        image = image.resize((SIZE, SIZE))\n",
        "        dataset.append(np.array(image))\n",
        "        label.append(1)\n",
        "   "
      ],
      "execution_count": null,
      "outputs": []
    },
    {
      "cell_type": "code",
      "metadata": {
        "id": "xf4ETyW2Pr6K"
      },
      "source": [
        "Non_error = os.listdir(image_directory + 'Non_error/')\n",
        "for i, image_name in enumerate(Non_error):\n",
        "    if (image_name.split('.')[1] == 'jpg'):\n",
        "        image = cv2.imread(image_directory + 'Non_error/' + image_name,cv2.IMREAD_GRAYSCALE)\n",
        "        image = Image.fromarray(image)\n",
        "        image = image.resize((SIZE, SIZE))\n",
        "        dataset.append(np.array(image))\n",
        "        label.append(0)"
      ],
      "execution_count": null,
      "outputs": []
    },
    {
      "cell_type": "code",
      "metadata": {
        "id": "dTrU5i9zPr83"
      },
      "source": [
        "from sklearn.model_selection import train_test_split\n",
        "#from keras.utils import to_categorical\n",
        "\n",
        "X_train, X_test, y_train, y_test = train_test_split(dataset, label, test_size = 0.20, random_state = 0)"
      ],
      "execution_count": null,
      "outputs": []
    },
    {
      "cell_type": "code",
      "metadata": {
        "id": "2uUshb4dU_5A"
      },
      "source": [
        "X_train = np.array(X_train)\n",
        "X_train = X_train.reshape(len(X_train),X_train.shape[1],X_train.shape[2],1)\n",
        "y_train = np.array(y_train)\n",
        "y_train = y_train.reshape(len(y_train),1)\n",
        "X_test = np.array(X_test)\n",
        "X_test = X_test.reshape(len(X_test),X_test.shape[1],X_test.shape[2],1)\n",
        "y_test = np.array(y_test)\n",
        "y_test = y_test.reshape(len(y_test),1)"
      ],
      "execution_count": null,
      "outputs": []
    },
    {
      "cell_type": "code",
      "metadata": {
        "colab": {
          "base_uri": "https://localhost:8080/"
        },
        "id": "zCIV_uY9U_1j",
        "outputId": "e0dc3fc9-d8f9-4e94-9f2e-5090091d551e"
      },
      "source": [
        "print(X_train.shape)\n",
        "print(y_train.shape)\n",
        "print(X_test.shape)\n",
        "print(y_test.shape)"
      ],
      "execution_count": null,
      "outputs": [
        {
          "output_type": "stream",
          "text": [
            "(285, 64, 64, 1)\n",
            "(285, 1)\n",
            "(72, 64, 64, 1)\n",
            "(72, 1)\n"
          ],
          "name": "stdout"
        }
      ]
    },
    {
      "cell_type": "code",
      "metadata": {
        "id": "EbUhOrsoPr_p"
      },
      "source": [
        "\n",
        "X_train = conv_utils.normalize(X_train)\n",
        "X_test = conv_utils.normalize(X_test)"
      ],
      "execution_count": null,
      "outputs": []
    },
    {
      "cell_type": "code",
      "metadata": {
        "id": "UZwfP_f4PsE_"
      },
      "source": [
        "INPUT_SHAPE = (SIZE, SIZE, 1)   #change to (SIZE, SIZE, 1)\n",
        "\n",
        "\n",
        "model = Sequential()\n",
        "model.add(Conv2D(32, (3, 3), input_shape=INPUT_SHAPE))\n",
        "model.add(Activation('relu'))\n",
        "model.add(MaxPooling2D(pool_size=(2, 2)))\n",
        "model.add(BatchNormalization())\n",
        "\n",
        "\n",
        "model.add(Conv2D(32, (3, 3), kernel_initializer = 'he_uniform'))\n",
        "model.add(Activation('relu'))\n",
        "model.add(MaxPooling2D(pool_size=(2, 2)))\n",
        "model.add(BatchNormalization())\n",
        "\n",
        "\n",
        "model.add(Conv2D(64, (3, 3), kernel_initializer = 'he_uniform'))\n",
        "model.add(Activation('relu'))\n",
        "model.add(MaxPooling2D(pool_size=(2, 2)))\n",
        "model.add(BatchNormalization())\n",
        "\n",
        "model.add(Flatten())\n",
        "model.add(Dense(64))\n",
        "model.add(Activation('relu'))\n",
        "model.add(Dropout(0.5))\n",
        "model.add(BatchNormalization())\n",
        "\n",
        "model.add(Dense(1))\n",
        "model.add(Activation('sigmoid')) \n",
        "model.add(BatchNormalization()) "
      ],
      "execution_count": null,
      "outputs": []
    },
    {
      "cell_type": "code",
      "metadata": {
        "colab": {
          "base_uri": "https://localhost:8080/"
        },
        "id": "LwGaKHSPPsHq",
        "outputId": "3df0b1ce-5765-4afe-fa8c-83b30009f78e"
      },
      "source": [
        "model.compile(loss='binary_crossentropy',\n",
        "              optimizer='rmsprop',             #also try adam\n",
        "              metrics=['acc'])\n",
        "\n",
        "print(model.summary())    \n",
        "###############################################################  \n"
      ],
      "execution_count": null,
      "outputs": [
        {
          "output_type": "stream",
          "text": [
            "Model: \"sequential_5\"\n",
            "_________________________________________________________________\n",
            "Layer (type)                 Output Shape              Param #   \n",
            "=================================================================\n",
            "conv2d_15 (Conv2D)           (None, 62, 62, 32)        320       \n",
            "_________________________________________________________________\n",
            "activation_25 (Activation)   (None, 62, 62, 32)        0         \n",
            "_________________________________________________________________\n",
            "max_pooling2d_15 (MaxPooling (None, 31, 31, 32)        0         \n",
            "_________________________________________________________________\n",
            "batch_normalization_25 (Batc (None, 31, 31, 32)        128       \n",
            "_________________________________________________________________\n",
            "conv2d_16 (Conv2D)           (None, 29, 29, 32)        9248      \n",
            "_________________________________________________________________\n",
            "activation_26 (Activation)   (None, 29, 29, 32)        0         \n",
            "_________________________________________________________________\n",
            "max_pooling2d_16 (MaxPooling (None, 14, 14, 32)        0         \n",
            "_________________________________________________________________\n",
            "batch_normalization_26 (Batc (None, 14, 14, 32)        128       \n",
            "_________________________________________________________________\n",
            "conv2d_17 (Conv2D)           (None, 12, 12, 64)        18496     \n",
            "_________________________________________________________________\n",
            "activation_27 (Activation)   (None, 12, 12, 64)        0         \n",
            "_________________________________________________________________\n",
            "max_pooling2d_17 (MaxPooling (None, 6, 6, 64)          0         \n",
            "_________________________________________________________________\n",
            "batch_normalization_27 (Batc (None, 6, 6, 64)          256       \n",
            "_________________________________________________________________\n",
            "flatten_5 (Flatten)          (None, 2304)              0         \n",
            "_________________________________________________________________\n",
            "dense_10 (Dense)             (None, 64)                147520    \n",
            "_________________________________________________________________\n",
            "activation_28 (Activation)   (None, 64)                0         \n",
            "_________________________________________________________________\n",
            "dropout_5 (Dropout)          (None, 64)                0         \n",
            "_________________________________________________________________\n",
            "batch_normalization_28 (Batc (None, 64)                256       \n",
            "_________________________________________________________________\n",
            "dense_11 (Dense)             (None, 1)                 65        \n",
            "_________________________________________________________________\n",
            "activation_29 (Activation)   (None, 1)                 0         \n",
            "_________________________________________________________________\n",
            "batch_normalization_29 (Batc (None, 1)                 4         \n",
            "=================================================================\n",
            "Total params: 176,421\n",
            "Trainable params: 176,035\n",
            "Non-trainable params: 386\n",
            "_________________________________________________________________\n",
            "None\n"
          ],
          "name": "stdout"
        }
      ]
    },
    {
      "cell_type": "code",
      "metadata": {
        "colab": {
          "base_uri": "https://localhost:8080/"
        },
        "id": "AuSRHWflPsKF",
        "outputId": "a9550331-4363-46bf-a1b9-a35f622ab2c9"
      },
      "source": [
        "print(X_train.shape)\n",
        "print(y_train.shape)\n",
        "print(X_test.shape)\n",
        "print(y_test.shape)"
      ],
      "execution_count": null,
      "outputs": [
        {
          "output_type": "stream",
          "text": [
            "(285, 64, 64, 1)\n",
            "(285, 1)\n",
            "(72, 64, 64, 1)\n",
            "(72, 1)\n"
          ],
          "name": "stdout"
        }
      ]
    },
    {
      "cell_type": "code",
      "metadata": {
        "id": "tmpleVvHPsMq"
      },
      "source": [
        ""
      ],
      "execution_count": null,
      "outputs": []
    },
    {
      "cell_type": "code",
      "metadata": {
        "colab": {
          "base_uri": "https://localhost:8080/"
        },
        "id": "cx_UScHrPsPF",
        "outputId": "3fb8a2e9-6158-444f-95a1-ab387346f58d"
      },
      "source": [
        "history = model.fit(X_train, \n",
        "                         y_train, \n",
        "                         batch_size = 64, \n",
        "                         verbose = 1, \n",
        "                         epochs = 300,      \n",
        "                         validation_split= 0.1,\n",
        "                         shuffle = True\n",
        "                     )\n",
        "\n",
        "\n"
      ],
      "execution_count": null,
      "outputs": [
        {
          "output_type": "stream",
          "text": [
            "Epoch 1/300\n",
            "4/4 [==============================] - 4s 473ms/step - loss: 5.2694 - acc: 0.5380 - val_loss: 0.7177 - val_acc: 0.4828\n",
            "Epoch 2/300\n",
            "4/4 [==============================] - 1s 273ms/step - loss: 5.6007 - acc: 0.5620 - val_loss: 0.7107 - val_acc: 0.4138\n",
            "Epoch 3/300\n",
            "4/4 [==============================] - 1s 278ms/step - loss: 5.3388 - acc: 0.5250 - val_loss: 0.7295 - val_acc: 0.4483\n",
            "Epoch 4/300\n",
            "4/4 [==============================] - 1s 271ms/step - loss: 5.4198 - acc: 0.5047 - val_loss: 0.7001 - val_acc: 0.4828\n",
            "Epoch 5/300\n",
            "4/4 [==============================] - 1s 272ms/step - loss: 4.9399 - acc: 0.5672 - val_loss: 0.7009 - val_acc: 0.5172\n",
            "Epoch 6/300\n",
            "4/4 [==============================] - 1s 272ms/step - loss: 4.7017 - acc: 0.5604 - val_loss: 0.7307 - val_acc: 0.5517\n",
            "Epoch 7/300\n",
            "4/4 [==============================] - 1s 272ms/step - loss: 4.8908 - acc: 0.5365 - val_loss: 0.7341 - val_acc: 0.5517\n",
            "Epoch 8/300\n",
            "4/4 [==============================] - 1s 279ms/step - loss: 4.4739 - acc: 0.6109 - val_loss: 0.7081 - val_acc: 0.5172\n",
            "Epoch 9/300\n",
            "4/4 [==============================] - 1s 272ms/step - loss: 4.2900 - acc: 0.6276 - val_loss: 0.7360 - val_acc: 0.5517\n",
            "Epoch 10/300\n",
            "4/4 [==============================] - 1s 272ms/step - loss: 3.9509 - acc: 0.6391 - val_loss: 0.8657 - val_acc: 0.4483\n",
            "Epoch 11/300\n",
            "4/4 [==============================] - 1s 280ms/step - loss: 4.8935 - acc: 0.5401 - val_loss: 0.8089 - val_acc: 0.4483\n",
            "Epoch 12/300\n",
            "4/4 [==============================] - 1s 274ms/step - loss: 3.8323 - acc: 0.6292 - val_loss: 0.7844 - val_acc: 0.4483\n",
            "Epoch 13/300\n",
            "4/4 [==============================] - 1s 275ms/step - loss: 4.1057 - acc: 0.5896 - val_loss: 0.7699 - val_acc: 0.4483\n",
            "Epoch 14/300\n",
            "4/4 [==============================] - 1s 275ms/step - loss: 3.3251 - acc: 0.6365 - val_loss: 0.7501 - val_acc: 0.4483\n",
            "Epoch 15/300\n",
            "4/4 [==============================] - 1s 276ms/step - loss: 4.1565 - acc: 0.6307 - val_loss: 0.7664 - val_acc: 0.4483\n",
            "Epoch 16/300\n",
            "4/4 [==============================] - 1s 280ms/step - loss: 4.2359 - acc: 0.5813 - val_loss: 0.9506 - val_acc: 0.4483\n",
            "Epoch 17/300\n",
            "4/4 [==============================] - 1s 284ms/step - loss: 3.3947 - acc: 0.6646 - val_loss: 0.9152 - val_acc: 0.4483\n",
            "Epoch 18/300\n",
            "4/4 [==============================] - 1s 273ms/step - loss: 3.3691 - acc: 0.5979 - val_loss: 0.8488 - val_acc: 0.4483\n",
            "Epoch 19/300\n",
            "4/4 [==============================] - 1s 275ms/step - loss: 3.8042 - acc: 0.5365 - val_loss: 0.7283 - val_acc: 0.4483\n",
            "Epoch 20/300\n",
            "4/4 [==============================] - 1s 277ms/step - loss: 4.5377 - acc: 0.5865 - val_loss: 0.7495 - val_acc: 0.4483\n",
            "Epoch 21/300\n",
            "4/4 [==============================] - 1s 280ms/step - loss: 3.8761 - acc: 0.5917 - val_loss: 0.7539 - val_acc: 0.4483\n",
            "Epoch 22/300\n",
            "4/4 [==============================] - 1s 278ms/step - loss: 3.3045 - acc: 0.6328 - val_loss: 0.8495 - val_acc: 0.4483\n",
            "Epoch 23/300\n",
            "4/4 [==============================] - 1s 277ms/step - loss: 2.8435 - acc: 0.6406 - val_loss: 0.8335 - val_acc: 0.4483\n",
            "Epoch 24/300\n",
            "4/4 [==============================] - 1s 278ms/step - loss: 2.5934 - acc: 0.6292 - val_loss: 0.9032 - val_acc: 0.4483\n",
            "Epoch 25/300\n",
            "4/4 [==============================] - 1s 275ms/step - loss: 3.0845 - acc: 0.5974 - val_loss: 0.9550 - val_acc: 0.4483\n",
            "Epoch 26/300\n",
            "4/4 [==============================] - 1s 274ms/step - loss: 2.9561 - acc: 0.5891 - val_loss: 0.8937 - val_acc: 0.4483\n",
            "Epoch 27/300\n",
            "4/4 [==============================] - 1s 279ms/step - loss: 2.6972 - acc: 0.6135 - val_loss: 0.8637 - val_acc: 0.4483\n",
            "Epoch 28/300\n",
            "4/4 [==============================] - 1s 278ms/step - loss: 2.4616 - acc: 0.6281 - val_loss: 0.8329 - val_acc: 0.4483\n",
            "Epoch 29/300\n",
            "4/4 [==============================] - 1s 278ms/step - loss: 2.5169 - acc: 0.6292 - val_loss: 0.8399 - val_acc: 0.4483\n",
            "Epoch 30/300\n",
            "4/4 [==============================] - 1s 270ms/step - loss: 2.8968 - acc: 0.6042 - val_loss: 0.7888 - val_acc: 0.4483\n",
            "Epoch 31/300\n",
            "4/4 [==============================] - 1s 272ms/step - loss: 2.7468 - acc: 0.6516 - val_loss: 0.7946 - val_acc: 0.4483\n",
            "Epoch 32/300\n",
            "4/4 [==============================] - 1s 280ms/step - loss: 2.6540 - acc: 0.5786 - val_loss: 0.8026 - val_acc: 0.4483\n",
            "Epoch 33/300\n",
            "4/4 [==============================] - 1s 282ms/step - loss: 2.4339 - acc: 0.6458 - val_loss: 0.8314 - val_acc: 0.4483\n",
            "Epoch 34/300\n",
            "4/4 [==============================] - 1s 276ms/step - loss: 2.7097 - acc: 0.6016 - val_loss: 0.8161 - val_acc: 0.4483\n",
            "Epoch 35/300\n",
            "4/4 [==============================] - 1s 274ms/step - loss: 2.6108 - acc: 0.5839 - val_loss: 0.8123 - val_acc: 0.4483\n",
            "Epoch 36/300\n",
            "4/4 [==============================] - 1s 279ms/step - loss: 3.1880 - acc: 0.6083 - val_loss: 0.8029 - val_acc: 0.4483\n",
            "Epoch 37/300\n",
            "4/4 [==============================] - 1s 275ms/step - loss: 2.3392 - acc: 0.6703 - val_loss: 0.8089 - val_acc: 0.4483\n",
            "Epoch 38/300\n",
            "4/4 [==============================] - 1s 277ms/step - loss: 2.3512 - acc: 0.6151 - val_loss: 0.8138 - val_acc: 0.4483\n",
            "Epoch 39/300\n",
            "4/4 [==============================] - 1s 282ms/step - loss: 2.4209 - acc: 0.6906 - val_loss: 0.8111 - val_acc: 0.4483\n",
            "Epoch 40/300\n",
            "4/4 [==============================] - 1s 278ms/step - loss: 2.4141 - acc: 0.6089 - val_loss: 0.8254 - val_acc: 0.4483\n",
            "Epoch 41/300\n",
            "4/4 [==============================] - 1s 274ms/step - loss: 2.8567 - acc: 0.5927 - val_loss: 0.8683 - val_acc: 0.4483\n",
            "Epoch 42/300\n",
            "4/4 [==============================] - 1s 273ms/step - loss: 2.4052 - acc: 0.6474 - val_loss: 0.7572 - val_acc: 0.4483\n",
            "Epoch 43/300\n",
            "4/4 [==============================] - 1s 272ms/step - loss: 2.7347 - acc: 0.5911 - val_loss: 0.7650 - val_acc: 0.4483\n",
            "Epoch 44/300\n",
            "4/4 [==============================] - 1s 271ms/step - loss: 2.6354 - acc: 0.6260 - val_loss: 0.7655 - val_acc: 0.4483\n",
            "Epoch 45/300\n",
            "4/4 [==============================] - 1s 276ms/step - loss: 2.3957 - acc: 0.6703 - val_loss: 0.7693 - val_acc: 0.4483\n",
            "Epoch 46/300\n",
            "4/4 [==============================] - 1s 274ms/step - loss: 2.3604 - acc: 0.6432 - val_loss: 0.7655 - val_acc: 0.4483\n",
            "Epoch 47/300\n",
            "4/4 [==============================] - 1s 278ms/step - loss: 2.4100 - acc: 0.6328 - val_loss: 0.7698 - val_acc: 0.4483\n",
            "Epoch 48/300\n",
            "4/4 [==============================] - 1s 274ms/step - loss: 2.6827 - acc: 0.6115 - val_loss: 0.7538 - val_acc: 0.4138\n",
            "Epoch 49/300\n",
            "4/4 [==============================] - 1s 281ms/step - loss: 1.8965 - acc: 0.7026 - val_loss: 0.8479 - val_acc: 0.4483\n",
            "Epoch 50/300\n",
            "4/4 [==============================] - 1s 282ms/step - loss: 2.3645 - acc: 0.6427 - val_loss: 0.8467 - val_acc: 0.4483\n",
            "Epoch 51/300\n",
            "4/4 [==============================] - 1s 279ms/step - loss: 2.4560 - acc: 0.6573 - val_loss: 0.8113 - val_acc: 0.4483\n",
            "Epoch 52/300\n",
            "4/4 [==============================] - 1s 325ms/step - loss: 2.2160 - acc: 0.6224 - val_loss: 0.8252 - val_acc: 0.4483\n",
            "Epoch 53/300\n",
            "4/4 [==============================] - 1s 271ms/step - loss: 2.4401 - acc: 0.6354 - val_loss: 0.8039 - val_acc: 0.4483\n",
            "Epoch 54/300\n",
            "4/4 [==============================] - 1s 280ms/step - loss: 1.9898 - acc: 0.6891 - val_loss: 0.8071 - val_acc: 0.4483\n",
            "Epoch 55/300\n",
            "4/4 [==============================] - 1s 272ms/step - loss: 1.9914 - acc: 0.6661 - val_loss: 0.8189 - val_acc: 0.4483\n",
            "Epoch 56/300\n",
            "4/4 [==============================] - 1s 275ms/step - loss: 2.2441 - acc: 0.6359 - val_loss: 0.8218 - val_acc: 0.4483\n",
            "Epoch 57/300\n",
            "4/4 [==============================] - 1s 274ms/step - loss: 2.2628 - acc: 0.6786 - val_loss: 0.8107 - val_acc: 0.4483\n",
            "Epoch 58/300\n",
            "4/4 [==============================] - 1s 273ms/step - loss: 2.1443 - acc: 0.6521 - val_loss: 0.8059 - val_acc: 0.4483\n",
            "Epoch 59/300\n",
            "4/4 [==============================] - 1s 274ms/step - loss: 1.9990 - acc: 0.6484 - val_loss: 0.8023 - val_acc: 0.4483\n",
            "Epoch 60/300\n",
            "4/4 [==============================] - 1s 278ms/step - loss: 2.2182 - acc: 0.6135 - val_loss: 0.7509 - val_acc: 0.3448\n",
            "Epoch 61/300\n",
            "4/4 [==============================] - 1s 273ms/step - loss: 2.3291 - acc: 0.6260 - val_loss: 0.7583 - val_acc: 0.3793\n",
            "Epoch 62/300\n",
            "4/4 [==============================] - 1s 279ms/step - loss: 2.1337 - acc: 0.6651 - val_loss: 0.7654 - val_acc: 0.4483\n",
            "Epoch 63/300\n",
            "4/4 [==============================] - 1s 274ms/step - loss: 2.5262 - acc: 0.6417 - val_loss: 0.7707 - val_acc: 0.4483\n",
            "Epoch 64/300\n",
            "4/4 [==============================] - 1s 273ms/step - loss: 2.6407 - acc: 0.6380 - val_loss: 0.7727 - val_acc: 0.4138\n",
            "Epoch 65/300\n",
            "4/4 [==============================] - 1s 276ms/step - loss: 2.2597 - acc: 0.6760 - val_loss: 0.7854 - val_acc: 0.4483\n",
            "Epoch 66/300\n",
            "4/4 [==============================] - 1s 275ms/step - loss: 2.2310 - acc: 0.6651 - val_loss: 0.8268 - val_acc: 0.3448\n",
            "Epoch 67/300\n",
            "4/4 [==============================] - 1s 274ms/step - loss: 2.5056 - acc: 0.6307 - val_loss: 0.8139 - val_acc: 0.3793\n",
            "Epoch 68/300\n",
            "4/4 [==============================] - 1s 278ms/step - loss: 2.3358 - acc: 0.6693 - val_loss: 0.8078 - val_acc: 0.3103\n",
            "Epoch 69/300\n",
            "4/4 [==============================] - 1s 277ms/step - loss: 2.1713 - acc: 0.6276 - val_loss: 0.8168 - val_acc: 0.4138\n",
            "Epoch 70/300\n",
            "4/4 [==============================] - 1s 273ms/step - loss: 2.1337 - acc: 0.6854 - val_loss: 0.8357 - val_acc: 0.3448\n",
            "Epoch 71/300\n",
            "4/4 [==============================] - 1s 303ms/step - loss: 2.2421 - acc: 0.6990 - val_loss: 0.8578 - val_acc: 0.3448\n",
            "Epoch 72/300\n",
            "4/4 [==============================] - 1s 268ms/step - loss: 1.7330 - acc: 0.6870 - val_loss: 0.8419 - val_acc: 0.3448\n",
            "Epoch 73/300\n",
            "4/4 [==============================] - 1s 271ms/step - loss: 1.5862 - acc: 0.7120 - val_loss: 1.7531 - val_acc: 0.3793\n",
            "Epoch 74/300\n",
            "4/4 [==============================] - 1s 266ms/step - loss: 2.0221 - acc: 0.6516 - val_loss: 0.8286 - val_acc: 0.4138\n",
            "Epoch 75/300\n",
            "4/4 [==============================] - 1s 265ms/step - loss: 2.2609 - acc: 0.6521 - val_loss: 0.8332 - val_acc: 0.3448\n",
            "Epoch 76/300\n",
            "4/4 [==============================] - 1s 267ms/step - loss: 2.1174 - acc: 0.6729 - val_loss: 0.8233 - val_acc: 0.3793\n",
            "Epoch 77/300\n",
            "4/4 [==============================] - 1s 267ms/step - loss: 2.0781 - acc: 0.6786 - val_loss: 0.8311 - val_acc: 0.4138\n",
            "Epoch 78/300\n",
            "4/4 [==============================] - 1s 267ms/step - loss: 2.2296 - acc: 0.7094 - val_loss: 0.8582 - val_acc: 0.4138\n",
            "Epoch 79/300\n",
            "4/4 [==============================] - 1s 267ms/step - loss: 2.0660 - acc: 0.6896 - val_loss: 1.3069 - val_acc: 0.4138\n",
            "Epoch 80/300\n",
            "4/4 [==============================] - 1s 271ms/step - loss: 2.0104 - acc: 0.6859 - val_loss: 0.8689 - val_acc: 0.3103\n",
            "Epoch 81/300\n",
            "4/4 [==============================] - 1s 265ms/step - loss: 1.9160 - acc: 0.6776 - val_loss: 1.7681 - val_acc: 0.3448\n",
            "Epoch 82/300\n",
            "4/4 [==============================] - 1s 277ms/step - loss: 1.8921 - acc: 0.6479 - val_loss: 0.8779 - val_acc: 0.2759\n",
            "Epoch 83/300\n",
            "4/4 [==============================] - 1s 266ms/step - loss: 2.2803 - acc: 0.6995 - val_loss: 0.8440 - val_acc: 0.4138\n",
            "Epoch 84/300\n",
            "4/4 [==============================] - 1s 266ms/step - loss: 1.9175 - acc: 0.6932 - val_loss: 0.8477 - val_acc: 0.3103\n",
            "Epoch 85/300\n",
            "4/4 [==============================] - 1s 265ms/step - loss: 2.1683 - acc: 0.6927 - val_loss: 0.8296 - val_acc: 0.4138\n",
            "Epoch 86/300\n",
            "4/4 [==============================] - 1s 262ms/step - loss: 2.1408 - acc: 0.7130 - val_loss: 0.8410 - val_acc: 0.4138\n",
            "Epoch 87/300\n",
            "4/4 [==============================] - 1s 265ms/step - loss: 1.9793 - acc: 0.7068 - val_loss: 0.9126 - val_acc: 0.3793\n",
            "Epoch 88/300\n",
            "4/4 [==============================] - 1s 264ms/step - loss: 1.7671 - acc: 0.7135 - val_loss: 0.8458 - val_acc: 0.4138\n",
            "Epoch 89/300\n",
            "4/4 [==============================] - 1s 263ms/step - loss: 1.5322 - acc: 0.7344 - val_loss: 0.8513 - val_acc: 0.4138\n",
            "Epoch 90/300\n",
            "4/4 [==============================] - 1s 268ms/step - loss: 1.7088 - acc: 0.7432 - val_loss: 1.3129 - val_acc: 0.3103\n",
            "Epoch 91/300\n",
            "4/4 [==============================] - 1s 268ms/step - loss: 1.8980 - acc: 0.6974 - val_loss: 1.3218 - val_acc: 0.3103\n",
            "Epoch 92/300\n",
            "4/4 [==============================] - 1s 274ms/step - loss: 1.6217 - acc: 0.7693 - val_loss: 0.8974 - val_acc: 0.2759\n",
            "Epoch 93/300\n",
            "4/4 [==============================] - 1s 266ms/step - loss: 1.8011 - acc: 0.7214 - val_loss: 1.8573 - val_acc: 0.3448\n",
            "Epoch 94/300\n",
            "4/4 [==============================] - 1s 271ms/step - loss: 1.7157 - acc: 0.6932 - val_loss: 1.3728 - val_acc: 0.2759\n",
            "Epoch 95/300\n",
            "4/4 [==============================] - 1s 267ms/step - loss: 1.6084 - acc: 0.7740 - val_loss: 1.4082 - val_acc: 0.2414\n",
            "Epoch 96/300\n",
            "4/4 [==============================] - 1s 270ms/step - loss: 1.5851 - acc: 0.7391 - val_loss: 1.9438 - val_acc: 0.3448\n",
            "Epoch 97/300\n",
            "4/4 [==============================] - 1s 263ms/step - loss: 1.6988 - acc: 0.7552 - val_loss: 1.3554 - val_acc: 0.2414\n",
            "Epoch 98/300\n",
            "4/4 [==============================] - 1s 269ms/step - loss: 1.5764 - acc: 0.7688 - val_loss: 1.3393 - val_acc: 0.3793\n",
            "Epoch 99/300\n",
            "4/4 [==============================] - 1s 268ms/step - loss: 1.7320 - acc: 0.7333 - val_loss: 1.3556 - val_acc: 0.2759\n",
            "Epoch 100/300\n",
            "4/4 [==============================] - 1s 269ms/step - loss: 1.8524 - acc: 0.7557 - val_loss: 1.8474 - val_acc: 0.3448\n",
            "Epoch 101/300\n",
            "4/4 [==============================] - 1s 271ms/step - loss: 1.8171 - acc: 0.7995 - val_loss: 1.4168 - val_acc: 0.3448\n",
            "Epoch 102/300\n",
            "4/4 [==============================] - 1s 271ms/step - loss: 1.2239 - acc: 0.7714 - val_loss: 1.4527 - val_acc: 0.3103\n",
            "Epoch 103/300\n",
            "4/4 [==============================] - 1s 268ms/step - loss: 1.2521 - acc: 0.7865 - val_loss: 1.4989 - val_acc: 0.3448\n",
            "Epoch 104/300\n",
            "4/4 [==============================] - 1s 271ms/step - loss: 1.7966 - acc: 0.7937 - val_loss: 1.3828 - val_acc: 0.2759\n",
            "Epoch 105/300\n",
            "4/4 [==============================] - 1s 270ms/step - loss: 1.2319 - acc: 0.8130 - val_loss: 3.3520 - val_acc: 0.4483\n",
            "Epoch 106/300\n",
            "4/4 [==============================] - 1s 270ms/step - loss: 1.2557 - acc: 0.8016 - val_loss: 5.6066 - val_acc: 0.4828\n",
            "Epoch 107/300\n",
            "4/4 [==============================] - 1s 265ms/step - loss: 1.5531 - acc: 0.8021 - val_loss: 2.3756 - val_acc: 0.3448\n",
            "Epoch 108/300\n",
            "4/4 [==============================] - 1s 270ms/step - loss: 1.6040 - acc: 0.8365 - val_loss: 2.8948 - val_acc: 0.3448\n",
            "Epoch 109/300\n",
            "4/4 [==============================] - 1s 264ms/step - loss: 1.4702 - acc: 0.7927 - val_loss: 2.0721 - val_acc: 0.3448\n",
            "Epoch 110/300\n",
            "4/4 [==============================] - 1s 266ms/step - loss: 1.5064 - acc: 0.7552 - val_loss: 2.4108 - val_acc: 0.3448\n",
            "Epoch 111/300\n",
            "4/4 [==============================] - 1s 277ms/step - loss: 1.5576 - acc: 0.7635 - val_loss: 2.3607 - val_acc: 0.3793\n",
            "Epoch 112/300\n",
            "4/4 [==============================] - 1s 270ms/step - loss: 1.5940 - acc: 0.7599 - val_loss: 2.3828 - val_acc: 0.2759\n",
            "Epoch 113/300\n",
            "4/4 [==============================] - 1s 270ms/step - loss: 1.5743 - acc: 0.7844 - val_loss: 2.8553 - val_acc: 0.3103\n",
            "Epoch 114/300\n",
            "4/4 [==============================] - 1s 272ms/step - loss: 1.4657 - acc: 0.7786 - val_loss: 2.4077 - val_acc: 0.2759\n",
            "Epoch 115/300\n",
            "4/4 [==============================] - 1s 270ms/step - loss: 1.3231 - acc: 0.8167 - val_loss: 3.2938 - val_acc: 0.4138\n",
            "Epoch 116/300\n",
            "4/4 [==============================] - 1s 266ms/step - loss: 1.2572 - acc: 0.8052 - val_loss: 3.2822 - val_acc: 0.3448\n",
            "Epoch 117/300\n",
            "4/4 [==============================] - 1s 267ms/step - loss: 1.5263 - acc: 0.7937 - val_loss: 2.4032 - val_acc: 0.3448\n",
            "Epoch 118/300\n",
            "4/4 [==============================] - 1s 269ms/step - loss: 1.2368 - acc: 0.8167 - val_loss: 2.4238 - val_acc: 0.3103\n",
            "Epoch 119/300\n",
            "4/4 [==============================] - 1s 268ms/step - loss: 1.2493 - acc: 0.8271 - val_loss: 3.3038 - val_acc: 0.3103\n",
            "Epoch 120/300\n",
            "4/4 [==============================] - 1s 266ms/step - loss: 1.0607 - acc: 0.8542 - val_loss: 3.4136 - val_acc: 0.3448\n",
            "Epoch 121/300\n",
            "4/4 [==============================] - 1s 272ms/step - loss: 1.2091 - acc: 0.8682 - val_loss: 3.3623 - val_acc: 0.3448\n",
            "Epoch 122/300\n",
            "4/4 [==============================] - 1s 276ms/step - loss: 1.1083 - acc: 0.8620 - val_loss: 3.8160 - val_acc: 0.3103\n",
            "Epoch 123/300\n",
            "4/4 [==============================] - 1s 267ms/step - loss: 0.9483 - acc: 0.8719 - val_loss: 3.7906 - val_acc: 0.3793\n",
            "Epoch 124/300\n",
            "4/4 [==============================] - 1s 270ms/step - loss: 1.0016 - acc: 0.8693 - val_loss: 3.3846 - val_acc: 0.3448\n",
            "Epoch 125/300\n",
            "4/4 [==============================] - 1s 273ms/step - loss: 1.1919 - acc: 0.8521 - val_loss: 3.8023 - val_acc: 0.3448\n",
            "Epoch 126/300\n",
            "4/4 [==============================] - 1s 269ms/step - loss: 1.1837 - acc: 0.8474 - val_loss: 3.4184 - val_acc: 0.2414\n",
            "Epoch 127/300\n",
            "4/4 [==============================] - 1s 270ms/step - loss: 1.2749 - acc: 0.8344 - val_loss: 4.2602 - val_acc: 0.3448\n",
            "Epoch 128/300\n",
            "4/4 [==============================] - 1s 266ms/step - loss: 1.0498 - acc: 0.8036 - val_loss: 4.2975 - val_acc: 0.4483\n",
            "Epoch 129/300\n",
            "4/4 [==============================] - 1s 265ms/step - loss: 1.0538 - acc: 0.8583 - val_loss: 4.6996 - val_acc: 0.4138\n",
            "Epoch 130/300\n",
            "4/4 [==============================] - 1s 275ms/step - loss: 0.7999 - acc: 0.8557 - val_loss: 4.3490 - val_acc: 0.3793\n",
            "Epoch 131/300\n",
            "4/4 [==============================] - 1s 265ms/step - loss: 0.8238 - acc: 0.9047 - val_loss: 4.7043 - val_acc: 0.4138\n",
            "Epoch 132/300\n",
            "4/4 [==============================] - 1s 269ms/step - loss: 0.8809 - acc: 0.8938 - val_loss: 1.6108 - val_acc: 0.2759\n",
            "Epoch 133/300\n",
            "4/4 [==============================] - 1s 273ms/step - loss: 0.9417 - acc: 0.8521 - val_loss: 2.1076 - val_acc: 0.3103\n",
            "Epoch 134/300\n",
            "4/4 [==============================] - 1s 267ms/step - loss: 0.6131 - acc: 0.8984 - val_loss: 2.1233 - val_acc: 0.3448\n",
            "Epoch 135/300\n",
            "4/4 [==============================] - 1s 270ms/step - loss: 1.0100 - acc: 0.8792 - val_loss: 2.5523 - val_acc: 0.3103\n",
            "Epoch 136/300\n",
            "4/4 [==============================] - 1s 267ms/step - loss: 0.8340 - acc: 0.8646 - val_loss: 2.5577 - val_acc: 0.3103\n",
            "Epoch 137/300\n",
            "4/4 [==============================] - 1s 273ms/step - loss: 0.8058 - acc: 0.8714 - val_loss: 2.6547 - val_acc: 0.3103\n",
            "Epoch 138/300\n",
            "4/4 [==============================] - 1s 271ms/step - loss: 0.8606 - acc: 0.8896 - val_loss: 3.6093 - val_acc: 0.2759\n",
            "Epoch 139/300\n",
            "4/4 [==============================] - 1s 276ms/step - loss: 0.6431 - acc: 0.8688 - val_loss: 3.1272 - val_acc: 0.3103\n",
            "Epoch 140/300\n",
            "4/4 [==============================] - 1s 269ms/step - loss: 0.7900 - acc: 0.9250 - val_loss: 3.8655 - val_acc: 0.4138\n",
            "Epoch 141/300\n",
            "4/4 [==============================] - 1s 269ms/step - loss: 0.9829 - acc: 0.8427 - val_loss: 3.0225 - val_acc: 0.3103\n",
            "Epoch 142/300\n",
            "4/4 [==============================] - 1s 271ms/step - loss: 0.5898 - acc: 0.9307 - val_loss: 3.1126 - val_acc: 0.2759\n",
            "Epoch 143/300\n",
            "4/4 [==============================] - 1s 274ms/step - loss: 0.7724 - acc: 0.9182 - val_loss: 3.6616 - val_acc: 0.3103\n",
            "Epoch 144/300\n",
            "4/4 [==============================] - 1s 270ms/step - loss: 0.7237 - acc: 0.8911 - val_loss: 3.9527 - val_acc: 0.3103\n",
            "Epoch 145/300\n",
            "4/4 [==============================] - 1s 268ms/step - loss: 0.6468 - acc: 0.9094 - val_loss: 3.9840 - val_acc: 0.2759\n",
            "Epoch 146/300\n",
            "4/4 [==============================] - 1s 269ms/step - loss: 0.4463 - acc: 0.9359 - val_loss: 3.1453 - val_acc: 0.2759\n",
            "Epoch 147/300\n",
            "4/4 [==============================] - 1s 270ms/step - loss: 0.7516 - acc: 0.9187 - val_loss: 3.1458 - val_acc: 0.2759\n",
            "Epoch 148/300\n",
            "4/4 [==============================] - 1s 276ms/step - loss: 0.7874 - acc: 0.8990 - val_loss: 3.1560 - val_acc: 0.2759\n",
            "Epoch 149/300\n",
            "4/4 [==============================] - 1s 271ms/step - loss: 0.4544 - acc: 0.9177 - val_loss: 3.9584 - val_acc: 0.3448\n",
            "Epoch 150/300\n",
            "4/4 [==============================] - 1s 268ms/step - loss: 0.8810 - acc: 0.8807 - val_loss: 3.1471 - val_acc: 0.3103\n",
            "Epoch 151/300\n",
            "4/4 [==============================] - 1s 274ms/step - loss: 0.4735 - acc: 0.8995 - val_loss: 3.2092 - val_acc: 0.3448\n",
            "Epoch 152/300\n",
            "4/4 [==============================] - 1s 265ms/step - loss: 0.7818 - acc: 0.8880 - val_loss: 2.8205 - val_acc: 0.3103\n",
            "Epoch 153/300\n",
            "4/4 [==============================] - 1s 264ms/step - loss: 0.3781 - acc: 0.9339 - val_loss: 5.4050 - val_acc: 0.3448\n",
            "Epoch 154/300\n",
            "4/4 [==============================] - 1s 270ms/step - loss: 0.6651 - acc: 0.9120 - val_loss: 5.4276 - val_acc: 0.3103\n",
            "Epoch 155/300\n",
            "4/4 [==============================] - 1s 268ms/step - loss: 0.4992 - acc: 0.9083 - val_loss: 4.6857 - val_acc: 0.3103\n",
            "Epoch 156/300\n",
            "4/4 [==============================] - 1s 272ms/step - loss: 0.5603 - acc: 0.9214 - val_loss: 4.6047 - val_acc: 0.3448\n",
            "Epoch 157/300\n",
            "4/4 [==============================] - 1s 269ms/step - loss: 0.6029 - acc: 0.8729 - val_loss: 3.8733 - val_acc: 0.3103\n",
            "Epoch 158/300\n",
            "4/4 [==============================] - 1s 274ms/step - loss: 0.5955 - acc: 0.9109 - val_loss: 4.3278 - val_acc: 0.3103\n",
            "Epoch 159/300\n",
            "4/4 [==============================] - 1s 270ms/step - loss: 0.3750 - acc: 0.9406 - val_loss: 3.8865 - val_acc: 0.3448\n",
            "Epoch 160/300\n",
            "4/4 [==============================] - 1s 268ms/step - loss: 0.5837 - acc: 0.9146 - val_loss: 3.8997 - val_acc: 0.3448\n",
            "Epoch 161/300\n",
            "4/4 [==============================] - 1s 269ms/step - loss: 0.4470 - acc: 0.9167 - val_loss: 4.6883 - val_acc: 0.3448\n",
            "Epoch 162/300\n",
            "4/4 [==============================] - 1s 276ms/step - loss: 0.3898 - acc: 0.9313 - val_loss: 4.4200 - val_acc: 0.3103\n",
            "Epoch 163/300\n",
            "4/4 [==============================] - 1s 269ms/step - loss: 0.2952 - acc: 0.9484 - val_loss: 4.0993 - val_acc: 0.2759\n",
            "Epoch 164/300\n",
            "4/4 [==============================] - 1s 268ms/step - loss: 0.3697 - acc: 0.9521 - val_loss: 4.4687 - val_acc: 0.3103\n",
            "Epoch 165/300\n",
            "4/4 [==============================] - 1s 271ms/step - loss: 0.2721 - acc: 0.9411 - val_loss: 3.9648 - val_acc: 0.3103\n",
            "Epoch 166/300\n",
            "4/4 [==============================] - 1s 271ms/step - loss: 0.5148 - acc: 0.9208 - val_loss: 4.1813 - val_acc: 0.2759\n",
            "Epoch 167/300\n",
            "4/4 [==============================] - 1s 269ms/step - loss: 0.3370 - acc: 0.9521 - val_loss: 3.5665 - val_acc: 0.3448\n",
            "Epoch 168/300\n",
            "4/4 [==============================] - 1s 274ms/step - loss: 0.7462 - acc: 0.8734 - val_loss: 5.1398 - val_acc: 0.3103\n",
            "Epoch 169/300\n",
            "4/4 [==============================] - 1s 269ms/step - loss: 0.5198 - acc: 0.9219 - val_loss: 5.6781 - val_acc: 0.3793\n",
            "Epoch 170/300\n",
            "4/4 [==============================] - 1s 267ms/step - loss: 0.4376 - acc: 0.9401 - val_loss: 6.0926 - val_acc: 0.2759\n",
            "Epoch 171/300\n",
            "4/4 [==============================] - 1s 269ms/step - loss: 0.4720 - acc: 0.9062 - val_loss: 6.0483 - val_acc: 0.3103\n",
            "Epoch 172/300\n",
            "4/4 [==============================] - 1s 274ms/step - loss: 0.4997 - acc: 0.9443 - val_loss: 6.0803 - val_acc: 0.2759\n",
            "Epoch 173/300\n",
            "4/4 [==============================] - 1s 269ms/step - loss: 0.3293 - acc: 0.9604 - val_loss: 6.3868 - val_acc: 0.2759\n",
            "Epoch 174/300\n",
            "4/4 [==============================] - 1s 272ms/step - loss: 0.3353 - acc: 0.9385 - val_loss: 6.4307 - val_acc: 0.3448\n",
            "Epoch 175/300\n",
            "4/4 [==============================] - 1s 275ms/step - loss: 0.2283 - acc: 0.9620 - val_loss: 6.5011 - val_acc: 0.3448\n",
            "Epoch 176/300\n",
            "4/4 [==============================] - 1s 269ms/step - loss: 0.5889 - acc: 0.9297 - val_loss: 6.0417 - val_acc: 0.3103\n",
            "Epoch 177/300\n",
            "4/4 [==============================] - 1s 278ms/step - loss: 0.3354 - acc: 0.9406 - val_loss: 6.4744 - val_acc: 0.3793\n",
            "Epoch 178/300\n",
            "4/4 [==============================] - 1s 270ms/step - loss: 0.3650 - acc: 0.9568 - val_loss: 5.5694 - val_acc: 0.3103\n",
            "Epoch 179/300\n",
            "4/4 [==============================] - 1s 270ms/step - loss: 0.3634 - acc: 0.9516 - val_loss: 5.3672 - val_acc: 0.3103\n",
            "Epoch 180/300\n",
            "4/4 [==============================] - 1s 269ms/step - loss: 0.2802 - acc: 0.9411 - val_loss: 6.3330 - val_acc: 0.3448\n",
            "Epoch 181/300\n",
            "4/4 [==============================] - 1s 270ms/step - loss: 0.3407 - acc: 0.9583 - val_loss: 6.3417 - val_acc: 0.2759\n",
            "Epoch 182/300\n",
            "4/4 [==============================] - 1s 269ms/step - loss: 0.3195 - acc: 0.9391 - val_loss: 4.6327 - val_acc: 0.3793\n",
            "Epoch 183/300\n",
            "4/4 [==============================] - 1s 272ms/step - loss: 0.3408 - acc: 0.9526 - val_loss: 5.5597 - val_acc: 0.4483\n",
            "Epoch 184/300\n",
            "4/4 [==============================] - 1s 271ms/step - loss: 0.1641 - acc: 0.9698 - val_loss: 5.4459 - val_acc: 0.3793\n",
            "Epoch 185/300\n",
            "4/4 [==============================] - 1s 271ms/step - loss: 0.2810 - acc: 0.9568 - val_loss: 5.2450 - val_acc: 0.3103\n",
            "Epoch 186/300\n",
            "4/4 [==============================] - 1s 266ms/step - loss: 0.2129 - acc: 0.9651 - val_loss: 5.7393 - val_acc: 0.2759\n",
            "Epoch 187/300\n",
            "4/4 [==============================] - 1s 274ms/step - loss: 0.3585 - acc: 0.9542 - val_loss: 6.4420 - val_acc: 0.3103\n",
            "Epoch 188/300\n",
            "4/4 [==============================] - 1s 268ms/step - loss: 0.2568 - acc: 0.9693 - val_loss: 6.0724 - val_acc: 0.3448\n",
            "Epoch 189/300\n",
            "4/4 [==============================] - 1s 268ms/step - loss: 0.3052 - acc: 0.9667 - val_loss: 6.8842 - val_acc: 0.3448\n",
            "Epoch 190/300\n",
            "4/4 [==============================] - 1s 272ms/step - loss: 0.1838 - acc: 0.9656 - val_loss: 6.5238 - val_acc: 0.3448\n",
            "Epoch 191/300\n",
            "4/4 [==============================] - 1s 270ms/step - loss: 0.1959 - acc: 0.9573 - val_loss: 6.4608 - val_acc: 0.3448\n",
            "Epoch 192/300\n",
            "4/4 [==============================] - 1s 276ms/step - loss: 0.1488 - acc: 0.9698 - val_loss: 6.5018 - val_acc: 0.3103\n",
            "Epoch 193/300\n",
            "4/4 [==============================] - 1s 271ms/step - loss: 0.1613 - acc: 0.9839 - val_loss: 5.9179 - val_acc: 0.3448\n",
            "Epoch 194/300\n",
            "4/4 [==============================] - 1s 270ms/step - loss: 0.2239 - acc: 0.9719 - val_loss: 6.4336 - val_acc: 0.3103\n",
            "Epoch 195/300\n",
            "4/4 [==============================] - 1s 270ms/step - loss: 0.1495 - acc: 0.9474 - val_loss: 5.1063 - val_acc: 0.3448\n",
            "Epoch 196/300\n",
            "4/4 [==============================] - 1s 277ms/step - loss: 0.1573 - acc: 0.9734 - val_loss: 6.2982 - val_acc: 0.3448\n",
            "Epoch 197/300\n",
            "4/4 [==============================] - 1s 269ms/step - loss: 0.1192 - acc: 0.9854 - val_loss: 5.8175 - val_acc: 0.3103\n",
            "Epoch 198/300\n",
            "4/4 [==============================] - 1s 273ms/step - loss: 0.4585 - acc: 0.9490 - val_loss: 6.0742 - val_acc: 0.3448\n",
            "Epoch 199/300\n",
            "4/4 [==============================] - 1s 274ms/step - loss: 0.2219 - acc: 0.9771 - val_loss: 6.7416 - val_acc: 0.3793\n",
            "Epoch 200/300\n",
            "4/4 [==============================] - 1s 273ms/step - loss: 0.1535 - acc: 0.9729 - val_loss: 6.9163 - val_acc: 0.3448\n",
            "Epoch 201/300\n",
            "4/4 [==============================] - 1s 268ms/step - loss: 0.2352 - acc: 0.9635 - val_loss: 6.4163 - val_acc: 0.3448\n",
            "Epoch 202/300\n",
            "4/4 [==============================] - 1s 267ms/step - loss: 0.2259 - acc: 0.9677 - val_loss: 7.3890 - val_acc: 0.2069\n",
            "Epoch 203/300\n",
            "4/4 [==============================] - 1s 268ms/step - loss: 0.3111 - acc: 0.9594 - val_loss: 6.5195 - val_acc: 0.2759\n",
            "Epoch 204/300\n",
            "4/4 [==============================] - 1s 272ms/step - loss: 0.2099 - acc: 0.9755 - val_loss: 6.4888 - val_acc: 0.2759\n",
            "Epoch 205/300\n",
            "4/4 [==============================] - 1s 267ms/step - loss: 0.3034 - acc: 0.9521 - val_loss: 7.6463 - val_acc: 0.2414\n",
            "Epoch 206/300\n",
            "4/4 [==============================] - 1s 272ms/step - loss: 0.4446 - acc: 0.9656 - val_loss: 7.4546 - val_acc: 0.2759\n",
            "Epoch 207/300\n",
            "4/4 [==============================] - 1s 270ms/step - loss: 0.1743 - acc: 0.9771 - val_loss: 7.8072 - val_acc: 0.2414\n",
            "Epoch 208/300\n",
            "4/4 [==============================] - 1s 272ms/step - loss: 0.1843 - acc: 0.9667 - val_loss: 8.2874 - val_acc: 0.2759\n",
            "Epoch 209/300\n",
            "4/4 [==============================] - 1s 265ms/step - loss: 0.1533 - acc: 0.9901 - val_loss: 7.3660 - val_acc: 0.3103\n",
            "Epoch 210/300\n",
            "4/4 [==============================] - 1s 269ms/step - loss: 0.3143 - acc: 0.9609 - val_loss: 7.7107 - val_acc: 0.3103\n",
            "Epoch 211/300\n",
            "4/4 [==============================] - 1s 269ms/step - loss: 0.2161 - acc: 0.9771 - val_loss: 8.0946 - val_acc: 0.3793\n",
            "Epoch 212/300\n",
            "4/4 [==============================] - 1s 272ms/step - loss: 0.2260 - acc: 0.9729 - val_loss: 7.6625 - val_acc: 0.3103\n",
            "Epoch 213/300\n",
            "4/4 [==============================] - 1s 272ms/step - loss: 0.5301 - acc: 0.9500 - val_loss: 7.7177 - val_acc: 0.3448\n",
            "Epoch 214/300\n",
            "4/4 [==============================] - 1s 272ms/step - loss: 0.1795 - acc: 0.9646 - val_loss: 7.5631 - val_acc: 0.4138\n",
            "Epoch 215/300\n",
            "4/4 [==============================] - 1s 274ms/step - loss: 0.1889 - acc: 0.9734 - val_loss: 6.7182 - val_acc: 0.3793\n",
            "Epoch 216/300\n",
            "4/4 [==============================] - 1s 272ms/step - loss: 0.1080 - acc: 0.9901 - val_loss: 7.5430 - val_acc: 0.4138\n",
            "Epoch 217/300\n",
            "4/4 [==============================] - 1s 276ms/step - loss: 0.1963 - acc: 0.9812 - val_loss: 7.0823 - val_acc: 0.4138\n",
            "Epoch 218/300\n",
            "4/4 [==============================] - 1s 269ms/step - loss: 0.2399 - acc: 0.9740 - val_loss: 6.5008 - val_acc: 0.3448\n",
            "Epoch 219/300\n",
            "4/4 [==============================] - 1s 272ms/step - loss: 0.3906 - acc: 0.9724 - val_loss: 7.6153 - val_acc: 0.3793\n",
            "Epoch 220/300\n",
            "4/4 [==============================] - 1s 271ms/step - loss: 0.0832 - acc: 0.9870 - val_loss: 6.6725 - val_acc: 0.4483\n",
            "Epoch 221/300\n",
            "4/4 [==============================] - 1s 268ms/step - loss: 0.0527 - acc: 0.9870 - val_loss: 6.5314 - val_acc: 0.4828\n",
            "Epoch 222/300\n",
            "4/4 [==============================] - 1s 276ms/step - loss: 0.1555 - acc: 0.9786 - val_loss: 5.7656 - val_acc: 0.3793\n",
            "Epoch 223/300\n",
            "4/4 [==============================] - 1s 270ms/step - loss: 0.1580 - acc: 0.9839 - val_loss: 5.8886 - val_acc: 0.3448\n",
            "Epoch 224/300\n",
            "4/4 [==============================] - 1s 266ms/step - loss: 0.0850 - acc: 0.9859 - val_loss: 5.8999 - val_acc: 0.4483\n",
            "Epoch 225/300\n",
            "4/4 [==============================] - 1s 275ms/step - loss: 0.0799 - acc: 0.9745 - val_loss: 6.6693 - val_acc: 0.4483\n",
            "Epoch 226/300\n",
            "4/4 [==============================] - 1s 270ms/step - loss: 0.0756 - acc: 0.9943 - val_loss: 6.2439 - val_acc: 0.3793\n",
            "Epoch 227/300\n",
            "4/4 [==============================] - 1s 267ms/step - loss: 0.0573 - acc: 0.9943 - val_loss: 6.6514 - val_acc: 0.3793\n",
            "Epoch 228/300\n",
            "4/4 [==============================] - 1s 268ms/step - loss: 0.1690 - acc: 0.9802 - val_loss: 7.1934 - val_acc: 0.4138\n",
            "Epoch 229/300\n",
            "4/4 [==============================] - 1s 270ms/step - loss: 0.1799 - acc: 0.9885 - val_loss: 7.2104 - val_acc: 0.4138\n",
            "Epoch 230/300\n",
            "4/4 [==============================] - 1s 268ms/step - loss: 0.0666 - acc: 0.9958 - val_loss: 7.2799 - val_acc: 0.3448\n",
            "Epoch 231/300\n",
            "4/4 [==============================] - 1s 270ms/step - loss: 0.0550 - acc: 0.9844 - val_loss: 7.7962 - val_acc: 0.3448\n",
            "Epoch 232/300\n",
            "4/4 [==============================] - 1s 273ms/step - loss: 0.1324 - acc: 0.9812 - val_loss: 7.6731 - val_acc: 0.3793\n",
            "Epoch 233/300\n",
            "4/4 [==============================] - 1s 271ms/step - loss: 0.0754 - acc: 0.9885 - val_loss: 6.5691 - val_acc: 0.3793\n",
            "Epoch 234/300\n",
            "4/4 [==============================] - 1s 276ms/step - loss: 0.0428 - acc: 0.9911 - val_loss: 7.7315 - val_acc: 0.3793\n",
            "Epoch 235/300\n",
            "4/4 [==============================] - 1s 266ms/step - loss: 0.0612 - acc: 0.9896 - val_loss: 7.4203 - val_acc: 0.3448\n",
            "Epoch 236/300\n",
            "4/4 [==============================] - 1s 268ms/step - loss: 0.1375 - acc: 0.9833 - val_loss: 7.6642 - val_acc: 0.3103\n",
            "Epoch 237/300\n",
            "4/4 [==============================] - 1s 269ms/step - loss: 0.2980 - acc: 0.9812 - val_loss: 7.3344 - val_acc: 0.3103\n",
            "Epoch 238/300\n",
            "4/4 [==============================] - 1s 268ms/step - loss: 0.1506 - acc: 0.9844 - val_loss: 8.6933 - val_acc: 0.3103\n",
            "Epoch 239/300\n",
            "4/4 [==============================] - 1s 271ms/step - loss: 0.0990 - acc: 0.9922 - val_loss: 7.7541 - val_acc: 0.3793\n",
            "Epoch 240/300\n",
            "4/4 [==============================] - 1s 271ms/step - loss: 0.2013 - acc: 0.9818 - val_loss: 6.6982 - val_acc: 0.3793\n",
            "Epoch 241/300\n",
            "4/4 [==============================] - 1s 272ms/step - loss: 0.0868 - acc: 0.9917 - val_loss: 7.7600 - val_acc: 0.3793\n",
            "Epoch 242/300\n",
            "4/4 [==============================] - 1s 268ms/step - loss: 0.0538 - acc: 0.9932 - val_loss: 6.7245 - val_acc: 0.3793\n",
            "Epoch 243/300\n",
            "4/4 [==============================] - 1s 267ms/step - loss: 0.0930 - acc: 0.9870 - val_loss: 7.1212 - val_acc: 0.3793\n",
            "Epoch 244/300\n",
            "4/4 [==============================] - 1s 275ms/step - loss: 0.1975 - acc: 0.9740 - val_loss: 7.4731 - val_acc: 0.5172\n",
            "Epoch 245/300\n",
            "4/4 [==============================] - 1s 272ms/step - loss: 0.1536 - acc: 0.9802 - val_loss: 7.1144 - val_acc: 0.4138\n",
            "Epoch 246/300\n",
            "4/4 [==============================] - 1s 270ms/step - loss: 0.2165 - acc: 0.9703 - val_loss: 8.0401 - val_acc: 0.4483\n",
            "Epoch 247/300\n",
            "4/4 [==============================] - 1s 271ms/step - loss: 0.0752 - acc: 0.9917 - val_loss: 8.0101 - val_acc: 0.4138\n",
            "Epoch 248/300\n",
            "4/4 [==============================] - 1s 267ms/step - loss: 0.0921 - acc: 0.9844 - val_loss: 8.0942 - val_acc: 0.4138\n",
            "Epoch 249/300\n",
            "4/4 [==============================] - 1s 270ms/step - loss: 0.0924 - acc: 0.9786 - val_loss: 8.5607 - val_acc: 0.4138\n",
            "Epoch 250/300\n",
            "4/4 [==============================] - 1s 274ms/step - loss: 0.0437 - acc: 0.9943 - val_loss: 8.2526 - val_acc: 0.4138\n",
            "Epoch 251/300\n",
            "4/4 [==============================] - 1s 272ms/step - loss: 0.1459 - acc: 0.9714 - val_loss: 6.7925 - val_acc: 0.3793\n",
            "Epoch 252/300\n",
            "4/4 [==============================] - 1s 270ms/step - loss: 0.0749 - acc: 0.9906 - val_loss: 6.0156 - val_acc: 0.4138\n",
            "Epoch 253/300\n",
            "4/4 [==============================] - 1s 271ms/step - loss: 0.1287 - acc: 0.9839 - val_loss: 5.4320 - val_acc: 0.4483\n",
            "Epoch 254/300\n",
            "4/4 [==============================] - 1s 272ms/step - loss: 0.0823 - acc: 0.9880 - val_loss: 6.7859 - val_acc: 0.3448\n",
            "Epoch 255/300\n",
            "4/4 [==============================] - 1s 283ms/step - loss: 0.1889 - acc: 0.9859 - val_loss: 7.6760 - val_acc: 0.3793\n",
            "Epoch 256/300\n",
            "4/4 [==============================] - 1s 268ms/step - loss: 0.1265 - acc: 0.9911 - val_loss: 7.5216 - val_acc: 0.3448\n",
            "Epoch 257/300\n",
            "4/4 [==============================] - 1s 268ms/step - loss: 0.0690 - acc: 0.9885 - val_loss: 6.6931 - val_acc: 0.4483\n",
            "Epoch 258/300\n",
            "4/4 [==============================] - 1s 269ms/step - loss: 0.0985 - acc: 0.9917 - val_loss: 7.2072 - val_acc: 0.3793\n",
            "Epoch 259/300\n",
            "4/4 [==============================] - 1s 270ms/step - loss: 0.0363 - acc: 0.9917 - val_loss: 7.2376 - val_acc: 0.3793\n",
            "Epoch 260/300\n",
            "4/4 [==============================] - 1s 270ms/step - loss: 0.0552 - acc: 0.9922 - val_loss: 7.3041 - val_acc: 0.3448\n",
            "Epoch 261/300\n",
            "4/4 [==============================] - 1s 267ms/step - loss: 0.0611 - acc: 0.9948 - val_loss: 8.1248 - val_acc: 0.3793\n",
            "Epoch 262/300\n",
            "4/4 [==============================] - 1s 263ms/step - loss: 0.1754 - acc: 0.9844 - val_loss: 8.5791 - val_acc: 0.4138\n",
            "Epoch 263/300\n",
            "4/4 [==============================] - 1s 273ms/step - loss: 0.0300 - acc: 0.9984 - val_loss: 8.1466 - val_acc: 0.4138\n",
            "Epoch 264/300\n",
            "4/4 [==============================] - 1s 269ms/step - loss: 0.1242 - acc: 0.9901 - val_loss: 7.7107 - val_acc: 0.4138\n",
            "Epoch 265/300\n",
            "4/4 [==============================] - 1s 272ms/step - loss: 0.1846 - acc: 0.9812 - val_loss: 6.8005 - val_acc: 0.4138\n",
            "Epoch 266/300\n",
            "4/4 [==============================] - 1s 270ms/step - loss: 0.1319 - acc: 0.9812 - val_loss: 7.6429 - val_acc: 0.4483\n",
            "Epoch 267/300\n",
            "4/4 [==============================] - 1s 270ms/step - loss: 0.0957 - acc: 0.9943 - val_loss: 6.6444 - val_acc: 0.4138\n",
            "Epoch 268/300\n",
            "4/4 [==============================] - 1s 270ms/step - loss: 0.1889 - acc: 0.9797 - val_loss: 7.1276 - val_acc: 0.4828\n",
            "Epoch 269/300\n",
            "4/4 [==============================] - 1s 274ms/step - loss: 0.1084 - acc: 0.9870 - val_loss: 8.6474 - val_acc: 0.3103\n",
            "Epoch 270/300\n",
            "4/4 [==============================] - 1s 271ms/step - loss: 0.2239 - acc: 0.9859 - val_loss: 7.1779 - val_acc: 0.3793\n",
            "Epoch 271/300\n",
            "4/4 [==============================] - 1s 269ms/step - loss: 0.2877 - acc: 0.9682 - val_loss: 7.1184 - val_acc: 0.4138\n",
            "Epoch 272/300\n",
            "4/4 [==============================] - 1s 274ms/step - loss: 0.1918 - acc: 0.9859 - val_loss: 7.5607 - val_acc: 0.3793\n",
            "Epoch 273/300\n",
            "4/4 [==============================] - 1s 269ms/step - loss: 0.1023 - acc: 0.9776 - val_loss: 7.1764 - val_acc: 0.4138\n",
            "Epoch 274/300\n",
            "4/4 [==============================] - 1s 272ms/step - loss: 0.2106 - acc: 0.9714 - val_loss: 7.7000 - val_acc: 0.3448\n",
            "Epoch 275/300\n",
            "4/4 [==============================] - 1s 269ms/step - loss: 0.1140 - acc: 0.9891 - val_loss: 8.1873 - val_acc: 0.3103\n",
            "Epoch 276/300\n",
            "4/4 [==============================] - 1s 266ms/step - loss: 0.1330 - acc: 0.9885 - val_loss: 8.0779 - val_acc: 0.4483\n",
            "Epoch 277/300\n",
            "4/4 [==============================] - 1s 266ms/step - loss: 0.0611 - acc: 0.9932 - val_loss: 8.4790 - val_acc: 0.4483\n",
            "Epoch 278/300\n",
            "4/4 [==============================] - 1s 268ms/step - loss: 0.1857 - acc: 0.9771 - val_loss: 7.9692 - val_acc: 0.4483\n",
            "Epoch 279/300\n",
            "4/4 [==============================] - 1s 264ms/step - loss: 0.1338 - acc: 0.9844 - val_loss: 6.3111 - val_acc: 0.4828\n",
            "Epoch 280/300\n",
            "4/4 [==============================] - 1s 268ms/step - loss: 0.1976 - acc: 0.9688 - val_loss: 6.2953 - val_acc: 0.4483\n",
            "Epoch 281/300\n",
            "4/4 [==============================] - 1s 274ms/step - loss: 0.2712 - acc: 0.9797 - val_loss: 6.3492 - val_acc: 0.4138\n",
            "Epoch 282/300\n",
            "4/4 [==============================] - 1s 277ms/step - loss: 0.1313 - acc: 0.9854 - val_loss: 7.1193 - val_acc: 0.4138\n",
            "Epoch 283/300\n",
            "4/4 [==============================] - 1s 269ms/step - loss: 0.1391 - acc: 0.9859 - val_loss: 7.2066 - val_acc: 0.4138\n",
            "Epoch 284/300\n",
            "4/4 [==============================] - 1s 271ms/step - loss: 0.1829 - acc: 0.9870 - val_loss: 7.7267 - val_acc: 0.4138\n",
            "Epoch 285/300\n",
            "4/4 [==============================] - 1s 272ms/step - loss: 0.2368 - acc: 0.9812 - val_loss: 8.5480 - val_acc: 0.4138\n",
            "Epoch 286/300\n",
            "4/4 [==============================] - 1s 274ms/step - loss: 0.1587 - acc: 0.9901 - val_loss: 8.5589 - val_acc: 0.4138\n",
            "Epoch 287/300\n",
            "4/4 [==============================] - 1s 269ms/step - loss: 0.1248 - acc: 0.9901 - val_loss: 8.2393 - val_acc: 0.3793\n",
            "Epoch 288/300\n",
            "4/4 [==============================] - 1s 268ms/step - loss: 0.1209 - acc: 0.9927 - val_loss: 8.1715 - val_acc: 0.3793\n",
            "Epoch 289/300\n",
            "4/4 [==============================] - 1s 274ms/step - loss: 0.0466 - acc: 0.9932 - val_loss: 8.3240 - val_acc: 0.3793\n",
            "Epoch 290/300\n",
            "4/4 [==============================] - 1s 268ms/step - loss: 0.0833 - acc: 0.9844 - val_loss: 8.6323 - val_acc: 0.3793\n",
            "Epoch 291/300\n",
            "4/4 [==============================] - 1s 281ms/step - loss: 0.1545 - acc: 0.9901 - val_loss: 9.0195 - val_acc: 0.3793\n",
            "Epoch 292/300\n",
            "4/4 [==============================] - 1s 276ms/step - loss: 0.2741 - acc: 0.9750 - val_loss: 7.6610 - val_acc: 0.3793\n",
            "Epoch 293/300\n",
            "4/4 [==============================] - 1s 272ms/step - loss: 0.2956 - acc: 0.9714 - val_loss: 7.6482 - val_acc: 0.3793\n",
            "Epoch 294/300\n",
            "4/4 [==============================] - 1s 273ms/step - loss: 0.0506 - acc: 0.9917 - val_loss: 6.7387 - val_acc: 0.3793\n",
            "Epoch 295/300\n",
            "4/4 [==============================] - 1s 272ms/step - loss: 0.0597 - acc: 0.9885 - val_loss: 6.2269 - val_acc: 0.4483\n",
            "Epoch 296/300\n",
            "4/4 [==============================] - 1s 272ms/step - loss: 0.0681 - acc: 0.9958 - val_loss: 7.2488 - val_acc: 0.3793\n",
            "Epoch 297/300\n",
            "4/4 [==============================] - 1s 268ms/step - loss: 0.0693 - acc: 0.9932 - val_loss: 8.2382 - val_acc: 0.3793\n",
            "Epoch 298/300\n",
            "4/4 [==============================] - 1s 271ms/step - loss: 0.0323 - acc: 0.9984 - val_loss: 8.1071 - val_acc: 0.3793\n",
            "Epoch 299/300\n",
            "4/4 [==============================] - 1s 273ms/step - loss: 0.0683 - acc: 0.9932 - val_loss: 7.6771 - val_acc: 0.4138\n",
            "Epoch 300/300\n",
            "4/4 [==============================] - 1s 265ms/step - loss: 0.0455 - acc: 0.9958 - val_loss: 7.5446 - val_acc: 0.4483\n"
          ],
          "name": "stdout"
        }
      ]
    },
    {
      "cell_type": "code",
      "metadata": {
        "id": "-6UisxXtqWCu"
      },
      "source": [
        "\n",
        "model.save('semiconductor_model3_64_300epochs_2.h5')  "
      ],
      "execution_count": null,
      "outputs": []
    },
    {
      "cell_type": "code",
      "metadata": {
        "colab": {
          "base_uri": "https://localhost:8080/",
          "height": 922
        },
        "id": "-kDPKicgPsRo",
        "outputId": "5295fb97-e980-4ef7-ca52-5aec3f7e882f"
      },
      "source": [
        "\n",
        "#plot the training and validation accuracy and loss at each epoch\n",
        "loss = history.history['loss']\n",
        "val_loss = history.history['val_loss']\n",
        "epochs = range(1, len(loss) + 1)\n",
        "plt.plot(epochs, loss, 'y', label='Training loss')\n",
        "plt.plot(epochs, val_loss, 'r', label='Validation loss')\n",
        "plt.title('Training and validation loss')\n",
        "plt.xlabel('Epochs')\n",
        "plt.ylabel('Loss')\n",
        "plt.legend()\n",
        "plt.show()\n",
        "\n",
        "acc = history.history['acc']\n",
        "val_acc = history.history['val_acc']\n",
        "plt.plot(epochs, acc, 'y', label='Training acc')\n",
        "plt.plot(epochs, val_acc, 'r', label='Validation acc')\n",
        "plt.title('Training and validation accuracy')\n",
        "plt.xlabel('Epochs')\n",
        "plt.ylabel('Accuracy')\n",
        "plt.legend()\n",
        "plt.show()"
      ],
      "execution_count": null,
      "outputs": [
        {
          "output_type": "display_data",
          "data": {
            "image/png": "[encoded data removed]",
            "text/plain": [
              "<Figure size 640x480 with 1 Axes>"
            ]
          },
          "metadata": {
            "tags": []
          }
        },
        {
          "output_type": "display_data",
          "data": {
            "image/png": "[encoded data removed]",
            "text/plain": [
              "<Figure size 640x480 with 1 Axes>"
            ]
          },
          "metadata": {
            "tags": []
          }
        }
      ]
    },
    {
      "cell_type": "code",
      "metadata": {
        "colab": {
          "base_uri": "https://localhost:8080/",
          "height": 453
        },
        "id": "fk7SXlr0PsUF",
        "outputId": "b1c500d0-5027-4c6d-8c59-102d19d0ed69"
      },
      "source": [
        "n=23  #Select the index of image to be loaded for testing\n",
        "img = X_test[n]\n",
        "plt.imshow(tf.squeeze(img) )\n"
      ],
      "execution_count": null,
      "outputs": [
        {
          "output_type": "execute_result",
          "data": {
            "text/plain": [
              "<matplotlib.image.AxesImage at 0x7fdec6d91110>"
            ]
          },
          "metadata": {
            "tags": []
          },
          "execution_count": 180
        },
        {
          "output_type": "display_data",
          "data": {
            "image/png": "[encoded data removed]",
            "text/plain": [
              "<Figure size 640x480 with 1 Axes>"
            ]
          },
          "metadata": {
            "tags": []
          }
        }
      ]
    },
    {
      "cell_type": "code",
      "metadata": {
        "colab": {
          "base_uri": "https://localhost:8080/"
        },
        "id": "qJwPKOusQOl1",
        "outputId": "e1bf9208-b6b2-4982-be75-1c2b68a28af8"
      },
      "source": [
        "input_img = np.expand_dims(img, axis=0) #Expand dims so the input is (num images, x, y, c)\n",
        "print(\"The prediction for this image is: \", model.predict(input_img))\n",
        "print(\"The actual label for this image is: \", y_test[n])"
      ],
      "execution_count": null,
      "outputs": [
        {
          "output_type": "stream",
          "text": [
            "The prediction for this image is:  [[1.0644295]]\n",
            "The actual label for this image is:  [0]\n"
          ],
          "name": "stdout"
        }
      ]
    },
    {
      "cell_type": "code",
      "metadata": {
        "id": "lNelhON1QOqp"
      },
      "source": [
        "from keras.models import load_model\n",
        "# # load model\n",
        "model = load_model('semiconductor_model3_300epochs_2.h5')\n",
        "\n"
      ],
      "execution_count": null,
      "outputs": []
    },
    {
      "cell_type": "code",
      "metadata": {
        "colab": {
          "base_uri": "https://localhost:8080/"
        },
        "id": "DNB_5RXbQR3M",
        "outputId": "0225c321-7f06-4e8e-80be-33953788d03a"
      },
      "source": [
        "\n",
        "_, acc = model.evaluate(X_test, y_test)\n",
        "print(\"Accuracy = \", (acc * 100.0), \"%\")"
      ],
      "execution_count": null,
      "outputs": [
        {
          "output_type": "stream",
          "text": [
            "3/3 [==============================] - 1s 22ms/step - loss: 10.9182 - acc: 0.1667\n",
            "Accuracy =  16.66666716337204 %\n"
          ],
          "name": "stdout"
        }
      ]
    },
    {
      "cell_type": "code",
      "metadata": {
        "id": "12_ISES6QR5j"
      },
      "source": [
        ""
      ],
      "execution_count": null,
      "outputs": []
    },
    {
      "cell_type": "code",
      "metadata": {
        "id": "31Z5RReMQR8T"
      },
      "source": [
        ""
      ],
      "execution_count": null,
      "outputs": []
    }
  ]
}